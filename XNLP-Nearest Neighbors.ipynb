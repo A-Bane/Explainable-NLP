{
  "nbformat": 4,
  "nbformat_minor": 0,
  "metadata": {
    "accelerator": "GPU",
    "colab": {
      "name": "Copy of MG-XAI-Modified.ipynb",
      "provenance": [],
      "collapsed_sections": []
    },
    "kernelspec": {
      "display_name": "Python 3",
      "name": "python3"
    },
    "language_info": {
      "name": "python"
    }
  },
  "cells": [
    {
      "cell_type": "markdown",
      "metadata": {
        "id": "r7mLsYTuCDWJ"
      },
      "source": [
        "## Import"
      ]
    },
    {
      "cell_type": "code",
      "metadata": {
        "id": "qvvXNYmEAr9U"
      },
      "source": [
        "# Import\n",
        "import numpy as np\n",
        "import pandas as pd\n",
        "from keras.models import Sequential\n",
        "from keras.layers import Dense, Embedding, LSTM, SpatialDropout1D, Flatten, Dropout\n",
        "from sklearn.model_selection import train_test_split\n",
        "from sklearn.feature_extraction.text import CountVectorizer\n",
        "from keras.preprocessing.text import Tokenizer\n",
        "from keras.preprocessing.sequence import pad_sequences\n",
        "from keras.utils.np_utils import to_categorical\n",
        "import re\n",
        "from sklearn.datasets import load_files\n",
        "from keras.layers import Dense,Conv1D,MaxPooling1D\n",
        "from keras import optimizers\n",
        "import random\n",
        "from keras import backend as K\n",
        "import cv2\n",
        "import keras\n",
        "import matplotlib.pyplot as plt\n",
        "from sklearn.metrics import precision_score, recall_score, f1_score,accuracy_score\n",
        "import gensim\n",
        "from nltk.stem import WordNetLemmatizer, SnowballStemmer\n",
        "from nltk.stem.porter import *\n",
        "import nltk\n",
        "from math import sqrt"
      ],
      "execution_count": null,
      "outputs": []
    },
    {
      "cell_type": "markdown",
      "metadata": {
        "id": "hfDjf8rbCLWt"
      },
      "source": [
        "## Load files from Drive"
      ]
    },
    {
      "cell_type": "code",
      "metadata": {
        "colab": {
          "base_uri": "https://localhost:8080/"
        },
        "id": "D2RUWjG8AxYu",
        "outputId": "823c9243-ab6c-4491-a05a-07f58815f426"
      },
      "source": [
        "# Load files from Drive\n",
        "from google.colab import drive\n",
        "drive.mount('/gdrive/')\n",
        "dataset = load_files('/gdrive/My Drive/txt_sentoken')\n",
        "features, labels = dataset.data, dataset.target"
      ],
      "execution_count": null,
      "outputs": [
        {
          "name": "stdout",
          "output_type": "stream",
          "text": [
            "Drive already mounted at /gdrive/; to attempt to forcibly remount, call drive.mount(\"/gdrive/\", force_remount=True).\n"
          ]
        }
      ]
    },
    {
      "cell_type": "markdown",
      "metadata": {
        "id": "yQFSb8tuCuzq"
      },
      "source": [
        "### Cleaning corpus"
      ]
    },
    {
      "cell_type": "code",
      "metadata": {
        "id": "CIlzkmm5IBIn"
      },
      "source": [
        "# Cleaning corpus\n",
        "\n",
        "corpus = []\n",
        "corpus1 = []\n",
        "for i in range(len(features)):\n",
        "    review = re.sub(r'\\\\n', ' ', str(features[i]))\n",
        "    corpus1.append(review)\n",
        "\n",
        "for i in range(len(corpus1)):\n",
        "    # Removing all punctuation marks and non characters\n",
        "    review = re.sub(r'\\W', ' ', str(corpus1[i]))\n",
        "\n",
        "    # Converting into lowercase\n",
        "    review = review.lower()\n",
        "\n",
        "    # Removing b from starting of string\n",
        "    review = re.sub(r'^b\\s+', '', review)\n",
        "\n",
        "    # Removing all single characters\n",
        "    review = re.sub(r'\\s+[a-z]\\s+', ' ', review)\n",
        "\n",
        "    # Removing all words which is of length one\n",
        "    review = re.sub(r'[^a-z]\\s+', ' ', review)\n",
        "\n",
        "    # Removing all extra spaces\n",
        "    review = re.sub(r'\\s+', ' ', review)\n",
        "\n",
        "    # Adding cleaned reviews in corpus\n",
        "    corpus.append(review)"
      ],
      "execution_count": null,
      "outputs": []
    },
    {
      "cell_type": "code",
      "metadata": {
        "colab": {
          "base_uri": "https://localhost:8080/"
        },
        "id": "VC6JUda_IFEh",
        "outputId": "e6cb6721-f05d-46c9-af9b-65824a707b9e"
      },
      "source": [
        "nltk.download('wordnet')\n",
        "stemmer = SnowballStemmer('english')"
      ],
      "execution_count": null,
      "outputs": [
        {
          "name": "stdout",
          "output_type": "stream",
          "text": [
            "[nltk_data] Downloading package wordnet to /root/nltk_data...\n",
            "[nltk_data]   Package wordnet is already up-to-date!\n"
          ]
        }
      ]
    },
    {
      "cell_type": "code",
      "metadata": {
        "id": "i7q69C5aIGvq"
      },
      "source": [
        "def lemmatize_stemming(text): #Lemmatization and Stemming\n",
        "    return stemmer.stem(WordNetLemmatizer().lemmatize(text, pos='v'))\n",
        "\n",
        "\n",
        "def preprocess(text):  # Preprocess text\n",
        "    result = []\n",
        "    for token in gensim.utils.simple_preprocess(text):\n",
        "        if token not in gensim.parsing.preprocessing.STOPWORDS and len(token) > 3:\n",
        "            result.append(lemmatize_stemming(token))\n",
        "    return result\n",
        "\n",
        "\n",
        "processed_docs = []\n",
        "for i in corpus:\n",
        "    processed_docs.append(preprocess(i)) # All documents after preprocessing"
      ],
      "execution_count": null,
      "outputs": []
    },
    {
      "cell_type": "code",
      "metadata": {
        "id": "tMTdRqryII9M"
      },
      "source": [
        "tokenizer = Tokenizer(num_words=1500, split=' ') # Tokenization\n",
        "\n",
        "tokenizer.fit_on_texts(processed_docs)\n",
        "\n",
        "X = tokenizer.texts_to_sequences(processed_docs)\n",
        "\n",
        "X = pad_sequences(X)"
      ],
      "execution_count": null,
      "outputs": []
    },
    {
      "cell_type": "code",
      "metadata": {
        "colab": {
          "base_uri": "https://localhost:8080/"
        },
        "id": "9qnU4EsdOFJg",
        "outputId": "70e48b0d-6532-45a5-f50f-affbb5d38801"
      },
      "source": [
        "labels = labels.reshape(-1, 1)\n",
        "Y = np.ravel(labels)\n",
        "# One hot encoding\n",
        "Y = pd.get_dummies(Y)\n",
        "Y = np.array(Y)\n",
        "print(Y)"
      ],
      "execution_count": null,
      "outputs": [
        {
          "name": "stdout",
          "output_type": "stream",
          "text": [
            "[[1 0]\n",
            " [0 1]\n",
            " [0 1]\n",
            " ...\n",
            " [0 1]\n",
            " [1 0]\n",
            " [1 0]]\n"
          ]
        }
      ]
    },
    {
      "cell_type": "code",
      "metadata": {
        "colab": {
          "base_uri": "https://localhost:8080/"
        },
        "id": "EKu0L6z2OHTm",
        "outputId": "e6138a80-e0b6-494c-ad3f-685f739d631a"
      },
      "source": [
        "X.shape\n",
        "#2000 samples are present"
      ],
      "execution_count": null,
      "outputs": [
        {
          "data": {
            "text/plain": [
              "(2000, 751)"
            ]
          },
          "execution_count": 61,
          "metadata": {
            "tags": []
          },
          "output_type": "execute_result"
        }
      ]
    },
    {
      "cell_type": "markdown",
      "metadata": {
        "id": "TI4rM3QpDpN7"
      },
      "source": [
        "## Building the model"
      ]
    },
    {
      "cell_type": "code",
      "metadata": {
        "id": "89MtqwoMIoDj"
      },
      "source": [
        "# Building the model\n",
        "def build_model(inp_length):\n",
        "  embedding_vector_length = 32\n",
        "  model = Sequential()\n",
        "  model.add(Embedding(5000, embedding_vector_length, input_length=inp_length))\n",
        "  model.add(Conv1D(filters=32, kernel_size=3, padding='same', activation='relu'))\n",
        "  model.add(MaxPooling1D(pool_size=2))\n",
        "  model.add(LSTM(100))\n",
        "  model.add(Dense(2, activation='sigmoid'))\n",
        "  #model.compile(loss='binary_crossentropy', optimizer='adam', metrics=['accuracy'])\n",
        "  #print(model.summary())\n",
        "  return model"
      ],
      "execution_count": null,
      "outputs": []
    },
    {
      "cell_type": "markdown",
      "metadata": {
        "id": "3D24Az9XDzSp"
      },
      "source": [
        "### Functions"
      ]
    },
    {
      "cell_type": "code",
      "metadata": {
        "id": "Mdi09jdKLB2d"
      },
      "source": [
        "def mini_batches(X, Y, mini_batch_size=64):\n",
        "    # Generate batches\n",
        "\n",
        "    m = X.shape[0]  # number of training examples=1700\n",
        "    mini_batches = []\n",
        "    \n",
        "\n",
        "    # Step 2: Partition (shuffled_X, shuffled_Y). Minus the end case.\n",
        "    num_complete_minibatches = int(np.floor(m / mini_batch_size))  # number of mini batches of size mini_batch_size in your partitionning=27\n",
        "    # print(num_complete_minibatches,\"-------------------\")\n",
        "    for k in range(0, num_complete_minibatches):\n",
        "        mini_batch_X = X[k * mini_batch_size: k * mini_batch_size + mini_batch_size, :]\n",
        "        # print(len(mini_batch_X))\n",
        "        mini_batch_Y = Y[k * mini_batch_size: k * mini_batch_size + mini_batch_size]\n",
        "        mini_batch = (mini_batch_X, mini_batch_Y)\n",
        "        mini_batches.append(mini_batch)\n",
        "        \n",
        "\n",
        "    # Handling the end case (last mini-batch < mini_batch_size)\n",
        "    if m % mini_batch_size != 0:\n",
        "        mini_batch_X = X[num_complete_minibatches * mini_batch_size: m, :]\n",
        "        mini_batch_Y = Y[num_complete_minibatches * mini_batch_size: m]\n",
        "        mini_batch = (mini_batch_X, mini_batch_Y)\n",
        "        mini_batches.append(mini_batch)\n",
        "\n",
        "    return mini_batches\n",
        "\n",
        "\n",
        "def lr_scheduler(epoch, maxepoch, max_lr=0.01, min_lr=0.005, cool_down_lr=0.0005):\n",
        "\n",
        "      learning_rate = max_lr + (epoch * (min_lr - max_lr) / maxepoch)\n",
        "\n",
        "      return learning_rate\n"
      ],
      "execution_count": null,
      "outputs": []
    },
    {
      "cell_type": "code",
      "metadata": {
        "id": "LGT4akEmIupF"
      },
      "source": [
        "def train(args): \n",
        "\n",
        " \n",
        "  batch_size = args[\"batch_size\"]\n",
        "  maxepoch = args[\"maxepoches\"]\n",
        "  min_lr = args[\"min_lr\"]\n",
        "  max_lr = args[\"max_lr\"]\n",
        "  cool_down_lr = args[\"cool_down_lr\"]\n",
        "  lr = args[\"lr\"]\n",
        "  optimizer = args[\"optimizer\"]\n",
        "  \n",
        "  num_classes = args[\"num_classes\"]\n",
        "\n",
        "  x_train = args[\"x_train\"] \n",
        "  y_train = args[\"y_train\"] \n",
        "  x_test = args[\"x_test\"] \n",
        "  y_test = args[\"y_test\"] \n",
        "\n",
        "  num_samples = (x_train.shape)[0]\n",
        "  num_minibatches = int(np.ceil(num_samples / batch_size))\n",
        "\n",
        "  total_delta_weights_dense2 = [0] * num_samples\n",
        "  print(\"Number of MiniBatches:\", num_minibatches)\n",
        "\n",
        "  model = build_model(X.shape[0])\n",
        "  \n",
        "  if optimizer == \"sgd\":\n",
        "    opt = optimizers.SGD(lr=lr, momentum=0.9, nesterov=True)\n",
        "  elif optimizer == \"adam\":\n",
        "    opt = optimizers.Adam(learning_rate=min_lr)\n",
        "  model.compile(loss='binary_crossentropy', optimizer='adam', metrics=['accuracy'])\n",
        "  model.summary()\n",
        "  \n",
        "  \n",
        "  for epoch in range(maxepoch):\n",
        "    num_minibatches = int(num_samples / batch_size)\n",
        "    minibatches = mini_batches(x_train, y_train, batch_size)\n",
        "\n",
        " \n",
        "    learning_rate = lr_scheduler(epoch=epoch, maxepoch=maxepoch, max_lr=max_lr, min_lr=min_lr, cool_down_lr=cool_down_lr)\n",
        "    \n",
        "    if optimizer == \"sgd\":\n",
        "      opt = optimizers.SGD(learning_rate=learning_rate, momentum=0.9, nesterov=True)\n",
        "    elif optimizer == \"adam\":\n",
        "      opt = optimizers.Adam(learning_rate=learning_rate)\n",
        "    model.compile(loss='binary_crossentropy', optimizer='adam', metrics=['accuracy'])\n",
        "\n",
        "    print(\"---------------------------------------------------\", \"Epoch:\", epoch+1, \"Learning Rate:\", learning_rate, \"-----------------------------------------------------------------------\")\n",
        "  \n",
        "    counter = 0\n",
        "    count = 0\n",
        "\n",
        "    for minibatch in minibatches:\n",
        "        \n",
        "        (train_sample_x, train_sample_y) = minibatch\n",
        "        # print(len(train_sample_x)) Each minibatch has 64 elements\n",
        "\n",
        "        # print(\"SHAPE\",len(model.layers[-1].get_weights())) SHAPE: 2\n",
        "        \n",
        "        \n",
        "\n",
        "        pre_weights_dense2 = np.array(model.layers[-1].get_weights()[0]) # before training 64 samples (100 weights)\n",
        "        \n",
        "\n",
        "        counter += 1\n",
        "        \n",
        "\n",
        "        model.fit(train_sample_x, train_sample_y,\n",
        "                  batch_size=batch_size,\n",
        "                  shuffle=False, \n",
        "                  epochs=1,\n",
        "                  verbose=0)\n",
        "\n",
        "      \n",
        "        post_weights_dense2 = np.array(model.layers[-1].get_weights()[0])# after training 64 samples (100 weights)\n",
        "        \n",
        "        \n",
        "        delta_weights_dense2 = np.subtract(post_weights_dense2, pre_weights_dense2) # len=100 \n",
        "        #print(len(delta_weights_dense2),\"OVER\")\n",
        "\n",
        "        for i in range(len(train_sample_x)): # for each of 64 training samples\n",
        "          total_delta_weights_dense2[i + count] = np.add(total_delta_weights_dense2[i + count], delta_weights_dense2)\n",
        "          # delta_weights_dense2 is repeated for each sample. \n",
        "\n",
        "        count += len(train_sample_x)\n",
        "    \n",
        "    print(\"Train Scores:\")\n",
        "    tr_loss, tr_acc = model.evaluate(x=x_train, y=y_train, verbose=1)\n",
        "    print(\"Test Scores:\")\n",
        "    val_loss, val_acc = model.evaluate(x=x_test, y=y_test, verbose=1) \n",
        "    \n",
        "    \n",
        "  return model, total_delta_weights_dense2"
      ],
      "execution_count": null,
      "outputs": []
    },
    {
      "cell_type": "markdown",
      "metadata": {
        "id": "HR6MUXR5EOJp"
      },
      "source": [
        "### Splitting X and Y into X train, X val, X unseen, Y train, Y val, Y unseen"
      ]
    },
    {
      "cell_type": "code",
      "metadata": {
        "id": "WE2vZ1J8OsOH"
      },
      "source": [
        "X_train, X_test, y_train, y_test = train_test_split(X, Y, test_size=0.15, random_state=42)"
      ],
      "execution_count": null,
      "outputs": []
    },
    {
      "cell_type": "code",
      "metadata": {
        "id": "Xc14PRECarhh"
      },
      "source": [
        "x_val, x_unseen, y_val, y_unseen = train_test_split(X_test, y_test, test_size=0.5, random_state=42, stratify=y_test)"
      ],
      "execution_count": null,
      "outputs": []
    },
    {
      "cell_type": "markdown",
      "metadata": {
        "id": "593Url_5EhZZ"
      },
      "source": [
        "### MODEL 1"
      ]
    },
    {
      "cell_type": "code",
      "metadata": {
        "colab": {
          "base_uri": "https://localhost:8080/"
        },
        "id": "krocVc2IOmIs",
        "outputId": "6f9eaf80-f76a-4acc-8d01-a42d5cd7ecf2"
      },
      "source": [
        "my_args = {\"batch_size\": 1,\n",
        "\"maxepoches\": 8,\n",
        "\"min_lr\": 0.0001,\n",
        "\"max_lr\": 0.001,\n",
        "\"cool_down_lr\": 0.0005,\n",
        "\"lr\": 0.001,\n",
        "\n",
        "\"optimizer\": \"adam\", # different optimizers: adam, sgd\n",
        "\"num_classes\": 2,\n",
        "\"x_train\": X_train, \n",
        "\"y_train\": y_train,\n",
        "\"x_test\": X_test,\n",
        "\"y_test\": y_test\n",
        "}\n",
        "\n",
        "\n",
        "model, total_delta_weights_dense2 = train(my_args)"
      ],
      "execution_count": null,
      "outputs": [
        {
          "name": "stdout",
          "output_type": "stream",
          "text": [
            "Number of MiniBatches: 1700\n",
            "Model: \"sequential_4\"\n",
            "_________________________________________________________________\n",
            "Layer (type)                 Output Shape              Param #   \n",
            "=================================================================\n",
            "embedding_4 (Embedding)      (None, 2000, 32)          160000    \n",
            "_________________________________________________________________\n",
            "conv1d_4 (Conv1D)            (None, 2000, 32)          3104      \n",
            "_________________________________________________________________\n",
            "max_pooling1d_4 (MaxPooling1 (None, 1000, 32)          0         \n",
            "_________________________________________________________________\n",
            "lstm_4 (LSTM)                (None, 100)               53200     \n",
            "_________________________________________________________________\n",
            "dense_4 (Dense)              (None, 2)                 202       \n",
            "=================================================================\n",
            "Total params: 216,506\n",
            "Trainable params: 216,506\n",
            "Non-trainable params: 0\n",
            "_________________________________________________________________\n",
            "--------------------------------------------------- Epoch: 1 Learning Rate: 0.001 -----------------------------------------------------------------------\n",
            "WARNING:tensorflow:Model was constructed with shape (None, 2000) for input KerasTensor(type_spec=TensorSpec(shape=(None, 2000), dtype=tf.float32, name='embedding_4_input'), name='embedding_4_input', description=\"created by layer 'embedding_4_input'\"), but it was called on an input with incompatible shape (1, 751).\n",
            "WARNING:tensorflow:Model was constructed with shape (None, 2000) for input KerasTensor(type_spec=TensorSpec(shape=(None, 2000), dtype=tf.float32, name='embedding_4_input'), name='embedding_4_input', description=\"created by layer 'embedding_4_input'\"), but it was called on an input with incompatible shape (1, 751).\n",
            "Train Scores:\n",
            "WARNING:tensorflow:Model was constructed with shape (None, 2000) for input KerasTensor(type_spec=TensorSpec(shape=(None, 2000), dtype=tf.float32, name='embedding_4_input'), name='embedding_4_input', description=\"created by layer 'embedding_4_input'\"), but it was called on an input with incompatible shape (None, 751).\n",
            "54/54 [==============================] - 2s 30ms/step - loss: 0.3738 - accuracy: 0.8594\n",
            "Test Scores:\n",
            "10/10 [==============================] - 0s 30ms/step - loss: 0.5235 - accuracy: 0.7300\n",
            "--------------------------------------------------- Epoch: 2 Learning Rate: 0.0008875 -----------------------------------------------------------------------\n",
            "WARNING:tensorflow:Model was constructed with shape (None, 2000) for input KerasTensor(type_spec=TensorSpec(shape=(None, 2000), dtype=tf.float32, name='embedding_4_input'), name='embedding_4_input', description=\"created by layer 'embedding_4_input'\"), but it was called on an input with incompatible shape (1, 751).\n",
            "WARNING:tensorflow:Model was constructed with shape (None, 2000) for input KerasTensor(type_spec=TensorSpec(shape=(None, 2000), dtype=tf.float32, name='embedding_4_input'), name='embedding_4_input', description=\"created by layer 'embedding_4_input'\"), but it was called on an input with incompatible shape (1, 751).\n",
            "Train Scores:\n",
            "WARNING:tensorflow:Model was constructed with shape (None, 2000) for input KerasTensor(type_spec=TensorSpec(shape=(None, 2000), dtype=tf.float32, name='embedding_4_input'), name='embedding_4_input', description=\"created by layer 'embedding_4_input'\"), but it was called on an input with incompatible shape (None, 751).\n",
            "54/54 [==============================] - 2s 30ms/step - loss: 0.1966 - accuracy: 0.9429\n",
            "Test Scores:\n",
            "10/10 [==============================] - 0s 31ms/step - loss: 0.5128 - accuracy: 0.7867\n",
            "--------------------------------------------------- Epoch: 3 Learning Rate: 0.0007750000000000001 -----------------------------------------------------------------------\n",
            "WARNING:tensorflow:Model was constructed with shape (None, 2000) for input KerasTensor(type_spec=TensorSpec(shape=(None, 2000), dtype=tf.float32, name='embedding_4_input'), name='embedding_4_input', description=\"created by layer 'embedding_4_input'\"), but it was called on an input with incompatible shape (1, 751).\n",
            "WARNING:tensorflow:Model was constructed with shape (None, 2000) for input KerasTensor(type_spec=TensorSpec(shape=(None, 2000), dtype=tf.float32, name='embedding_4_input'), name='embedding_4_input', description=\"created by layer 'embedding_4_input'\"), but it was called on an input with incompatible shape (1, 751).\n",
            "Train Scores:\n",
            "WARNING:tensorflow:Model was constructed with shape (None, 2000) for input KerasTensor(type_spec=TensorSpec(shape=(None, 2000), dtype=tf.float32, name='embedding_4_input'), name='embedding_4_input', description=\"created by layer 'embedding_4_input'\"), but it was called on an input with incompatible shape (None, 751).\n",
            "54/54 [==============================] - 2s 30ms/step - loss: 0.1247 - accuracy: 0.9671\n",
            "Test Scores:\n",
            "10/10 [==============================] - 0s 31ms/step - loss: 0.5968 - accuracy: 0.7667\n",
            "--------------------------------------------------- Epoch: 4 Learning Rate: 0.0006625 -----------------------------------------------------------------------\n",
            "WARNING:tensorflow:Model was constructed with shape (None, 2000) for input KerasTensor(type_spec=TensorSpec(shape=(None, 2000), dtype=tf.float32, name='embedding_4_input'), name='embedding_4_input', description=\"created by layer 'embedding_4_input'\"), but it was called on an input with incompatible shape (1, 751).\n",
            "WARNING:tensorflow:Model was constructed with shape (None, 2000) for input KerasTensor(type_spec=TensorSpec(shape=(None, 2000), dtype=tf.float32, name='embedding_4_input'), name='embedding_4_input', description=\"created by layer 'embedding_4_input'\"), but it was called on an input with incompatible shape (1, 751).\n",
            "Train Scores:\n",
            "WARNING:tensorflow:Model was constructed with shape (None, 2000) for input KerasTensor(type_spec=TensorSpec(shape=(None, 2000), dtype=tf.float32, name='embedding_4_input'), name='embedding_4_input', description=\"created by layer 'embedding_4_input'\"), but it was called on an input with incompatible shape (None, 751).\n",
            "54/54 [==============================] - 2s 30ms/step - loss: 0.0734 - accuracy: 0.9753\n",
            "Test Scores:\n",
            "10/10 [==============================] - 0s 30ms/step - loss: 0.7278 - accuracy: 0.7667\n",
            "--------------------------------------------------- Epoch: 5 Learning Rate: 0.00055 -----------------------------------------------------------------------\n",
            "WARNING:tensorflow:Model was constructed with shape (None, 2000) for input KerasTensor(type_spec=TensorSpec(shape=(None, 2000), dtype=tf.float32, name='embedding_4_input'), name='embedding_4_input', description=\"created by layer 'embedding_4_input'\"), but it was called on an input with incompatible shape (1, 751).\n",
            "WARNING:tensorflow:Model was constructed with shape (None, 2000) for input KerasTensor(type_spec=TensorSpec(shape=(None, 2000), dtype=tf.float32, name='embedding_4_input'), name='embedding_4_input', description=\"created by layer 'embedding_4_input'\"), but it was called on an input with incompatible shape (1, 751).\n",
            "Train Scores:\n",
            "WARNING:tensorflow:Model was constructed with shape (None, 2000) for input KerasTensor(type_spec=TensorSpec(shape=(None, 2000), dtype=tf.float32, name='embedding_4_input'), name='embedding_4_input', description=\"created by layer 'embedding_4_input'\"), but it was called on an input with incompatible shape (None, 751).\n",
            "54/54 [==============================] - 2s 29ms/step - loss: 0.2956 - accuracy: 0.8824\n",
            "Test Scores:\n",
            "10/10 [==============================] - 0s 30ms/step - loss: 1.3182 - accuracy: 0.6900\n",
            "--------------------------------------------------- Epoch: 6 Learning Rate: 0.00043750000000000006 -----------------------------------------------------------------------\n",
            "WARNING:tensorflow:Model was constructed with shape (None, 2000) for input KerasTensor(type_spec=TensorSpec(shape=(None, 2000), dtype=tf.float32, name='embedding_4_input'), name='embedding_4_input', description=\"created by layer 'embedding_4_input'\"), but it was called on an input with incompatible shape (1, 751).\n",
            "WARNING:tensorflow:Model was constructed with shape (None, 2000) for input KerasTensor(type_spec=TensorSpec(shape=(None, 2000), dtype=tf.float32, name='embedding_4_input'), name='embedding_4_input', description=\"created by layer 'embedding_4_input'\"), but it was called on an input with incompatible shape (1, 751).\n",
            "Train Scores:\n",
            "WARNING:tensorflow:Model was constructed with shape (None, 2000) for input KerasTensor(type_spec=TensorSpec(shape=(None, 2000), dtype=tf.float32, name='embedding_4_input'), name='embedding_4_input', description=\"created by layer 'embedding_4_input'\"), but it was called on an input with incompatible shape (None, 751).\n",
            "54/54 [==============================] - 2s 30ms/step - loss: 0.0182 - accuracy: 0.9959\n",
            "Test Scores:\n",
            "10/10 [==============================] - 0s 29ms/step - loss: 0.9922 - accuracy: 0.7567\n",
            "--------------------------------------------------- Epoch: 7 Learning Rate: 0.000325 -----------------------------------------------------------------------\n",
            "WARNING:tensorflow:Model was constructed with shape (None, 2000) for input KerasTensor(type_spec=TensorSpec(shape=(None, 2000), dtype=tf.float32, name='embedding_4_input'), name='embedding_4_input', description=\"created by layer 'embedding_4_input'\"), but it was called on an input with incompatible shape (1, 751).\n",
            "WARNING:tensorflow:Model was constructed with shape (None, 2000) for input KerasTensor(type_spec=TensorSpec(shape=(None, 2000), dtype=tf.float32, name='embedding_4_input'), name='embedding_4_input', description=\"created by layer 'embedding_4_input'\"), but it was called on an input with incompatible shape (1, 751).\n",
            "Train Scores:\n",
            "WARNING:tensorflow:Model was constructed with shape (None, 2000) for input KerasTensor(type_spec=TensorSpec(shape=(None, 2000), dtype=tf.float32, name='embedding_4_input'), name='embedding_4_input', description=\"created by layer 'embedding_4_input'\"), but it was called on an input with incompatible shape (None, 751).\n",
            "54/54 [==============================] - 2s 31ms/step - loss: 0.0230 - accuracy: 0.9924\n",
            "Test Scores:\n",
            "10/10 [==============================] - 0s 31ms/step - loss: 1.0283 - accuracy: 0.7867\n",
            "--------------------------------------------------- Epoch: 8 Learning Rate: 0.00021250000000000002 -----------------------------------------------------------------------\n",
            "WARNING:tensorflow:Model was constructed with shape (None, 2000) for input KerasTensor(type_spec=TensorSpec(shape=(None, 2000), dtype=tf.float32, name='embedding_4_input'), name='embedding_4_input', description=\"created by layer 'embedding_4_input'\"), but it was called on an input with incompatible shape (1, 751).\n",
            "WARNING:tensorflow:Model was constructed with shape (None, 2000) for input KerasTensor(type_spec=TensorSpec(shape=(None, 2000), dtype=tf.float32, name='embedding_4_input'), name='embedding_4_input', description=\"created by layer 'embedding_4_input'\"), but it was called on an input with incompatible shape (1, 751).\n",
            "Train Scores:\n",
            "WARNING:tensorflow:Model was constructed with shape (None, 2000) for input KerasTensor(type_spec=TensorSpec(shape=(None, 2000), dtype=tf.float32, name='embedding_4_input'), name='embedding_4_input', description=\"created by layer 'embedding_4_input'\"), but it was called on an input with incompatible shape (None, 751).\n",
            "54/54 [==============================] - 2s 30ms/step - loss: 0.0104 - accuracy: 0.9965\n",
            "Test Scores:\n",
            "10/10 [==============================] - 0s 30ms/step - loss: 1.1274 - accuracy: 0.7767\n"
          ]
        }
      ]
    },
    {
      "cell_type": "code",
      "metadata": {
        "colab": {
          "base_uri": "https://localhost:8080/"
        },
        "id": "GVL1MXCFAQu0",
        "outputId": "c5ea90bd-7cb4-4044-ca7b-3774bc0f414b"
      },
      "source": [
        "X_train.shape"
      ],
      "execution_count": null,
      "outputs": [
        {
          "data": {
            "text/plain": [
              "(1700, 751)"
            ]
          },
          "execution_count": 68,
          "metadata": {
            "tags": []
          },
          "output_type": "execute_result"
        }
      ]
    },
    {
      "cell_type": "code",
      "metadata": {
        "id": "wQY3BuH6Qu2z"
      },
      "source": [
        "model.save_weights('/gdrive/MyDrive/Model_Weights.h5')"
      ],
      "execution_count": null,
      "outputs": []
    },
    {
      "cell_type": "code",
      "metadata": {
        "colab": {
          "base_uri": "https://localhost:8080/"
        },
        "id": "Qh3-dGtgn4e7",
        "outputId": "7440eee4-9167-494e-ff4d-8da5d12dafdf"
      },
      "source": [
        "predicted_y = model.predict_classes(x_val)\n",
        "predicted_y = pd.get_dummies(predicted_y)\n",
        "predicted_y = np.array(predicted_y)\n",
        "residuals = np.argmax(predicted_y,1)!=np.argmax(y_val,1) \n",
        "# print(residuals)\n",
        "\n",
        "loss = sum(residuals)/len(residuals)\n",
        "print(\"The Test 0/1 loss is: \", loss)\n",
        "\n",
        "print(\"Number of Incorrect samples:\", sum(residuals))"
      ],
      "execution_count": null,
      "outputs": [
        {
          "name": "stdout",
          "output_type": "stream",
          "text": [
            "WARNING:tensorflow:Model was constructed with shape (None, 2000) for input KerasTensor(type_spec=TensorSpec(shape=(None, 2000), dtype=tf.float32, name='embedding_4_input'), name='embedding_4_input', description=\"created by layer 'embedding_4_input'\"), but it was called on an input with incompatible shape (None, 751).\n"
          ]
        },
        {
          "name": "stderr",
          "output_type": "stream",
          "text": [
            "/usr/local/lib/python3.7/dist-packages/keras/engine/sequential.py:450: UserWarning: `model.predict_classes()` is deprecated and will be removed after 2021-01-01. Please use instead:* `np.argmax(model.predict(x), axis=-1)`,   if your model does multi-class classification   (e.g. if it uses a `softmax` last-layer activation).* `(model.predict(x) > 0.5).astype(\"int32\")`,   if your model does binary classification   (e.g. if it uses a `sigmoid` last-layer activation).\n",
            "  warnings.warn('`model.predict_classes()` is deprecated and '\n"
          ]
        },
        {
          "name": "stdout",
          "output_type": "stream",
          "text": [
            "[False False False False False False False False False False False False\n",
            "  True False False False False False False False False False False  True\n",
            " False  True False False  True False False False False False False False\n",
            " False False False False False  True False False False False False False\n",
            " False False False False False False False  True False False False False\n",
            " False False False  True False False  True False False False False False\n",
            "  True  True False  True False False False False False False False  True\n",
            "  True False False False False False False  True False  True False False\n",
            " False False  True False  True False  True False  True False  True  True\n",
            "  True False False False  True False False False  True False False False\n",
            " False False False  True False False False False False False False False\n",
            " False False False False  True False False False  True False  True  True\n",
            " False False False False False False]\n",
            "The Test 0/1 loss is:  0.19333333333333333\n",
            "Number of Incorrect samples: 29\n"
          ]
        }
      ]
    },
    {
      "cell_type": "code",
      "metadata": {
        "colab": {
          "base_uri": "https://localhost:8080/"
        },
        "id": "P-N79MsioEVm",
        "outputId": "d4574ae4-b71c-4e58-f235-e259946402bc"
      },
      "source": [
        "predicted_y_tr = model.predict_classes(X_train, batch_size=1)\n",
        "predicted_y_tr = pd.get_dummies(predicted_y_tr)\n",
        "predicted_y_tr = np.array(predicted_y_tr)\n",
        "residuals_tr = np.argmax(predicted_y_tr,1)!=np.argmax(y_train,1) \n",
        "print(residuals_tr)\n",
        "\n",
        "loss_tr = sum(residuals_tr)/len(residuals_tr)\n",
        "print(\"The Train 0/1 loss is: \", loss_tr)\n",
        "\n",
        "print(\"Number of Incorrect samples:\", sum(residuals_tr))"
      ],
      "execution_count": null,
      "outputs": [
        {
          "name": "stdout",
          "output_type": "stream",
          "text": [
            "WARNING:tensorflow:Model was constructed with shape (None, 2000) for input KerasTensor(type_spec=TensorSpec(shape=(None, 2000), dtype=tf.float32, name='embedding_4_input'), name='embedding_4_input', description=\"created by layer 'embedding_4_input'\"), but it was called on an input with incompatible shape (1, 751).\n"
          ]
        },
        {
          "name": "stderr",
          "output_type": "stream",
          "text": [
            "/usr/local/lib/python3.7/dist-packages/keras/engine/sequential.py:450: UserWarning: `model.predict_classes()` is deprecated and will be removed after 2021-01-01. Please use instead:* `np.argmax(model.predict(x), axis=-1)`,   if your model does multi-class classification   (e.g. if it uses a `softmax` last-layer activation).* `(model.predict(x) > 0.5).astype(\"int32\")`,   if your model does binary classification   (e.g. if it uses a `sigmoid` last-layer activation).\n",
            "  warnings.warn('`model.predict_classes()` is deprecated and '\n"
          ]
        },
        {
          "name": "stdout",
          "output_type": "stream",
          "text": [
            "[False False False ... False False False]\n",
            "The Train 0/1 loss is:  0.0035294117647058825\n",
            "Number of Incorrect samples: 6\n"
          ]
        }
      ]
    },
    {
      "cell_type": "markdown",
      "metadata": {
        "id": "s3VlbPCd89V9"
      },
      "source": [
        "### Final Data for the Second Model "
      ]
    },
    {
      "cell_type": "code",
      "metadata": {
        "id": "zL7yDTydoejD"
      },
      "source": [
        "# Final Data for the Second Model \n",
        "\n",
        "incorrect_indecies = list([i for i, x in enumerate(residuals) if x])\n",
        "correct_indecies = [a for a in range(x_val.shape[0]) if a not in incorrect_indecies]\n",
        "\n",
        "print(len(incorrect_indecies), \"+\", len(correct_indecies), \"=\", len(x_val))\n",
        "\n",
        "\n",
        "incorrect_samples = []\n",
        "incorrect_x = []\n",
        "incorrect_y = []\n",
        "incorrect_y_true = []\n",
        "incorrect_y_pred = []\n",
        "# All (X_train+x_val) values which were wrongly predicted.\n",
        "\n",
        "for ind in incorrect_indecies:\n",
        "  incorrect_x.append(x_val[ind])\n",
        "  incorrect_y.append(0.0)\n",
        "  incorrect_y_true.append(y_val[ind])\n",
        "  incorrect_y_pred.append(predicted_y[ind])\n",
        "len_incorrect_x=len(incorrect_x)\n",
        "print(\"Only incorrectly predicts of x test: \",len(incorrect_x))\n",
        "\n",
        "\n",
        "incorrect_indecies_tr = list([i for i, x in enumerate(residuals_tr) if x]) # incorrect X_train \n",
        "\n",
        "for ind_tr in incorrect_indecies_tr:\n",
        "  incorrect_x.append(X_train[ind_tr])\n",
        "  incorrect_y.append(0.0)\n",
        "  incorrect_y_true.append(y_train[ind_tr])\n",
        "  incorrect_y_pred.append(predicted_y_tr[ind_tr])\n",
        "\n",
        "print(\"Incorrects Done! \\nLength =\", len(incorrect_x))\n",
        "print(\"Length of Wrong x train predicts = \",len(incorrect_x)-len_incorrect_x )\n",
        "\n"
      ],
      "execution_count": null,
      "outputs": []
    },
    {
      "cell_type": "markdown",
      "metadata": {
        "id": "7H-lmj656ua1"
      },
      "source": [
        "*Wrongly predicts are << Correctly predicted* \n",
        "\n",
        "\n",
        "\n"
      ]
    },
    {
      "cell_type": "code",
      "metadata": {
        "id": "ONVlj2jO5MWR"
      },
      "source": [
        "correct_indecies = random.sample(correct_indecies, len(incorrect_x)) # sampled only from correctly predicts X_test\n",
        "\n",
        "correct_samples = []\n",
        "correct_x = []\n",
        "correct_y = []\n",
        "correct_y_true = []\n",
        "correct_y_pred = []\n",
        "for ind in correct_indecies:\n",
        "  correct_x.append(x_val[ind]) # prev comment makes sense\n",
        "  correct_y.append(1.0) # 1 means correctly predicted\n",
        "  correct_y_true.append(y_val[ind])\n",
        "  correct_y_pred.append(predicted_y[ind])\n",
        "\n",
        "print(\"Corrects Done! \\nLength =\", len(correct_x))"
      ],
      "execution_count": null,
      "outputs": []
    },
    {
      "cell_type": "code",
      "metadata": {
        "id": "Ulh0y3nrRwAj"
      },
      "source": [
        "def shuffle_in_unison(a, b, c, d):\n",
        "    rng_state = np.random.get_state()\n",
        "    np.random.shuffle(a)\n",
        "    np.random.set_state(rng_state)\n",
        "    np.random.shuffle(b)\n",
        "    np.random.set_state(rng_state)\n",
        "    np.random.shuffle(c)\n",
        "    np.random.set_state(rng_state)\n",
        "    np.random.shuffle(d)\n",
        "\n",
        "    return a, b, c, d"
      ],
      "execution_count": null,
      "outputs": []
    },
    {
      "cell_type": "code",
      "metadata": {
        "id": "3nFZmjwdgYlO"
      },
      "source": [
        "x_train_list = correct_x + incorrect_x\n",
        "y_train_list = correct_y + incorrect_y\n",
        "y_true_list = correct_y_true + incorrect_y_true\n",
        "y_pred_list = correct_y_pred + incorrect_y_pred\n",
        "\n",
        "final_x_train = np.array(x_train_list)\n",
        "final_y_train = np.array(y_train_list)\n",
        "final_y_true = np.array(y_true_list)\n",
        "final_y_pred = np.array(y_pred_list)\n",
        "\n",
        "final_x_train, final_y_train, final_y_true, final_y_pred = shuffle_in_unison(final_x_train, final_y_train, final_y_true, final_y_pred)\n",
        "\n",
        "print(\"Final X and Y Shape:\", final_x_train.shape, final_y_train.shape, final_y_true.shape, final_y_pred.shape)"
      ],
      "execution_count": null,
      "outputs": []
    },
    {
      "cell_type": "code",
      "metadata": {
        "id": "uZjCCI3CLp4w"
      },
      "source": [
        "X_train.shape"
      ],
      "execution_count": null,
      "outputs": []
    },
    {
      "cell_type": "code",
      "metadata": {
        "id": "VLc6tOUoPbxC"
      },
      "source": [
        "model = build_model(751)\n",
        "model.load_weights('/gdrive/MyDrive/Model_Weights.h5')"
      ],
      "execution_count": null,
      "outputs": []
    },
    {
      "cell_type": "code",
      "metadata": {
        "id": "U7NDjTzBTFlo"
      },
      "source": [
        ""
      ],
      "execution_count": null,
      "outputs": []
    },
    {
      "cell_type": "code",
      "metadata": {
        "id": "oqv-ia4CI8Pk"
      },
      "source": [
        "# calculate the Euclidean distance between two vectors\n",
        "def euclidean_distance(row1, row2):\n",
        "\tdistance = 0.0\n",
        "\tfor i in range(len(row1)-1):\n",
        "\t\tdistance += (row1[i] - row2[i])**2\n",
        "\treturn sqrt(distance)\n"
      ],
      "execution_count": null,
      "outputs": []
    },
    {
      "cell_type": "code",
      "metadata": {
        "id": "IRm9UPtvIQUS"
      },
      "source": [
        "# Locate the most similar neighbors\n",
        "def get_neighbors(train,y_train,y_truee,test_row, num_neighbors):\n",
        "  distances = list()\n",
        "  x_count=-1\n",
        "  for train_row in train:\n",
        "    x_count+=1\n",
        "    dist = euclidean_distance(test_row, train_row)\n",
        "    # print(y_train[x_count],\"------true\",y_truee)\n",
        "    if y_train[x_count]==y_truee:\n",
        "      distances.append((train_row, dist))\n",
        "      \n",
        "    distances.sort(key=lambda tup: tup[1])\n",
        "  neighbors = list()\n",
        "  for i in range(num_neighbors):\n",
        "    neighbors.append(distances[i][0])\n",
        " \n",
        "  return neighbors[0]"
      ],
      "execution_count": null,
      "outputs": []
    },
    {
      "cell_type": "code",
      "metadata": {
        "colab": {
          "base_uri": "https://localhost:8080/"
        },
        "id": "RqtESG7ZU8Er",
        "outputId": "8588f8ff-f890-4a8e-c836-518203897b5f"
      },
      "source": [
        "y_FULL_for_function=np.argmax(y_train, axis=1)\n",
        "y_FULL_for_function"
      ],
      "execution_count": null,
      "outputs": [
        {
          "data": {
            "text/plain": [
              "array([0, 0, 1, ..., 1, 0, 1])"
            ]
          },
          "execution_count": 82,
          "metadata": {
            "tags": []
          },
          "output_type": "execute_result"
        }
      ]
    },
    {
      "cell_type": "code",
      "metadata": {
        "colab": {
          "base_uri": "https://localhost:8080/"
        },
        "id": "aMASG7pvYf_z",
        "outputId": "bcb2b7cf-0354-4392-c27a-ca59c3218038"
      },
      "source": [
        "len(final_x_train)"
      ],
      "execution_count": null,
      "outputs": [
        {
          "data": {
            "text/plain": [
              "70"
            ]
          },
          "execution_count": 83,
          "metadata": {
            "tags": []
          },
          "output_type": "execute_result"
        }
      ]
    },
    {
      "cell_type": "code",
      "metadata": {
        "colab": {
          "background_save": true,
          "base_uri": "https://localhost:8080/"
        },
        "id": "XpxVyBmK9sFs",
        "outputId": "d3bcee98-d01d-4bfc-99bd-96c0fa5633af"
      },
      "source": [
        "XY_tuples = []\n",
        "for i in range(len(final_x_train)):\n",
        "    sample = final_x_train[i]\n",
        "    # print(sample.reshape(751,))\n",
        "    \n",
        "    prediction = final_y_train[i]\n",
        "    y_truee = final_y_true[i]\n",
        "    y_pred = final_y_pred[i]\n",
        "\n",
        "    print(\"y true:\", y_truee)\n",
        "    # print(\"ypred:\", y_pred)\n",
        "    # print(\"prediction:\", prediction)\n",
        "\n",
        "    y_F=np.argmax(y_pred, axis=0)\n",
        "    # print(y_F)\n",
        "\n",
        "    nearest_neighbor=get_neighbors(X_train,y_FULL_for_function,y_F,sample,1)\n",
        "    # print(nearest_neighbor)\n",
        "    XY_tuples.append((sample, nearest_neighbor, prediction, y_truee, y_pred))\n"
      ],
      "execution_count": null,
      "outputs": [
        {
          "name": "stdout",
          "output_type": "stream",
          "text": [
            "y true: [0 1]\n",
            "y true: [0 1]\n",
            "y true: [0 1]\n",
            "y true: [0 1]\n",
            "y true: [0 1]\n",
            "y true: [1 0]\n",
            "y true: [1 0]\n",
            "y true: [0 1]\n",
            "y true: [1 0]\n",
            "y true: [0 1]\n",
            "y true: [0 1]\n",
            "y true: [0 1]\n",
            "y true: [0 1]\n",
            "y true: [1 0]\n",
            "y true: [1 0]\n",
            "y true: [1 0]\n",
            "y true: [1 0]\n",
            "y true: [0 1]\n",
            "y true: [1 0]\n",
            "y true: [1 0]\n",
            "y true: [0 1]\n",
            "y true: [1 0]\n",
            "y true: [1 0]\n",
            "y true: [0 1]\n",
            "y true: [0 1]\n",
            "y true: [1 0]\n",
            "y true: [0 1]\n",
            "y true: [1 0]\n",
            "y true: [1 0]\n",
            "y true: [1 0]\n",
            "y true: [0 1]\n",
            "y true: [0 1]\n",
            "y true: [1 0]\n",
            "y true: [0 1]\n",
            "y true: [0 1]\n",
            "y true: [1 0]\n",
            "y true: [1 0]\n",
            "y true: [0 1]\n",
            "y true: [1 0]\n",
            "y true: [1 0]\n",
            "y true: [0 1]\n",
            "y true: [0 1]\n",
            "y true: [0 1]\n",
            "y true: [0 1]\n",
            "y true: [0 1]\n",
            "y true: [1 0]\n",
            "y true: [1 0]\n",
            "y true: [0 1]\n",
            "y true: [1 0]\n",
            "y true: [1 0]\n",
            "y true: [0 1]\n",
            "y true: [0 1]\n",
            "y true: [1 0]\n",
            "y true: [0 1]\n",
            "y true: [1 0]\n",
            "y true: [1 0]\n",
            "y true: [0 1]\n",
            "y true: [0 1]\n",
            "y true: [0 1]\n",
            "y true: [1 0]\n",
            "y true: [0 1]\n",
            "y true: [1 0]\n",
            "y true: [1 0]\n",
            "y true: [1 0]\n",
            "y true: [0 1]\n",
            "y true: [1 0]\n",
            "y true: [0 1]\n",
            "y true: [1 0]\n",
            "y true: [1 0]\n",
            "y true: [0 1]\n"
          ]
        }
      ]
    },
    {
      "cell_type": "code",
      "metadata": {
        "colab": {
          "background_save": true
        },
        "id": "84us4er0xUC0",
        "outputId": "0e9106d8-22f8-4795-a947-290f8bc5e7e4"
      },
      "source": [
        "len(XY_tuples)"
      ],
      "execution_count": null,
      "outputs": [
        {
          "data": {
            "text/plain": [
              "70"
            ]
          },
          "execution_count": null,
          "metadata": {},
          "output_type": "execute_result"
        }
      ]
    },
    {
      "cell_type": "code",
      "metadata": {
        "colab": {
          "background_save": true
        },
        "id": "5xtpoPtNYnlR",
        "outputId": "092d2df0-6395-4c40-c379-db44df546cef"
      },
      "source": [
        "XY_tuples[55][4]"
      ],
      "execution_count": null,
      "outputs": [
        {
          "data": {
            "text/plain": [
              "array([0, 1], dtype=uint8)"
            ]
          },
          "execution_count": null,
          "metadata": {},
          "output_type": "execute_result"
        }
      ]
    },
    {
      "cell_type": "markdown",
      "metadata": {
        "id": "1aix7mOydS42"
      },
      "source": [
        "### Unseen Data"
      ]
    },
    {
      "cell_type": "code",
      "metadata": {
        "colab": {
          "background_save": true
        },
        "id": "9Zs5A3GzhRX4",
        "outputId": "26f56d29-66bd-46e2-db33-90f3fdc2ab61"
      },
      "source": [
        "# Generating Data for Model 2\n",
        "\n",
        "predicted_y_un = model.predict(x_unseen, batch_size=1)\n",
        "# print(predicted_y_un)\n",
        "# predicted_y_un = pd.get_dummies(predicted_y_un)\n",
        "# predicted_y_un = np.array(predicted_y_un)\n",
        "\n",
        "residuals_un = np.argmax(predicted_y_un,1)!=np.argmax(y_unseen,1)\n",
        "print(residuals_un)\n",
        "loss_un = sum(residuals_un)/len(residuals_un)\n",
        "print(\"The Test 0/1 loss is: \", loss_un)\n",
        "\n",
        "print(\"Number of Incorrect samples:\", sum(residuals_un))"
      ],
      "execution_count": null,
      "outputs": [
        {
          "name": "stdout",
          "output_type": "stream",
          "text": [
            "[False False  True False False False False  True  True False False False\n",
            " False False False False False False False  True False False False False\n",
            " False False False False False False False  True  True False  True False\n",
            "  True False  True False False False False  True False  True False False\n",
            " False  True  True False False False False False  True False False False\n",
            " False  True False False  True False  True False False False False False\n",
            " False False  True False False False False  True False False  True False\n",
            " False  True False False False False False False False False False False\n",
            " False False False False  True False False False False False  True False\n",
            " False False  True False False  True False False False  True False  True\n",
            " False  True  True  True  True False False False False False False False\n",
            "  True  True False False  True False False False  True False False  True\n",
            " False False  True  True False False]\n",
            "The Test 0/1 loss is:  0.25333333333333335\n",
            "Number of Incorrect samples: 38\n"
          ]
        }
      ]
    },
    {
      "cell_type": "code",
      "metadata": {
        "colab": {
          "background_save": true
        },
        "id": "XEV3mpbThT7B",
        "outputId": "ae2a8f0e-b5f8-42d4-8859-1498c9091aad"
      },
      "source": [
        "# Generating Data for Model 2\n",
        "\n",
        "incorrect_indecies = list([i for i, x in enumerate(residuals_un) if x])\n",
        "correct_indecies = [a for a in range(x_unseen.shape[0]) if a not in incorrect_indecies]\n",
        "\n",
        "print(len(incorrect_indecies), \"+\", len(correct_indecies), \"=\", len(x_unseen))\n",
        "\n",
        "\n",
        "# correct_indecies = random.sample(correct_indecies, len(incorrect_indecies))\n",
        "\n",
        "incorrect_samples = []\n",
        "incorrect_x = []\n",
        "incorrect_y = []\n",
        "incorrect_y_true = []\n",
        "incorrect_y_pred = []\n",
        "for ind in incorrect_indecies:\n",
        "  incorrect_x.append(x_unseen[ind])\n",
        "  incorrect_y.append(0.0)\n",
        "  incorrect_y_true.append(y_unseen[ind])\n",
        "  incorrect_y_pred.append(predicted_y_un[ind])\n",
        "\n",
        "\n",
        "\n",
        "correct_samples = []\n",
        "correct_x = []\n",
        "correct_y = []\n",
        "correct_y_true = []\n",
        "correct_y_pred = []\n",
        "for ind in correct_indecies:\n",
        "  correct_x.append(x_unseen[ind])\n",
        "  correct_y.append(1.0)\n",
        "  correct_y_true.append(y_unseen[ind])\n",
        "  correct_y_pred.append(predicted_y_un[ind])\n",
        "\n",
        "x_train_list = correct_x + incorrect_x\n",
        "y_train_list = correct_y + incorrect_y\n",
        "y_true_list = correct_y_true + incorrect_y_true\n",
        "y_pred_list = correct_y_pred + incorrect_y_pred\n",
        "\n",
        "final_x_train = np.array(x_train_list)\n",
        "final_y_train = np.array(y_train_list)\n",
        "final_y_true = np.array(y_true_list)\n",
        "final_y_pred = np.array(y_pred_list)\n",
        "\n",
        "final_x_train, final_y_train, final_y_true, final_y_pred = shuffle_in_unison(final_x_train, final_y_train, final_y_true, final_y_pred)\n",
        "\n",
        "print(\"Final X and Y Shape:\", final_x_train.shape, final_y_train.shape, final_y_true.shape, final_y_pred.shape)"
      ],
      "execution_count": null,
      "outputs": [
        {
          "name": "stdout",
          "output_type": "stream",
          "text": [
            "38 + 112 = 150\n",
            "Final X and Y Shape: (150, 751) (150,) (150, 2) (150, 2)\n"
          ]
        }
      ]
    },
    {
      "cell_type": "code",
      "metadata": {
        "colab": {
          "background_save": true
        },
        "id": "JTd1ob2sfC5_",
        "outputId": "49f733d5-10ca-4301-9776-486a577f298b"
      },
      "source": [
        "XY_tuples_unseen = []\n",
        "for i in range(len(final_x_train)):\n",
        "  sample = final_x_train[i]\n",
        "  prediction = final_y_train[i]\n",
        "  y_truee = final_y_true[i]\n",
        "  y_pred = final_y_pred[i]\n",
        "\n",
        "  # print(\"y true:\", y_truee)\n",
        "  # print(\"ypred:\", y_pred)\n",
        "  # print(\"prediction:\", prediction)\n",
        "\n",
        "  y_F=np.argmax(y_truee, axis=0)\n",
        "  print(y_F)\n",
        "\n",
        "  nearest_neighbor=get_neighbors(X_train,y_FULL_for_function,y_F,sample,1)\n",
        "  # print(nearest_neighbor)\n",
        "  XY_tuples_unseen.append((sample, nearest_neighbor, prediction, y_truee, y_pred))\n",
        "  \n",
        "\n"
      ],
      "execution_count": null,
      "outputs": [
        {
          "name": "stdout",
          "output_type": "stream",
          "text": [
            "y true: [1 0]\n",
            "ypred: [9.996792e-01 3.154300e-04]\n",
            "prediction: 1.0\n",
            "0\n",
            "y true: [0 1]\n",
            "ypred: [0.00288211 0.996924  ]\n",
            "prediction: 1.0\n",
            "1\n",
            "y true: [0 1]\n",
            "ypred: [0.00601623 0.99466753]\n",
            "prediction: 1.0\n",
            "1\n",
            "y true: [1 0]\n",
            "ypred: [1.1670481e-04 9.9989998e-01]\n",
            "prediction: 0.0\n",
            "0\n",
            "y true: [1 0]\n",
            "ypred: [0.99879175 0.00111354]\n",
            "prediction: 1.0\n",
            "0\n",
            "y true: [0 1]\n",
            "ypred: [0.02879657 0.9764395 ]\n",
            "prediction: 1.0\n",
            "1\n",
            "y true: [1 0]\n",
            "ypred: [8.153853e-05 9.998982e-01]\n",
            "prediction: 0.0\n",
            "0\n",
            "y true: [0 1]\n",
            "ypred: [7.000936e-05 9.999318e-01]\n",
            "prediction: 1.0\n",
            "1\n",
            "y true: [0 1]\n",
            "ypred: [0.9990351  0.00108908]\n",
            "prediction: 0.0\n",
            "1\n",
            "y true: [0 1]\n",
            "ypred: [0.9888362  0.01098956]\n",
            "prediction: 0.0\n",
            "1\n",
            "y true: [1 0]\n",
            "ypred: [5.375681e-04 9.994418e-01]\n",
            "prediction: 0.0\n",
            "0\n",
            "y true: [1 0]\n",
            "ypred: [0.99864405 0.00156915]\n",
            "prediction: 1.0\n",
            "0\n",
            "y true: [1 0]\n",
            "ypred: [0.99660933 0.00231836]\n",
            "prediction: 1.0\n",
            "0\n",
            "y true: [1 0]\n",
            "ypred: [9.9966979e-01 3.2931214e-04]\n",
            "prediction: 1.0\n",
            "0\n",
            "y true: [0 1]\n",
            "ypred: [4.824833e-04 9.995309e-01]\n",
            "prediction: 1.0\n",
            "1\n",
            "y true: [0 1]\n",
            "ypred: [0.00114782 0.99882156]\n",
            "prediction: 1.0\n",
            "1\n",
            "y true: [0 1]\n",
            "ypred: [8.7972105e-05 9.9990737e-01]\n",
            "prediction: 1.0\n",
            "1\n",
            "y true: [1 0]\n",
            "ypred: [0.99380326 0.00713406]\n",
            "prediction: 1.0\n",
            "0\n",
            "y true: [1 0]\n",
            "ypred: [0.9830745  0.01811893]\n",
            "prediction: 1.0\n",
            "0\n",
            "y true: [1 0]\n",
            "ypred: [0.00140217 0.99869627]\n",
            "prediction: 0.0\n",
            "0\n",
            "y true: [0 1]\n",
            "ypred: [3.6807713e-04 9.9970478e-01]\n",
            "prediction: 1.0\n",
            "1\n",
            "y true: [1 0]\n",
            "ypred: [9.9941087e-01 5.5679004e-04]\n",
            "prediction: 1.0\n",
            "0\n",
            "y true: [1 0]\n",
            "ypred: [0.9987     0.00136271]\n",
            "prediction: 1.0\n",
            "0\n",
            "y true: [0 1]\n",
            "ypred: [0.01256515 0.98867726]\n",
            "prediction: 1.0\n",
            "1\n",
            "y true: [0 1]\n",
            "ypred: [3.1048528e-04 9.9964762e-01]\n",
            "prediction: 1.0\n",
            "1\n",
            "y true: [0 1]\n",
            "ypred: [7.416116e-04 9.993042e-01]\n",
            "prediction: 1.0\n",
            "1\n",
            "y true: [0 1]\n",
            "ypred: [0.00146156 0.9984091 ]\n",
            "prediction: 1.0\n",
            "1\n",
            "y true: [0 1]\n",
            "ypred: [0.1375734  0.91302776]\n",
            "prediction: 1.0\n",
            "1\n",
            "y true: [1 0]\n",
            "ypred: [9.9939513e-01 5.9928704e-04]\n",
            "prediction: 1.0\n",
            "0\n",
            "y true: [0 1]\n",
            "ypred: [8.6954678e-05 9.9991846e-01]\n",
            "prediction: 1.0\n",
            "1\n",
            "y true: [0 1]\n",
            "ypred: [1.0408462e-04 9.9990118e-01]\n",
            "prediction: 1.0\n",
            "1\n",
            "y true: [0 1]\n",
            "ypred: [0.00146957 0.99824035]\n",
            "prediction: 1.0\n",
            "1\n",
            "y true: [0 1]\n",
            "ypred: [0.00103779 0.99891806]\n",
            "prediction: 1.0\n",
            "1\n",
            "y true: [0 1]\n",
            "ypred: [1.3029719e-04 9.9988496e-01]\n",
            "prediction: 1.0\n",
            "1\n",
            "y true: [0 1]\n",
            "ypred: [2.6332767e-04 9.9976462e-01]\n",
            "prediction: 1.0\n",
            "1\n",
            "y true: [1 0]\n",
            "ypred: [9.9983037e-01 1.8279818e-04]\n",
            "prediction: 1.0\n",
            "0\n",
            "y true: [0 1]\n",
            "ypred: [9.995776e-01 6.835558e-04]\n",
            "prediction: 0.0\n",
            "1\n",
            "y true: [1 0]\n",
            "ypred: [9.9968529e-01 3.2669044e-04]\n",
            "prediction: 1.0\n",
            "0\n",
            "y true: [1 0]\n",
            "ypred: [9.9999523e-01 4.5470415e-06]\n",
            "prediction: 1.0\n",
            "0\n",
            "y true: [1 0]\n",
            "ypred: [5.1258225e-04 9.9962211e-01]\n",
            "prediction: 0.0\n",
            "0\n",
            "y true: [0 1]\n",
            "ypred: [0.35115692 0.781408  ]\n",
            "prediction: 1.0\n",
            "1\n",
            "y true: [1 0]\n",
            "ypred: [9.9952567e-01 4.4765393e-04]\n",
            "prediction: 1.0\n",
            "0\n",
            "y true: [1 0]\n",
            "ypred: [9.9988914e-01 1.2585033e-04]\n",
            "prediction: 1.0\n",
            "0\n",
            "y true: [1 0]\n",
            "ypred: [9.999013e-01 1.061640e-04]\n",
            "prediction: 1.0\n",
            "0\n",
            "y true: [0 1]\n",
            "ypred: [0.9826401  0.02511496]\n",
            "prediction: 0.0\n",
            "1\n",
            "y true: [0 1]\n",
            "ypred: [0.01726051 0.98691815]\n",
            "prediction: 1.0\n",
            "1\n",
            "y true: [1 0]\n",
            "ypred: [0.0602391 0.9582959]\n",
            "prediction: 0.0\n",
            "0\n",
            "y true: [0 1]\n",
            "ypred: [9.9985826e-01 1.5608457e-04]\n",
            "prediction: 0.0\n",
            "1\n",
            "y true: [0 1]\n",
            "ypred: [5.807561e-04 9.993777e-01]\n",
            "prediction: 1.0\n",
            "1\n",
            "y true: [1 0]\n",
            "ypred: [9.9981469e-01 1.9727302e-04]\n",
            "prediction: 1.0\n",
            "0\n",
            "y true: [1 0]\n",
            "ypred: [9.9976164e-01 2.5448445e-04]\n",
            "prediction: 1.0\n",
            "0\n",
            "y true: [1 0]\n",
            "ypred: [0.00791496 0.9937133 ]\n",
            "prediction: 0.0\n",
            "0\n",
            "y true: [1 0]\n",
            "ypred: [9.9985123e-01 1.4696228e-04]\n",
            "prediction: 1.0\n",
            "0\n",
            "y true: [1 0]\n",
            "ypred: [0.00733834 0.99255705]\n",
            "prediction: 0.0\n",
            "0\n",
            "y true: [0 1]\n",
            "ypred: [9.9933952e-01 7.7169505e-04]\n",
            "prediction: 0.0\n",
            "1\n",
            "y true: [0 1]\n",
            "ypred: [0.8480929  0.22153802]\n",
            "prediction: 0.0\n",
            "1\n",
            "y true: [1 0]\n",
            "ypred: [0.01035368 0.9874813 ]\n",
            "prediction: 0.0\n",
            "0\n",
            "y true: [0 1]\n",
            "ypred: [0.00346213 0.9965833 ]\n",
            "prediction: 1.0\n",
            "1\n",
            "y true: [1 0]\n",
            "ypred: [0.53912246 0.4469499 ]\n",
            "prediction: 1.0\n",
            "0\n",
            "y true: [0 1]\n",
            "ypred: [1.689900e-04 9.998404e-01]\n",
            "prediction: 1.0\n",
            "1\n",
            "y true: [0 1]\n",
            "ypred: [0.0012558  0.99897087]\n",
            "prediction: 1.0\n",
            "1\n",
            "y true: [1 0]\n",
            "ypred: [0.01163333 0.987235  ]\n",
            "prediction: 0.0\n",
            "0\n",
            "y true: [0 1]\n",
            "ypred: [2.4808318e-04 9.9975663e-01]\n",
            "prediction: 1.0\n",
            "1\n",
            "y true: [1 0]\n",
            "ypred: [0.99515814 0.00455975]\n",
            "prediction: 1.0\n",
            "0\n",
            "y true: [1 0]\n",
            "ypred: [0.99812776 0.00200286]\n",
            "prediction: 1.0\n",
            "0\n",
            "y true: [1 0]\n",
            "ypred: [0.00160006 0.99830997]\n",
            "prediction: 0.0\n",
            "0\n",
            "y true: [1 0]\n",
            "ypred: [0.9832929  0.01617718]\n",
            "prediction: 1.0\n",
            "0\n",
            "y true: [0 1]\n",
            "ypred: [5.291089e-05 9.999480e-01]\n",
            "prediction: 1.0\n",
            "1\n",
            "y true: [0 1]\n",
            "ypred: [0.9770572  0.03450619]\n",
            "prediction: 0.0\n",
            "1\n",
            "y true: [0 1]\n",
            "ypred: [9.9962521e-01 3.4925493e-04]\n",
            "prediction: 0.0\n",
            "1\n",
            "y true: [0 1]\n",
            "ypred: [0.9988199  0.00103912]\n",
            "prediction: 0.0\n",
            "1\n",
            "y true: [1 0]\n",
            "ypred: [9.9945217e-01 6.4161234e-04]\n",
            "prediction: 1.0\n",
            "0\n",
            "y true: [0 1]\n",
            "ypred: [0.9957195 0.0054623]\n",
            "prediction: 0.0\n",
            "1\n",
            "y true: [0 1]\n",
            "ypred: [8.4670924e-04 9.9924833e-01]\n",
            "prediction: 1.0\n",
            "1\n",
            "y true: [1 0]\n",
            "ypred: [0.9914335  0.00870662]\n",
            "prediction: 1.0\n",
            "0\n",
            "y true: [0 1]\n",
            "ypred: [0.00119367 0.9986071 ]\n",
            "prediction: 1.0\n",
            "1\n",
            "y true: [0 1]\n",
            "ypred: [0.00104423 0.9990526 ]\n",
            "prediction: 1.0\n",
            "1\n",
            "y true: [0 1]\n",
            "ypred: [0.00148977 0.9985234 ]\n",
            "prediction: 1.0\n",
            "1\n",
            "y true: [0 1]\n",
            "ypred: [7.9075689e-04 9.9907887e-01]\n",
            "prediction: 1.0\n",
            "1\n",
            "y true: [0 1]\n",
            "ypred: [0.00159949 0.99884784]\n",
            "prediction: 1.0\n",
            "1\n",
            "y true: [1 0]\n",
            "ypred: [0.9983469  0.00179442]\n",
            "prediction: 1.0\n",
            "0\n",
            "y true: [0 1]\n",
            "ypred: [0.00313934 0.99781847]\n",
            "prediction: 1.0\n",
            "1\n",
            "y true: [0 1]\n",
            "ypred: [0.00163764 0.99843067]\n",
            "prediction: 1.0\n",
            "1\n",
            "y true: [1 0]\n",
            "ypred: [0.00103379 0.9991198 ]\n",
            "prediction: 0.0\n",
            "0\n",
            "y true: [0 1]\n",
            "ypred: [0.9948887  0.00523462]\n",
            "prediction: 0.0\n",
            "1\n",
            "y true: [1 0]\n",
            "ypred: [0.04743249 0.95052207]\n",
            "prediction: 0.0\n",
            "0\n",
            "y true: [0 1]\n",
            "ypred: [0.07346358 0.94013476]\n",
            "prediction: 1.0\n",
            "1\n",
            "y true: [1 0]\n",
            "ypred: [0.99530727 0.00435671]\n",
            "prediction: 1.0\n",
            "0\n",
            "y true: [0 1]\n",
            "ypred: [0.9914829 0.0128373]\n",
            "prediction: 0.0\n",
            "1\n",
            "y true: [0 1]\n",
            "ypred: [0.99258876 0.00623367]\n",
            "prediction: 0.0\n",
            "1\n",
            "y true: [0 1]\n",
            "ypred: [9.9918729e-01 8.3594053e-04]\n",
            "prediction: 0.0\n",
            "1\n",
            "y true: [1 0]\n",
            "ypred: [9.9955612e-01 6.0308195e-04]\n",
            "prediction: 1.0\n",
            "0\n",
            "y true: [1 0]\n",
            "ypred: [9.9996436e-01 3.7336446e-05]\n",
            "prediction: 1.0\n",
            "0\n",
            "y true: [1 0]\n",
            "ypred: [0.9873383  0.01743977]\n",
            "prediction: 1.0\n",
            "0\n",
            "y true: [0 1]\n",
            "ypred: [0.00490514 0.9961224 ]\n",
            "prediction: 1.0\n",
            "1\n",
            "y true: [0 1]\n",
            "ypred: [0.00154406 0.99858296]\n",
            "prediction: 1.0\n",
            "1\n",
            "y true: [1 0]\n",
            "ypred: [9.9999428e-01 5.6661684e-06]\n",
            "prediction: 1.0\n",
            "0\n",
            "y true: [1 0]\n",
            "ypred: [0.9977724  0.00247062]\n",
            "prediction: 1.0\n",
            "0\n",
            "y true: [1 0]\n",
            "ypred: [0.9988741  0.00113187]\n",
            "prediction: 1.0\n",
            "0\n",
            "y true: [1 0]\n",
            "ypred: [0.95041186 0.07555687]\n",
            "prediction: 1.0\n",
            "0\n",
            "y true: [0 1]\n",
            "ypred: [0.003547   0.99686486]\n",
            "prediction: 1.0\n",
            "1\n",
            "y true: [0 1]\n",
            "ypred: [1.4295311e-04 9.9986339e-01]\n",
            "prediction: 1.0\n",
            "1\n",
            "y true: [0 1]\n",
            "ypred: [0.00168965 0.99842346]\n",
            "prediction: 1.0\n",
            "1\n",
            "y true: [1 0]\n",
            "ypred: [0.99710673 0.00293796]\n",
            "prediction: 1.0\n",
            "0\n",
            "y true: [0 1]\n",
            "ypred: [0.7124007  0.41359574]\n",
            "prediction: 0.0\n",
            "1\n",
            "y true: [1 0]\n",
            "ypred: [2.8426902e-04 9.9966919e-01]\n",
            "prediction: 0.0\n",
            "0\n",
            "y true: [0 1]\n",
            "ypred: [1.0924116e-04 9.9988878e-01]\n",
            "prediction: 1.0\n",
            "1\n",
            "y true: [0 1]\n",
            "ypred: [9.996438e-01 3.909056e-04]\n",
            "prediction: 0.0\n",
            "1\n",
            "y true: [0 1]\n",
            "ypred: [0.00224862 0.99788886]\n",
            "prediction: 1.0\n",
            "1\n",
            "y true: [1 0]\n",
            "ypred: [9.9957341e-01 4.5603936e-04]\n",
            "prediction: 1.0\n",
            "0\n",
            "y true: [1 0]\n",
            "ypred: [0.78642356 0.28795913]\n",
            "prediction: 1.0\n",
            "0\n",
            "y true: [1 0]\n",
            "ypred: [0.9866992  0.02271613]\n",
            "prediction: 1.0\n",
            "0\n",
            "y true: [0 1]\n",
            "ypred: [1.3196545e-04 9.9986815e-01]\n",
            "prediction: 1.0\n",
            "1\n",
            "y true: [0 1]\n",
            "ypred: [0.6740252  0.32941702]\n",
            "prediction: 0.0\n",
            "1\n",
            "y true: [1 0]\n",
            "ypred: [0.98165107 0.01532126]\n",
            "prediction: 1.0\n",
            "0\n",
            "y true: [1 0]\n",
            "ypred: [0.7407304  0.28892922]\n",
            "prediction: 1.0\n",
            "0\n",
            "y true: [1 0]\n",
            "ypred: [0.9989579  0.00100365]\n",
            "prediction: 1.0\n",
            "0\n",
            "y true: [0 1]\n",
            "ypred: [1.8304026e-04 9.9984038e-01]\n",
            "prediction: 1.0\n",
            "1\n",
            "y true: [0 1]\n",
            "ypred: [3.4478318e-04 9.9964297e-01]\n",
            "prediction: 1.0\n",
            "1\n",
            "y true: [0 1]\n",
            "ypred: [6.1111164e-04 9.9934798e-01]\n",
            "prediction: 1.0\n",
            "1\n",
            "y true: [0 1]\n",
            "ypred: [4.5943572e-04 9.9955505e-01]\n",
            "prediction: 1.0\n",
            "1\n",
            "y true: [0 1]\n",
            "ypred: [8.472548e-04 9.992360e-01]\n",
            "prediction: 1.0\n",
            "1\n",
            "y true: [1 0]\n",
            "ypred: [0.9837964  0.01734737]\n",
            "prediction: 1.0\n",
            "0\n",
            "y true: [1 0]\n",
            "ypred: [9.9981552e-01 2.1380946e-04]\n",
            "prediction: 1.0\n",
            "0\n",
            "y true: [1 0]\n",
            "ypred: [0.9943119  0.00465678]\n",
            "prediction: 1.0\n",
            "0\n",
            "y true: [0 1]\n",
            "ypred: [0.06504966 0.9451467 ]\n",
            "prediction: 1.0\n",
            "1\n",
            "y true: [0 1]\n",
            "ypred: [2.6373973e-04 9.9975020e-01]\n",
            "prediction: 1.0\n",
            "1\n",
            "y true: [1 0]\n",
            "ypred: [0.03983293 0.95188785]\n",
            "prediction: 0.0\n",
            "0\n",
            "y true: [0 1]\n",
            "ypred: [1.7862555e-04 9.9982917e-01]\n",
            "prediction: 1.0\n",
            "1\n",
            "y true: [0 1]\n",
            "ypred: [9.1759890e-04 9.9914837e-01]\n",
            "prediction: 1.0\n",
            "1\n",
            "y true: [0 1]\n",
            "ypred: [0.9856054  0.02288692]\n",
            "prediction: 0.0\n",
            "1\n",
            "y true: [0 1]\n",
            "ypred: [0.85101354 0.23153338]\n",
            "prediction: 0.0\n",
            "1\n",
            "y true: [1 0]\n",
            "ypred: [9.999403e-01 6.229690e-05]\n",
            "prediction: 1.0\n",
            "0\n",
            "y true: [1 0]\n",
            "ypred: [0.9987872  0.00113885]\n",
            "prediction: 1.0\n",
            "0\n",
            "y true: [1 0]\n",
            "ypred: [9.994820e-01 5.793949e-04]\n",
            "prediction: 1.0\n",
            "0\n",
            "y true: [0 1]\n",
            "ypred: [0.9954926  0.00791627]\n",
            "prediction: 0.0\n",
            "1\n",
            "y true: [1 0]\n",
            "ypred: [0.97027516 0.03535375]\n",
            "prediction: 1.0\n",
            "0\n",
            "y true: [1 0]\n",
            "ypred: [9.999411e-01 5.995736e-05]\n",
            "prediction: 1.0\n",
            "0\n",
            "y true: [1 0]\n",
            "ypred: [0.9802781  0.01726101]\n",
            "prediction: 1.0\n",
            "0\n",
            "y true: [1 0]\n",
            "ypred: [9.9969018e-01 2.8235637e-04]\n",
            "prediction: 1.0\n",
            "0\n",
            "y true: [0 1]\n",
            "ypred: [6.8532571e-04 9.9932826e-01]\n",
            "prediction: 1.0\n",
            "1\n",
            "y true: [0 1]\n",
            "ypred: [5.6862470e-04 9.9959475e-01]\n",
            "prediction: 1.0\n",
            "1\n",
            "y true: [0 1]\n",
            "ypred: [9.982155e-04 9.990453e-01]\n",
            "prediction: 1.0\n",
            "1\n",
            "y true: [1 0]\n",
            "ypred: [0.99830127 0.00183438]\n",
            "prediction: 1.0\n",
            "0\n",
            "y true: [0 1]\n",
            "ypred: [0.33067727 0.69849825]\n",
            "prediction: 1.0\n",
            "1\n",
            "y true: [1 0]\n",
            "ypred: [9.9983549e-01 1.8158718e-04]\n",
            "prediction: 1.0\n",
            "0\n",
            "y true: [1 0]\n",
            "ypred: [0.17530441 0.82594466]\n",
            "prediction: 0.0\n",
            "0\n",
            "y true: [1 0]\n",
            "ypred: [9.3302078e-04 9.9926263e-01]\n",
            "prediction: 0.0\n",
            "0\n",
            "y true: [0 1]\n",
            "ypred: [3.735591e-04 9.996321e-01]\n",
            "prediction: 1.0\n",
            "1\n",
            "y true: [1 0]\n",
            "ypred: [0.99875903 0.00127527]\n",
            "prediction: 1.0\n",
            "0\n"
          ]
        }
      ]
    },
    {
      "cell_type": "code",
      "metadata": {
        "colab": {
          "background_save": true
        },
        "id": "p307mD3_fiu4",
        "outputId": "86eec615-0790-4b1c-fec7-67c7fac974f6"
      },
      "source": [
        "str(len(XY_tuples_unseen)) +\" <--Unseen   Train--> \"+ str(len(XY_tuples))"
      ],
      "execution_count": null,
      "outputs": [
        {
          "data": {
            "application/vnd.google.colaboratory.intrinsic+json": {
              "type": "string"
            },
            "text/plain": [
              "'150 <--Unseen   Train--> 70'"
            ]
          },
          "execution_count": null,
          "metadata": {},
          "output_type": "execute_result"
        }
      ]
    },
    {
      "cell_type": "markdown",
      "metadata": {
        "id": "ZDUU-Cuc9lUJ"
      },
      "source": [
        "### Load data for second model"
      ]
    },
    {
      "cell_type": "code",
      "metadata": {
        "colab": {
          "background_save": true
        },
        "id": "-Kpd-rqRfvzm"
      },
      "source": [
        "def load_data(train_tuples, unseen_tuples):\n",
        "  \n",
        "  samples = []\n",
        "  resp_samples = []\n",
        "  y = []\n",
        "  y_trues = []\n",
        "  y_preds = []\n",
        "  for tpl in train_tuples:\n",
        "    samples.append(tpl[0])\n",
        "    resp_samples.append(tpl[1])\n",
        "    y_trues.append(tpl[3])\n",
        "    y_preds.append(tpl[4])\n",
        "\n",
        "    if tpl[2] == 0:\n",
        "      y.append([1.0,0.0])\n",
        "    elif tpl[2] == 1:\n",
        "      y.append([0.0,1.0])\n",
        "\n",
        "  unseen_samples = []\n",
        "  unseen_resp_samples = []\n",
        "  unseen_y = []\n",
        "  unseen_y_trues = []\n",
        "  unseen_y_preds = []\n",
        "  for unseen_tpl in unseen_tuples:\n",
        "    unseen_samples.append(unseen_tpl[0])\n",
        "    unseen_resp_samples.append(unseen_tpl[1])\n",
        "    unseen_y_trues.append(unseen_tpl[3])\n",
        "    unseen_y_preds.append(unseen_tpl[4])\n",
        "\n",
        "    if unseen_tpl[2] == 0:\n",
        "      unseen_y.append([1.0,0.0])\n",
        "    elif unseen_tpl[2] == 1:\n",
        "      unseen_y.append([0.0,1.0])\n",
        "\n",
        "  samples, unseen_samples = np.array(samples), np.array(unseen_samples)\n",
        "  resp_samples, unseen_resp_samples = np.array(resp_samples), np.array(unseen_resp_samples)\n",
        "\n",
        "\n",
        "  y = np.array(y)\n",
        "  unseen_y = np.array(unseen_y)\n",
        "\n",
        "  print('Training Data:')\n",
        "  print(\"Input Image Shapes:\", samples.shape, resp_samples.shape)\n",
        "  print(\"Output shape:\", y.shape)\n",
        "\n",
        "  print('Unseen Data:')\n",
        "  print(\"Input Image Shapes:\", unseen_samples.shape, unseen_resp_samples.shape)\n",
        "  print(\"Output shape:\", unseen_y.shape)\n",
        "  return samples, resp_samples, y, y_trues, y_preds, unseen_samples, unseen_resp_samples, unseen_y, unseen_y_trues, unseen_y_preds"
      ],
      "execution_count": null,
      "outputs": []
    },
    {
      "cell_type": "code",
      "metadata": {
        "colab": {
          "background_save": true
        },
        "id": "h7ZaPQaze2_Q",
        "outputId": "bba4c46b-e977-4e8d-8612-0cab2791935a"
      },
      "source": [
        "samples, resp_samples, y, y_trues, y_preds, samples_unseen, resp_samples_unseen, y_unseen, y_trues_unseen, y_preds_unseen = load_data(XY_tuples, XY_tuples_unseen)"
      ],
      "execution_count": null,
      "outputs": [
        {
          "name": "stdout",
          "output_type": "stream",
          "text": [
            "Training Data:\n",
            "Input Image Shapes: (70, 751) (70, 751)\n",
            "Output shape: (70, 2)\n",
            "Unseen Data:\n",
            "Input Image Shapes: (150, 751) (150, 751)\n",
            "Output shape: (150, 2)\n"
          ]
        }
      ]
    },
    {
      "cell_type": "code",
      "metadata": {
        "colab": {
          "background_save": true
        },
        "id": "0ZmcKFyDihvr",
        "outputId": "8b718c13-a2fb-4c23-879b-ce96dc9ce049"
      },
      "source": [
        "train_index=range(len(samples))\n",
        "y_train=y\n",
        "\n",
        "train_samples = []\n",
        "train_resps = []\n",
        "train_trues = []\n",
        "train_preds = []\n",
        "\n",
        "# y_train = []\n",
        "for ind in train_index:\n",
        "  train_samples.append(samples[ind])\n",
        "  train_resps.append(resp_samples[ind])\n",
        "  train_trues.append(y_trues[ind])\n",
        "  train_preds.append(y_preds[ind])\n",
        "  # y_train.append(y[ind])\n",
        "\n",
        "train_samples = np.array(train_samples)\n",
        "train_resps = np.array(train_resps)\n",
        "train_trues = np.array(train_trues)\n",
        "train_preds = np.array(train_preds)\n",
        "# y_train = np.array(y_train)\n",
        "\n",
        "\n",
        "\n",
        "print(\"Training set:\", train_resps.shape, train_samples.shape, y_train.shape, train_preds.shape, train_trues.shape)\n"
      ],
      "execution_count": null,
      "outputs": [
        {
          "name": "stdout",
          "output_type": "stream",
          "text": [
            "Training set: (70, 751) (70, 751) (70, 2) (70, 2) (70, 2)\n"
          ]
        }
      ]
    },
    {
      "cell_type": "markdown",
      "metadata": {
        "id": "yO8Y_Vzz9tQM"
      },
      "source": [
        "### Functions"
      ]
    },
    {
      "cell_type": "code",
      "metadata": {
        "colab": {
          "background_save": true
        },
        "id": "Htel7n7HfGkL"
      },
      "source": [
        "def train(args): \n",
        "  batch_size = args[\"batch_size\"]\n",
        "  maxepoch = args[\"maxepoches\"]\n",
        "  min_lr = args[\"min_lr\"]\n",
        "  max_lr = args[\"max_lr\"]\n",
        "  cool_down_lr = args[\"cool_down_lr\"]\n",
        "  lr = args[\"lr\"]\n",
        "  \n",
        "  optimizer = args[\"optimizer\"]\n",
        "  train_samples = args[\"train_samples\"]\n",
        "\n",
        "  train_resps = args[\"train_resps\"]\n",
        "\n",
        "  y_train = args[\"y_train\"]\n",
        "\n",
        "\n",
        "  model = None\n",
        "\n",
        "  def lr_scheduler(epoch):\n",
        "      if epoch <= 0.6 * maxepoch:\n",
        "        learning_rate = max_lr\n",
        "      else:\n",
        "        learning_rate = max_lr + ((epoch + 1 - (0.6 * maxepoch)) * (min_lr - max_lr) / (0.4 * maxepoch) )\n",
        "      print(\"Epoch:\", epoch, \"Learning Rate:\", learning_rate)\n",
        "      return learning_rate\n",
        "\n",
        "\n",
        "\n",
        "  model = build_model(751*2)\n",
        "  reduce_lr = keras.callbacks.LearningRateScheduler(lr_scheduler)\n",
        "  if optimizer == \"sgd\":\n",
        "    opt = optimizers.SGD(learning_rate=min_lr, momentum=0.9, nesterov=True)\n",
        "  elif optimizer == \"adam\":\n",
        "    opt = optimizers.Adam(learning_rate=min_lr)\n",
        "  model.compile(loss='binary_crossentropy', optimizer=opt, metrics=['accuracy'])\n",
        "  model.summary()\n",
        "  # plot_model(model, to_file=\"/content/drive/MyDrive/Responsibility_Comparison/New_Dataset/\" + model_type + \".png\", show_shapes=True, show_layer_names=True)\n",
        "\n",
        "  x_train = np.concatenate((train_samples, train_resps), axis=1)\n",
        "  print(x_train.shape)\n",
        "  history = model.fit(x_train, y_train,\n",
        "                    batch_size=batch_size,\n",
        "                    # steps_per_epoch=samples.shape[0] // batch_size,\n",
        "                    shuffle=True, \n",
        "                    epochs=maxepoch,\n",
        "                    validation_split=0.2,\n",
        "                    callbacks=[reduce_lr],\n",
        "                    verbose=1)\n",
        "  \n",
        "  return model, history"
      ],
      "execution_count": null,
      "outputs": []
    },
    {
      "cell_type": "code",
      "metadata": {
        "colab": {
          "background_save": true
        },
        "id": "mq_OTwI6mFn2",
        "outputId": "da650e0c-d34f-4ceb-e03a-42b84f766614"
      },
      "source": [
        "train_resps.shape"
      ],
      "execution_count": null,
      "outputs": [
        {
          "data": {
            "text/plain": [
              "(70, 751)"
            ]
          },
          "execution_count": null,
          "metadata": {},
          "output_type": "execute_result"
        }
      ]
    },
    {
      "cell_type": "markdown",
      "metadata": {
        "id": "EAsHIs239zOT"
      },
      "source": [
        "### Training second model"
      ]
    },
    {
      "cell_type": "code",
      "metadata": {
        "id": "1-8xFdUAlpu-"
      },
      "source": [
        "my_args = {\"batch_size\": 15,\n",
        "\"maxepoches\": 50,\n",
        "\"min_lr\": 0.001,\n",
        "\"max_lr\": 0.01,\n",
        "\"cool_down_lr\": 0.00001,\n",
        "\"lr\": 0.001,\n",
        "\n",
        "\"optimizer\": \"adam\", # different optimizers: adam, sgd\n",
        "\"train_samples\": train_samples, \n",
        "\n",
        "\"train_resps\": train_resps,\n",
        "\n",
        "\"y_train\": y_train,\n",
        "}\n",
        "\n",
        "model, hist = train(my_args)\n"
      ],
      "execution_count": null,
      "outputs": []
    },
    {
      "cell_type": "markdown",
      "metadata": {
        "id": "KGzWMm4694k8"
      },
      "source": [
        "### Plot"
      ]
    },
    {
      "cell_type": "code",
      "metadata": {
        "colab": {
          "background_save": true
        },
        "id": "8GJVB63gqk0I",
        "outputId": "7d196edf-e64a-46f0-c9e4-f99fed09efea"
      },
      "source": [
        "# list all data in history\n",
        "print(hist.history.keys())\n",
        "# summarize history for accuracy\n",
        "plt.plot(hist.history['accuracy'])\n",
        "plt.plot(hist.history['val_accuracy'])\n",
        "plt.title('model accuracy')\n",
        "plt.ylabel('accuracy')\n",
        "plt.xlabel('epoch')\n",
        "plt.legend(['train', 'validation'], loc='upper left')\n",
        "plt.show()\n",
        "# summarize history for loss\n",
        "plt.plot(hist.history['loss'])\n",
        "plt.plot(hist.history['val_loss'])\n",
        "plt.title('model loss')\n",
        "plt.ylabel('loss')\n",
        "plt.xlabel('epoch')\n",
        "plt.legend(['train', 'validation'], loc='upper left')\n",
        "plt.show()"
      ],
      "execution_count": null,
      "outputs": [
        {
          "name": "stdout",
          "output_type": "stream",
          "text": [
            "dict_keys(['loss', 'accuracy', 'val_loss', 'val_accuracy', 'lr'])\n"
          ]
        },
        {
          "data": {
            "image/png": "[encoded data removed]",
            "text/plain": [
              "<Figure size 432x288 with 1 Axes>"
            ]
          },
          "metadata": {},
          "output_type": "display_data"
        },
        {
          "data": {
            "image/png": "[encoded data removed]",
            "text/plain": [
              "<Figure size 432x288 with 1 Axes>"
            ]
          },
          "metadata": {},
          "output_type": "display_data"
        }
      ]
    },
    {
      "cell_type": "markdown",
      "metadata": {
        "id": "d_yU0h5N98NV"
      },
      "source": [
        "### Final Evaluation"
      ]
    },
    {
      "cell_type": "code",
      "metadata": {
        "colab": {
          "background_save": true
        },
        "id": "ETUtjC0gq8ct",
        "outputId": "d9d0d6be-3900-4a1c-ee11-6f72bdc9f94e"
      },
      "source": [
        "print(\"Evaluation on Unseen Dataset:\")\n",
        "\n",
        "x_test = np.concatenate((samples_unseen, resp_samples_unseen), axis=1)\n",
        "# print(x_test[1])\n",
        "\n",
        "model.evaluate(x_test, y_unseen)\n",
        "y_hat = model.predict(x_test)\n",
        "\n",
        "y_pred = np.argmax(y_hat, axis=1)\n",
        "y_true = np.argmax(y_unseen, axis=1)\n",
        "# print(y_pred[0],\"ddddd\",y_unseen[0])\n",
        "\n",
        "my_precision = precision_score(y_true, y_pred)\n",
        "my_recal = recall_score(y_true, y_pred)\n",
        "my_f1 = f1_score(y_true, y_pred)\n",
        "print(accuracy_score(y_true,y_pred))\n",
        "print(\"Precision:\", my_precision, \"Recall:\", my_recal, \"f1 score:\", my_f1)"
      ],
      "execution_count": null,
      "outputs": [
        {
          "name": "stdout",
          "output_type": "stream",
          "text": [
            "Evaluation on Unseen Dataset:\n",
            "5/5 [==============================] - 0s 42ms/step - loss: 1.3570 - accuracy: 0.6267\n",
            "0.6266666666666667\n",
            "Precision: 0.8043478260869565 Recall: 0.6607142857142857 f1 score: 0.7254901960784315\n"
          ]
        }
      ]
    },
    {
      "cell_type": "code",
      "metadata": {
        "id": "H2PgAsf8rU6k"
      },
      "source": [
        ""
      ],
      "execution_count": null,
      "outputs": []
    }
  ]
}