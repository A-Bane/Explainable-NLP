{
  "nbformat": 4,
  "nbformat_minor": 0,
  "metadata": {
    "accelerator": "GPU",
    "colab": {
      "name": "Responsible Approach.ipynb",
      "provenance": [],
      "collapsed_sections": [],
      "authorship_tag": "ABX9TyPvJh+I5Ti35+Ecf1MMRmjJ",
      "include_colab_link": true
    },
    "kernelspec": {
      "display_name": "Python 3",
      "name": "python3"
    },
    "language_info": {
      "name": "python"
    }
  },
  "cells": [
    {
      "cell_type": "markdown",
      "metadata": {
        "id": "view-in-github",
        "colab_type": "text"
      },
      "source": [
        "<a href=\"https://colab.research.google.com/github/A-Bane/Explainable-NLP/blob/main/Responsible_Approach.ipynb\" target=\"_parent\"><img src=\"https://colab.research.google.com/assets/colab-badge.svg\" alt=\"Open In Colab\"/></a>"
      ]
    },
    {
      "cell_type": "markdown",
      "metadata": {
        "id": "u3VlUo-GLFK9"
      },
      "source": [
        "### Import"
      ]
    },
    {
      "cell_type": "code",
      "metadata": {
        "id": "qvvXNYmEAr9U"
      },
      "source": [
        "import numpy as np\n",
        "import pandas as pd\n",
        "from keras.models import Sequential\n",
        "from keras.layers import Dense, Embedding, LSTM, SpatialDropout1D, Flatten, Dropout\n",
        "from sklearn.model_selection import train_test_split\n",
        "from sklearn.feature_extraction.text import CountVectorizer\n",
        "from keras.preprocessing.text import Tokenizer\n",
        "from keras.preprocessing.sequence import pad_sequences\n",
        "from keras.utils.np_utils import to_categorical\n",
        "import re\n",
        "from sklearn.datasets import load_files\n",
        "from keras.layers import Dense,Conv1D,MaxPooling1D\n",
        "from keras import optimizers\n",
        "import random\n",
        "from keras import backend as K\n",
        "import cv2\n",
        "import keras\n",
        "import matplotlib.pyplot as plt\n",
        "from sklearn.metrics import precision_score, recall_score, f1_score,accuracy_score\n",
        "from tensorflow.keras.optimizers import Adam"
      ],
      "execution_count": 1,
      "outputs": []
    },
    {
      "cell_type": "code",
      "metadata": {
        "colab": {
          "base_uri": "https://localhost:8080/"
        },
        "id": "D2RUWjG8AxYu",
        "outputId": "86943067-4c59-447c-b58b-afaac4a0862e"
      },
      "source": [
        "from google.colab import drive\n",
        "drive.mount('/gdrive/')\n",
        "dataset = load_files('/gdrive/My Drive/txt_sentoken')\n",
        "features, labels = dataset.data, dataset.target"
      ],
      "execution_count": 2,
      "outputs": [
        {
          "output_type": "stream",
          "name": "stdout",
          "text": [
            "Mounted at /gdrive/\n"
          ]
        }
      ]
    },
    {
      "cell_type": "markdown",
      "metadata": {
        "id": "95jyYqaSLJUe"
      },
      "source": [
        "## Preprocessing Dataset"
      ]
    },
    {
      "cell_type": "code",
      "metadata": {
        "id": "CIlzkmm5IBIn"
      },
      "source": [
        "corpus = []\n",
        "corpus1 = []\n",
        "for i in range(len(features)):\n",
        "    review = re.sub(r'\\\\n', ' ', str(features[i]))\n",
        "    corpus1.append(review)\n",
        "\n",
        "for i in range(len(corpus1)):\n",
        "    # Removing all punctuation marks and non characters\n",
        "    review = re.sub(r'\\W', ' ', str(corpus1[i]))\n",
        "\n",
        "    # Converting into lowercase\n",
        "    review = review.lower()\n",
        "\n",
        "    # Removing b from starting of string\n",
        "    review = re.sub(r'^b\\s+', '', review)\n",
        "\n",
        "    # Removing all single characters\n",
        "    review = re.sub(r'\\s+[a-z]\\s+', ' ', review)\n",
        "\n",
        "    # Removing all words which is of length one\n",
        "    review = re.sub(r'[^a-z]\\s+', ' ', review)\n",
        "\n",
        "    # Removing all extra spaces\n",
        "    review = re.sub(r'\\s+', ' ', review)\n",
        "\n",
        "    # Adding cleaned reviews in corpus\n",
        "    corpus.append(review)"
      ],
      "execution_count": 3,
      "outputs": []
    },
    {
      "cell_type": "code",
      "metadata": {
        "id": "JfsN3r0eIDPZ"
      },
      "source": [
        "import gensim\n",
        "from nltk.stem import WordNetLemmatizer, SnowballStemmer\n",
        "from nltk.stem.porter import *\n",
        "import nltk"
      ],
      "execution_count": 4,
      "outputs": []
    },
    {
      "cell_type": "code",
      "metadata": {
        "colab": {
          "base_uri": "https://localhost:8080/"
        },
        "id": "VC6JUda_IFEh",
        "outputId": "b1cc2173-7309-427f-c2b4-46e8455d3952"
      },
      "source": [
        "nltk.download('wordnet')\n",
        "stemmer = SnowballStemmer('english')"
      ],
      "execution_count": 5,
      "outputs": [
        {
          "output_type": "stream",
          "name": "stdout",
          "text": [
            "[nltk_data] Downloading package wordnet to /root/nltk_data...\n",
            "[nltk_data]   Unzipping corpora/wordnet.zip.\n"
          ]
        }
      ]
    },
    {
      "cell_type": "code",
      "metadata": {
        "id": "i7q69C5aIGvq"
      },
      "source": [
        "def lemmatize_stemming(text):\n",
        "    return stemmer.stem(WordNetLemmatizer().lemmatize(text, pos='v'))\n",
        "\n",
        "\n",
        "def preprocess(text):\n",
        "    result = []\n",
        "    for token in gensim.utils.simple_preprocess(text):\n",
        "        if token not in gensim.parsing.preprocessing.STOPWORDS and len(token) > 3:\n",
        "            result.append(lemmatize_stemming(token))\n",
        "    return result\n",
        "\n",
        "\n",
        "processed_docs = []\n",
        "for i in corpus:\n",
        "    processed_docs.append(preprocess(i))"
      ],
      "execution_count": 6,
      "outputs": []
    },
    {
      "cell_type": "code",
      "metadata": {
        "id": "tMTdRqryII9M"
      },
      "source": [
        "tokenizer = Tokenizer(num_words=1500, split=' ')\n",
        "\n",
        "tokenizer.fit_on_texts(processed_docs)\n",
        "\n",
        "X = tokenizer.texts_to_sequences(processed_docs)\n",
        "\n",
        "X = pad_sequences(X)"
      ],
      "execution_count": 7,
      "outputs": []
    },
    {
      "cell_type": "code",
      "metadata": {
        "colab": {
          "base_uri": "https://localhost:8080/"
        },
        "id": "9qnU4EsdOFJg",
        "outputId": "7f4529b7-860d-40e1-8e84-879b3496327a"
      },
      "source": [
        "labels = labels.reshape(-1, 1)\n",
        "Y = np.ravel(labels)\n",
        "# print(Y)\n",
        "# print(Y.shape)\n",
        "Y = pd.get_dummies(Y)\n",
        "Y = np.array(Y)\n",
        "print(Y)"
      ],
      "execution_count": 8,
      "outputs": [
        {
          "output_type": "stream",
          "name": "stdout",
          "text": [
            "[[1 0]\n",
            " [0 1]\n",
            " [0 1]\n",
            " ...\n",
            " [0 1]\n",
            " [1 0]\n",
            " [1 0]]\n"
          ]
        }
      ]
    },
    {
      "cell_type": "code",
      "metadata": {
        "colab": {
          "base_uri": "https://localhost:8080/"
        },
        "id": "EKu0L6z2OHTm",
        "outputId": "5d742748-b565-4fac-964f-d03db3cb160f"
      },
      "source": [
        "X.shape\n",
        "#2000 samples are present"
      ],
      "execution_count": 9,
      "outputs": [
        {
          "output_type": "execute_result",
          "data": {
            "text/plain": [
              "(2000, 751)"
            ]
          },
          "metadata": {},
          "execution_count": 9
        }
      ]
    },
    {
      "cell_type": "code",
      "metadata": {
        "colab": {
          "base_uri": "https://localhost:8080/"
        },
        "id": "HOhW0eKs7udX",
        "outputId": "9d610b79-e2ac-4bb5-aa99-8d31cbf35065"
      },
      "source": [
        "X[1].shape"
      ],
      "execution_count": 10,
      "outputs": [
        {
          "output_type": "execute_result",
          "data": {
            "text/plain": [
              "(751,)"
            ]
          },
          "metadata": {},
          "execution_count": 10
        }
      ]
    },
    {
      "cell_type": "markdown",
      "metadata": {
        "id": "M5SiQ9qyLN6S"
      },
      "source": [
        "## Building Model"
      ]
    },
    {
      "cell_type": "code",
      "metadata": {
        "id": "89MtqwoMIoDj"
      },
      "source": [
        "def build_model(inp_length):\n",
        "  embedding_vector_length = 32\n",
        "  model = Sequential()\n",
        "  model.add(Embedding(5000, embedding_vector_length, input_length=inp_length))\n",
        "  # model.add(Embedding(5000, embedding_vector_length, input_shape=inp_length))\n",
        "  model.add(Conv1D(filters=32, kernel_size=3, padding='same', activation='relu'))\n",
        "  model.add(MaxPooling1D(pool_size=2))\n",
        "  model.add(LSTM(100))\n",
        "  model.add(Dense(2, activation='sigmoid'))\n",
        "  #model.compile(loss='binary_crossentropy', optimizer='adam', metrics=['accuracy'])\n",
        "  #print(model.summary())\n",
        "  return model"
      ],
      "execution_count": 11,
      "outputs": []
    },
    {
      "cell_type": "markdown",
      "metadata": {
        "id": "sEYfpCHoL6fD"
      },
      "source": [
        "## Functions"
      ]
    },
    {
      "cell_type": "code",
      "metadata": {
        "id": "lUrQwuH6fF78"
      },
      "source": [
        "def shuffle_in_unison(a, b, c, d):\n",
        "    rng_state = np.random.get_state()\n",
        "    np.random.shuffle(a)\n",
        "    np.random.set_state(rng_state)\n",
        "    np.random.shuffle(b)\n",
        "    np.random.set_state(rng_state)\n",
        "    np.random.shuffle(c)\n",
        "    np.random.set_state(rng_state)\n",
        "    np.random.shuffle(d)\n",
        "\n",
        "    return a, b, c, d"
      ],
      "execution_count": 12,
      "outputs": []
    },
    {
      "cell_type": "code",
      "metadata": {
        "id": "Mdi09jdKLB2d"
      },
      "source": [
        "def mini_batches(X, Y, mini_batch_size=64):\n",
        "    # Generate batches\n",
        "\n",
        "    m = X.shape[0]  # number of training examples=1700\n",
        "    mini_batches = []\n",
        "    \n",
        "\n",
        "    # Step 2: Partition (shuffled_X, shuffled_Y). Minus the end case.\n",
        "    num_complete_minibatches = int(np.floor(m / mini_batch_size))  # number of mini batches of size mini_batch_size in your partitionning=27\n",
        "    # print(num_complete_minibatches,\"-------------------\")\n",
        "    for k in range(0, num_complete_minibatches):\n",
        "        mini_batch_X = X[k * mini_batch_size: k * mini_batch_size + mini_batch_size, :]\n",
        "        # print(len(mini_batch_X))\n",
        "        mini_batch_Y = Y[k * mini_batch_size: k * mini_batch_size + mini_batch_size]\n",
        "        mini_batch = (mini_batch_X, mini_batch_Y)\n",
        "        mini_batches.append(mini_batch)\n",
        "        \n",
        "\n",
        "    # Handling the end case (last mini-batch < mini_batch_size)\n",
        "    if m % mini_batch_size != 0:\n",
        "        mini_batch_X = X[num_complete_minibatches * mini_batch_size: m, :]\n",
        "        mini_batch_Y = Y[num_complete_minibatches * mini_batch_size: m]\n",
        "        mini_batch = (mini_batch_X, mini_batch_Y)\n",
        "        mini_batches.append(mini_batch)\n",
        "\n",
        "    return mini_batches\n",
        "\n",
        "\n",
        "def lr_scheduler(epoch, maxepoch, max_lr=0.01, min_lr=0.005, cool_down_lr=0.0005):\n",
        "\n",
        "      learning_rate = max_lr + (epoch * (min_lr - max_lr) / maxepoch)\n",
        "\n",
        "      return learning_rate\n"
      ],
      "execution_count": 13,
      "outputs": []
    },
    {
      "cell_type": "code",
      "metadata": {
        "id": "LGT4akEmIupF"
      },
      "source": [
        "def train(args): \n",
        "\n",
        " \n",
        "  batch_size = args[\"batch_size\"]\n",
        "  maxepoch = args[\"maxepoches\"]\n",
        "  min_lr = args[\"min_lr\"]\n",
        "  max_lr = args[\"max_lr\"]\n",
        "  cool_down_lr = args[\"cool_down_lr\"]\n",
        "  lr = args[\"lr\"]\n",
        "  optimizer = args[\"optimizer\"]\n",
        "  \n",
        "  num_classes = args[\"num_classes\"]\n",
        "\n",
        "  x_train = args[\"x_train\"] \n",
        "  y_train = args[\"y_train\"] \n",
        "  x_test = args[\"x_test\"] \n",
        "  y_test = args[\"y_test\"] \n",
        "\n",
        "  num_samples = (x_train.shape)[0]\n",
        "  num_minibatches = int(np.ceil(num_samples / batch_size))\n",
        "\n",
        "  total_delta_weights_dense2 = [0] * num_samples\n",
        "  print(\"Number of MiniBatches:\", num_minibatches)\n",
        "\n",
        "  # model = build_model2(X.shape[0])\n",
        "  model = build_model(751)\n",
        "  if optimizer == \"sgd\":\n",
        "    opt = optimizers.SGD(lr=lr, momentum=0.9, nesterov=True)\n",
        "  elif optimizer == \"adam\":\n",
        "    opt = Adam(learning_rate=min_lr)\n",
        "  model.compile(loss='binary_crossentropy', optimizer='adam', metrics=['accuracy'])\n",
        "  model.summary()\n",
        "  \n",
        "  \n",
        "  for epoch in range(maxepoch):\n",
        "    num_minibatches = int(num_samples / batch_size)\n",
        "    minibatches = mini_batches(x_train, y_train, batch_size)\n",
        "\n",
        " \n",
        "    learning_rate = lr_scheduler(epoch=epoch, maxepoch=maxepoch, max_lr=max_lr, min_lr=min_lr, cool_down_lr=cool_down_lr)\n",
        "    \n",
        "    if optimizer == \"sgd\":\n",
        "      opt = optimizers.SGD(learning_rate=learning_rate, momentum=0.9, nesterov=True)\n",
        "    elif optimizer == \"adam\":\n",
        "      opt = Adam(learning_rate=learning_rate)\n",
        "    model.compile(loss='binary_crossentropy', optimizer='adam', metrics=['accuracy'])\n",
        "\n",
        "    print(\"---------------------------------------------------\", \"Epoch:\", epoch+1, \"Learning Rate:\", learning_rate, \"-----------------------------------------------------------------------\")\n",
        "  \n",
        "    counter = 0\n",
        "    count = 0\n",
        "\n",
        "    for minibatch in minibatches:\n",
        "        \n",
        "        (train_sample_x, train_sample_y) = minibatch\n",
        "        # print(len(train_sample_x)) Each minibatch has 64 elements\n",
        "\n",
        "        # print(\"SHAPE\",len(model.layers[-1].get_weights())) SHAPE: 2\n",
        "        \n",
        "        \n",
        "\n",
        "        pre_weights_dense2 = np.array(model.layers[-1].get_weights()[0]) # before training 64 samples (100 weights)\n",
        "        \n",
        "\n",
        "        counter += 1\n",
        "        \n",
        "\n",
        "        model.fit(train_sample_x, train_sample_y,\n",
        "                  batch_size=batch_size,\n",
        "                  shuffle=False, \n",
        "                  epochs=1,\n",
        "                  verbose=0)\n",
        "\n",
        "      \n",
        "        post_weights_dense2 = np.array(model.layers[-1].get_weights()[0])# after training 64 samples (100 weights)\n",
        "        \n",
        "        \n",
        "        delta_weights_dense2 = np.subtract(post_weights_dense2, pre_weights_dense2) # len=100 \n",
        "        #print(len(delta_weights_dense2),\"OVER\")\n",
        "\n",
        "        for i in range(len(train_sample_x)): # for each of 64 training samples\n",
        "          total_delta_weights_dense2[i + count] = np.add(total_delta_weights_dense2[i + count], delta_weights_dense2)\n",
        "          # delta_weights_dense2 is repeated for each sample. \n",
        "\n",
        "        count += len(train_sample_x)\n",
        "    \n",
        "    print(\"Train Scores:\")\n",
        "    tr_loss, tr_acc = model.evaluate(x=x_train, y=y_train, verbose=1)\n",
        "    print(\"Test Scores:\")\n",
        "    val_loss, val_acc = model.evaluate(x=x_test, y=y_test, verbose=1) \n",
        "    \n",
        "    \n",
        "  return model, total_delta_weights_dense2"
      ],
      "execution_count": 14,
      "outputs": []
    },
    {
      "cell_type": "markdown",
      "metadata": {
        "id": "lgnjLJFLL_eq"
      },
      "source": [
        "## Train Test Split of the Dataset"
      ]
    },
    {
      "cell_type": "code",
      "metadata": {
        "id": "WE2vZ1J8OsOH"
      },
      "source": [
        "X_train, X_test, y_train, y_test = train_test_split(X, Y, test_size=0.15, random_state=42)"
      ],
      "execution_count": 15,
      "outputs": []
    },
    {
      "cell_type": "code",
      "metadata": {
        "id": "Xc14PRECarhh"
      },
      "source": [
        "x_val, x_unseen, y_val, y_unseen = train_test_split(X_test, y_test, test_size=0.5, random_state=42, stratify=y_test)"
      ],
      "execution_count": 16,
      "outputs": []
    },
    {
      "cell_type": "markdown",
      "metadata": {
        "id": "CXQOjndvMGIS"
      },
      "source": [
        "## Training of the actor model"
      ]
    },
    {
      "cell_type": "code",
      "metadata": {
        "colab": {
          "base_uri": "https://localhost:8080/"
        },
        "id": "krocVc2IOmIs",
        "outputId": "533babcf-0f81-4435-d9f5-638713ec00d8"
      },
      "source": [
        "my_args = {\"batch_size\": 1,\n",
        "\"maxepoches\": 8,\n",
        "\"min_lr\": 0.0001,\n",
        "\"max_lr\": 0.001,\n",
        "\"cool_down_lr\": 0.0005,\n",
        "\"lr\": 0.001,\n",
        "\n",
        "\"optimizer\": \"adam\", # different optimizers: adam, sgd\n",
        "\"num_classes\": 2,\n",
        "\"x_train\": X_train, \n",
        "\"y_train\": y_train,\n",
        "\"x_test\": X_test,\n",
        "\"y_test\": y_test\n",
        "}\n",
        "\n",
        "#  random.seed(73)\n",
        "model, total_delta_weights_dense2 = train(my_args)"
      ],
      "execution_count": 17,
      "outputs": [
        {
          "output_type": "stream",
          "name": "stdout",
          "text": [
            "Number of MiniBatches: 1700\n",
            "Model: \"sequential\"\n",
            "_________________________________________________________________\n",
            "Layer (type)                 Output Shape              Param #   \n",
            "=================================================================\n",
            "embedding (Embedding)        (None, 751, 32)           160000    \n",
            "_________________________________________________________________\n",
            "conv1d (Conv1D)              (None, 751, 32)           3104      \n",
            "_________________________________________________________________\n",
            "max_pooling1d (MaxPooling1D) (None, 375, 32)           0         \n",
            "_________________________________________________________________\n",
            "lstm (LSTM)                  (None, 100)               53200     \n",
            "_________________________________________________________________\n",
            "dense (Dense)                (None, 2)                 202       \n",
            "=================================================================\n",
            "Total params: 216,506\n",
            "Trainable params: 216,506\n",
            "Non-trainable params: 0\n",
            "_________________________________________________________________\n",
            "--------------------------------------------------- Epoch: 1 Learning Rate: 0.001 -----------------------------------------------------------------------\n",
            "Train Scores:\n",
            "54/54 [==============================] - 2s 29ms/step - loss: 0.4937 - accuracy: 0.7606\n",
            "Test Scores:\n",
            "10/10 [==============================] - 0s 30ms/step - loss: 0.6807 - accuracy: 0.6400\n",
            "--------------------------------------------------- Epoch: 2 Learning Rate: 0.0008875 -----------------------------------------------------------------------\n",
            "Train Scores:\n",
            "54/54 [==============================] - 2s 29ms/step - loss: 0.2345 - accuracy: 0.9247\n",
            "Test Scores:\n",
            "10/10 [==============================] - 0s 28ms/step - loss: 0.5513 - accuracy: 0.7000\n",
            "--------------------------------------------------- Epoch: 3 Learning Rate: 0.0007750000000000001 -----------------------------------------------------------------------\n",
            "Train Scores:\n",
            "54/54 [==============================] - 2s 29ms/step - loss: 0.1201 - accuracy: 0.9588\n",
            "Test Scores:\n",
            "10/10 [==============================] - 0s 28ms/step - loss: 0.6000 - accuracy: 0.7567\n",
            "--------------------------------------------------- Epoch: 4 Learning Rate: 0.0006625 -----------------------------------------------------------------------\n",
            "Train Scores:\n",
            "54/54 [==============================] - 2s 28ms/step - loss: 0.0569 - accuracy: 0.9806\n",
            "Test Scores:\n",
            "10/10 [==============================] - 0s 27ms/step - loss: 0.7728 - accuracy: 0.7733\n",
            "--------------------------------------------------- Epoch: 5 Learning Rate: 0.00055 -----------------------------------------------------------------------\n",
            "Train Scores:\n",
            "54/54 [==============================] - 2s 29ms/step - loss: 0.0500 - accuracy: 0.9865\n",
            "Test Scores:\n",
            "10/10 [==============================] - 0s 30ms/step - loss: 0.7471 - accuracy: 0.7467\n",
            "--------------------------------------------------- Epoch: 6 Learning Rate: 0.00043750000000000006 -----------------------------------------------------------------------\n",
            "Train Scores:\n",
            "54/54 [==============================] - 2s 28ms/step - loss: 0.0230 - accuracy: 0.9947\n",
            "Test Scores:\n",
            "10/10 [==============================] - 0s 29ms/step - loss: 0.8692 - accuracy: 0.7633\n",
            "--------------------------------------------------- Epoch: 7 Learning Rate: 0.000325 -----------------------------------------------------------------------\n",
            "Train Scores:\n",
            "54/54 [==============================] - 2s 29ms/step - loss: 0.0188 - accuracy: 0.9941\n",
            "Test Scores:\n",
            "10/10 [==============================] - 0s 28ms/step - loss: 0.9116 - accuracy: 0.7800\n",
            "--------------------------------------------------- Epoch: 8 Learning Rate: 0.00021250000000000002 -----------------------------------------------------------------------\n",
            "Train Scores:\n",
            "54/54 [==============================] - 2s 28ms/step - loss: 0.0091 - accuracy: 0.9988\n",
            "Test Scores:\n",
            "10/10 [==============================] - 0s 30ms/step - loss: 0.9772 - accuracy: 0.7900\n"
          ]
        }
      ]
    },
    {
      "cell_type": "markdown",
      "metadata": {
        "id": "_xy0i-37NK3o"
      },
      "source": [
        "## Responsibility"
      ]
    },
    {
      "cell_type": "code",
      "metadata": {
        "id": "JAjLmtnycpEV"
      },
      "source": [
        "def responsibility(total_delta_weights):\n",
        "  arr = np.array(total_delta_weights, dtype=np.float16)\n",
        "  print(\"Layer delta weights:\", arr.shape) #1700 samples and each sample has 100 channels\n",
        "  print(\"----------------------------------------------------------------------\")\n",
        "\n",
        "  argmax_array = np.argmax(arr, axis=0)\n",
        "  print(\"Most Responsible Positive Array ---- Shape:\", argmax_array.shape)\n",
        "  # counts_max = np.bincount(argmax_array.flatten())\n",
        "  # print(\"Most Frequent Index:\", counts_max.argsort()[-10:][::-1])\n",
        "  # print(\"----------------------------------------------------------------------\")\n",
        "\n",
        "  return argmax_array"
      ],
      "execution_count": 18,
      "outputs": []
    },
    {
      "cell_type": "code",
      "metadata": {
        "colab": {
          "base_uri": "https://localhost:8080/"
        },
        "id": "v4TIaQzfc8wO",
        "outputId": "aa78e25e-d98f-48c0-e603-8b00d9cd51d2"
      },
      "source": [
        "array_of_IDs_of_positive_most_responsible_samples = responsibility(total_delta_weights_dense2)"
      ],
      "execution_count": 19,
      "outputs": [
        {
          "output_type": "stream",
          "name": "stdout",
          "text": [
            "Layer delta weights: (1700, 100, 2)\n",
            "----------------------------------------------------------------------\n",
            "Most Responsible Positive Array ---- Shape: (100, 2)\n"
          ]
        }
      ]
    },
    {
      "cell_type": "code",
      "metadata": {
        "id": "wQY3BuH6Qu2z"
      },
      "source": [
        "model.save_weights('/gdrive/MyDrive/Model_Weights.h5')"
      ],
      "execution_count": 20,
      "outputs": []
    },
    {
      "cell_type": "code",
      "metadata": {
        "colab": {
          "base_uri": "https://localhost:8080/"
        },
        "id": "vgi8R82dPDCG",
        "outputId": "bcae43cd-19ed-42a5-98f1-bfbe4b15eb4b"
      },
      "source": [
        "print(len(total_delta_weights_dense2))"
      ],
      "execution_count": 21,
      "outputs": [
        {
          "output_type": "stream",
          "name": "stdout",
          "text": [
            "1700\n"
          ]
        }
      ]
    },
    {
      "cell_type": "code",
      "metadata": {
        "colab": {
          "base_uri": "https://localhost:8080/"
        },
        "id": "Qh3-dGtgn4e7",
        "outputId": "b7d0e5c3-877a-47e4-c026-1840c01e4bb5"
      },
      "source": [
        "predicted_y = model.predict(x_val)\n",
        "# predicted_y=predicted_y.reshape(y_test.shape[0],)\n",
        "# predicted_y = pd.get_dummies(predicted_y)\n",
        "predicted_y = np.array(predicted_y)\n",
        "residuals = np.argmax(predicted_y,1)!=np.argmax(y_val,1) \n",
        "print(residuals)\n",
        "\n",
        "loss = sum(residuals)/len(residuals)\n",
        "print(\"The Test 0/1 loss is: \", loss)\n",
        "\n",
        "print(\"Number of Incorrect samples:\", sum(residuals))"
      ],
      "execution_count": 25,
      "outputs": [
        {
          "output_type": "stream",
          "name": "stdout",
          "text": [
            "[False False False False  True  True False False False False False False\n",
            "  True False False  True False False False False False False False False\n",
            " False False False False  True  True False False  True False False False\n",
            " False False False False False False False False False  True False False\n",
            " False False False False  True False False  True False False False False\n",
            " False False False  True False False  True False False False False False\n",
            " False  True False False False  True False False False False False False\n",
            " False False False False False False False  True False False False False\n",
            " False False  True False  True False False False  True False  True  True\n",
            "  True False False False  True False False False  True False False False\n",
            " False False False False False False False False False False False False\n",
            " False False False False  True False False False  True False  True False\n",
            " False False False False False  True]\n",
            "The Test 0/1 loss is:  0.18\n",
            "Number of Incorrect samples: 27\n"
          ]
        }
      ]
    },
    {
      "cell_type": "code",
      "metadata": {
        "colab": {
          "base_uri": "https://localhost:8080/"
        },
        "id": "P-N79MsioEVm",
        "outputId": "e64c2afd-d6c6-4314-91ae-7a702b4565de"
      },
      "source": [
        "predicted_y_tr = model.predict(X_train, batch_size=1)\n",
        "# predicted_y_tr = pd.get_dummies(predicted_y_tr)\n",
        "predicted_y_tr = np.array(predicted_y_tr)\n",
        "residuals_tr = np.argmax(predicted_y_tr,1)!=np.argmax(y_train,1) \n",
        "print(residuals_tr)\n",
        "\n",
        "loss_tr = sum(residuals_tr)/len(residuals_tr)\n",
        "print(\"The Train 0/1 loss is: \", loss_tr)\n",
        "\n",
        "print(\"Number of Incorrect samples:\", sum(residuals_tr))"
      ],
      "execution_count": 27,
      "outputs": [
        {
          "output_type": "stream",
          "name": "stdout",
          "text": [
            "[False False False ... False False False]\n",
            "The Train 0/1 loss is:  0.001176470588235294\n",
            "Number of Incorrect samples: 2\n"
          ]
        }
      ]
    },
    {
      "cell_type": "code",
      "metadata": {
        "colab": {
          "base_uri": "https://localhost:8080/"
        },
        "id": "zL7yDTydoejD",
        "outputId": "641cbd51-445b-4113-9a31-2fa513d7071f"
      },
      "source": [
        "# Final Data for the Second Model \n",
        "\n",
        "incorrect_indecies = list([i for i, x in enumerate(residuals) if x])\n",
        "correct_indecies = [a for a in range(x_val.shape[0]) if a not in incorrect_indecies]\n",
        "\n",
        "print(len(incorrect_indecies), \"+\", len(correct_indecies), \"=\", len(x_val))\n",
        "\n",
        "\n",
        "incorrect_samples = []\n",
        "incorrect_x = []\n",
        "incorrect_y = []\n",
        "incorrect_y_true = []\n",
        "incorrect_y_pred = []\n",
        "# All (X_train+x_val) values which were wrongly predicted.\n",
        "\n",
        "for ind in incorrect_indecies:\n",
        "  incorrect_x.append(x_val[ind])\n",
        "  incorrect_y.append(0.0)\n",
        "  incorrect_y_true.append(y_val[ind])\n",
        "  incorrect_y_pred.append(predicted_y[ind])\n",
        "len_incorrect_x=len(incorrect_x)\n",
        "print(\"Only incorrectly predicts of x test: \",len(incorrect_x))\n",
        "\n",
        "\n",
        "incorrect_indecies_tr = list([i for i, x in enumerate(residuals_tr) if x]) # incorrect X_train \n",
        "\n",
        "for ind_tr in incorrect_indecies_tr:\n",
        "  incorrect_x.append(X_train[ind_tr])\n",
        "  incorrect_y.append(0.0)\n",
        "  incorrect_y_true.append(y_train[ind_tr])\n",
        "  incorrect_y_pred.append(predicted_y_tr[ind_tr])\n",
        "\n",
        "print(\"Incorrects Done! \\nLength =\", len(incorrect_x))\n",
        "print(\"Length of Wrong x train predicts = \",len(incorrect_x)-len_incorrect_x )\n",
        "\n"
      ],
      "execution_count": 28,
      "outputs": [
        {
          "output_type": "stream",
          "name": "stdout",
          "text": [
            "27 + 123 = 150\n",
            "Only incorrectly predicts of x test:  27\n",
            "Incorrects Done! \n",
            "Length = 29\n",
            "Length of Wrong x train predicts =  2\n"
          ]
        }
      ]
    },
    {
      "cell_type": "markdown",
      "metadata": {
        "id": "7H-lmj656ua1"
      },
      "source": [
        "*Wrongly predicts are << Correctly predicted* \n",
        "\n",
        "\n",
        "\n"
      ]
    },
    {
      "cell_type": "code",
      "metadata": {
        "colab": {
          "base_uri": "https://localhost:8080/"
        },
        "id": "ONVlj2jO5MWR",
        "outputId": "a76b32a8-4035-40c6-8fa5-6c9636ae3139"
      },
      "source": [
        "correct_indecies = random.sample(correct_indecies, len(incorrect_x)) # sampled only from correctly predicts X_test\n",
        "\n",
        "correct_samples = []\n",
        "correct_x = []\n",
        "correct_y = []\n",
        "correct_y_true = []\n",
        "correct_y_pred = []\n",
        "for ind in correct_indecies:\n",
        "  correct_x.append(x_val[ind]) # prev comment makes sense\n",
        "  correct_y.append(1.0) # 1 means correctly predicted\n",
        "  correct_y_true.append(y_val[ind])\n",
        "  correct_y_pred.append(predicted_y[ind])\n",
        "\n",
        "print(\"Corrects Done! \\nLength =\", len(correct_x))"
      ],
      "execution_count": 29,
      "outputs": [
        {
          "output_type": "stream",
          "name": "stdout",
          "text": [
            "Corrects Done! \n",
            "Length = 29\n"
          ]
        }
      ]
    },
    {
      "cell_type": "code",
      "metadata": {
        "colab": {
          "base_uri": "https://localhost:8080/"
        },
        "id": "3nFZmjwdgYlO",
        "outputId": "5136cd88-3ebf-4da8-ecf3-0a6c37511c93"
      },
      "source": [
        "x_train_list = correct_x + incorrect_x\n",
        "y_train_list = correct_y + incorrect_y\n",
        "y_true_list = correct_y_true + incorrect_y_true\n",
        "y_pred_list = correct_y_pred + incorrect_y_pred\n",
        "\n",
        "final_x_train = np.array(x_train_list)\n",
        "final_y_train = np.array(y_train_list)\n",
        "final_y_true = np.array(y_true_list)\n",
        "final_y_pred = np.array(y_pred_list)\n",
        "\n",
        "final_x_train, final_y_train, final_y_true, final_y_pred = shuffle_in_unison(final_x_train, final_y_train, final_y_true, final_y_pred)\n",
        "\n",
        "print(\"Final X and Y Shape:\", final_x_train.shape, final_y_train.shape, final_y_true.shape, final_y_pred.shape)"
      ],
      "execution_count": 30,
      "outputs": [
        {
          "output_type": "stream",
          "name": "stdout",
          "text": [
            "Final X and Y Shape: (58, 751) (58,) (58, 2) (58, 2)\n"
          ]
        }
      ]
    },
    {
      "cell_type": "code",
      "metadata": {
        "colab": {
          "base_uri": "https://localhost:8080/"
        },
        "id": "uZjCCI3CLp4w",
        "outputId": "c63f2053-a9b0-4580-8bc4-be45f9d7c04d"
      },
      "source": [
        "X_train.shape"
      ],
      "execution_count": 31,
      "outputs": [
        {
          "output_type": "execute_result",
          "data": {
            "text/plain": [
              "(1700, 751)"
            ]
          },
          "metadata": {},
          "execution_count": 31
        }
      ]
    },
    {
      "cell_type": "code",
      "metadata": {
        "id": "VLc6tOUoPbxC"
      },
      "source": [
        "model = build_model(751)\n",
        "model.load_weights('/gdrive/MyDrive/Model_Weights.h5')"
      ],
      "execution_count": 32,
      "outputs": []
    },
    {
      "cell_type": "code",
      "metadata": {
        "id": "4YSvfw249lMc"
      },
      "source": [
        "def finding_resp_samples_wx_method(sample, model, ind_array_fc_pos, training_samples):\n",
        "  inp = model.input  # input placeholder\n",
        "  \n",
        "  outputs = [layer.output for layer in model.layers]  # all layer outputs\n",
        "  # print(outputs)\n",
        "  functor = K.function([inp], outputs)  # evaluation function\n",
        "  sample = np.reshape(sample, (1,751))\n",
        "  layer_outs = functor([sample])\n",
        "  \n",
        "  # print(\"-----\",layer_outs[-1])\n",
        "  # print(\"-----\",layer_outs[-2].shape)\n",
        "  \n",
        "  dense_out = layer_outs[-1]\n",
        "  dense_in = layer_outs[-2]\n",
        "\n",
        "\n",
        "  max_ind_fc = np.argmax(dense_out) # 0 or 1\n",
        "  \n",
        "\n",
        "  fc_layer_weights = np.array(model.layers[-1].get_weights()[0]) # 2 dense nodes, so 2 weights column, In each coln, 100 weights are there for 1 sample\n",
        "  # print(len(fc_layer_weights))\n",
        "\n",
        "  # print(\"-------------------------\")\n",
        "\n",
        "  max_weights = fc_layer_weights[:, max_ind_fc] # which ever nodes' output is max, loading the ACTUAL weights for the sample\n",
        "  # print(len(max_weights))\n",
        "  dense_in=dense_in.reshape(100,)\n",
        "  \n",
        "\n",
        "  w = []\n",
        "  x = []\n",
        "  wx = []\n",
        "  for i in range(len(max_weights)):\n",
        "    w.append(max_weights[i])\n",
        "    x.append(dense_in[i])\n",
        "    wx.append(max_weights[i] * dense_in[i])\n",
        "\n",
        "\n",
        "  pos_most_resp_1 = training_samples[ind_array_fc_pos[np.argmax(wx), max_ind_fc]]\n",
        "\n",
        "  return pos_most_resp_1, wx\n",
        "  "
      ],
      "execution_count": 35,
      "outputs": []
    },
    {
      "cell_type": "code",
      "metadata": {
        "id": "XpxVyBmK9sFs"
      },
      "source": [
        "XY_tuples = []\n",
        "for i in range(len(final_x_train)):\n",
        "    sample = final_x_train[i]\n",
        "    # print(sample.reshape(751,))\n",
        "    \n",
        "    prediction = final_y_train[i]\n",
        "    y_truee = final_y_true[i]\n",
        "    y_pred = final_y_pred[i]\n",
        "\n",
        "    # print(\"y true:\", y_truee)\n",
        "    # print(\"ypred:\", y_pred)\n",
        "    # print(\"prediction:\", prediction)\n",
        "\n",
        "    pos_most_resp_1, wx = finding_resp_samples_wx_method(\n",
        "          sample, model,\n",
        "          array_of_IDs_of_positive_most_responsible_samples,\n",
        "          X_train)\n",
        "    # print(pos_most_resp_1)\n",
        "    XY_tuples.append((sample, pos_most_resp_1, prediction, y_truee, y_pred, wx))\n",
        "\n",
        "# print(XY_tuples[1])"
      ],
      "execution_count": 36,
      "outputs": []
    },
    {
      "cell_type": "markdown",
      "metadata": {
        "id": "1aix7mOydS42"
      },
      "source": [
        "### Unseen Data"
      ]
    },
    {
      "cell_type": "code",
      "metadata": {
        "id": "q7vXtjN9dhYM"
      },
      "source": [
        "# x_val, x_unseen, y_val, y_unseen = train_test_split(X_test, y_test, test_size=0.5, random_state=42, stratify=y_test)"
      ],
      "execution_count": 37,
      "outputs": []
    },
    {
      "cell_type": "code",
      "metadata": {
        "colab": {
          "base_uri": "https://localhost:8080/"
        },
        "id": "9Zs5A3GzhRX4",
        "outputId": "83354e61-eb4f-4ea7-cacc-ebd33b7a5949"
      },
      "source": [
        "# Generating Data for Model 2\n",
        "\n",
        "predicted_y_un = model.predict(x_unseen, batch_size=1)\n",
        "# print(predicted_y_un)\n",
        "# predicted_y_un = pd.get_dummies(predicted_y_un)\n",
        "# predicted_y_un = np.array(predicted_y_un)\n",
        "\n",
        "residuals_un = np.argmax(predicted_y_un,1)!=np.argmax(y_unseen,1)\n",
        "print(residuals_un)\n",
        "loss_un = sum(residuals_un)/len(residuals_un)\n",
        "print(\"The Test 0/1 loss is: \", loss_un)\n",
        "\n",
        "print(\"Number of Incorrect samples:\", sum(residuals_un))"
      ],
      "execution_count": 38,
      "outputs": [
        {
          "output_type": "stream",
          "name": "stdout",
          "text": [
            "[False False False False False False  True  True  True False False False\n",
            " False False False False False False False False False False False False\n",
            " False  True False False False False False  True False False  True False\n",
            " False False False False False False False  True False  True False False\n",
            " False  True False False False  True False False  True False False False\n",
            " False  True  True False  True False  True False False False False False\n",
            " False False False False  True  True  True  True False False False False\n",
            " False  True False False False False False False False  True False False\n",
            " False False False False  True False  True False False False  True False\n",
            " False  True  True False False  True False False False False False  True\n",
            "  True  True  True  True False False False False False False False False\n",
            "  True  True False False False False False False False False False  True\n",
            " False False False False False  True]\n",
            "The Test 0/1 loss is:  0.24\n",
            "Number of Incorrect samples: 36\n"
          ]
        }
      ]
    },
    {
      "cell_type": "code",
      "metadata": {
        "colab": {
          "base_uri": "https://localhost:8080/"
        },
        "id": "XEV3mpbThT7B",
        "outputId": "cc05d708-13e4-4ea3-d412-c8d76cd0c448"
      },
      "source": [
        "# Generating Data for Model 2\n",
        "\n",
        "incorrect_indecies = list([i for i, x in enumerate(residuals_un) if x])\n",
        "correct_indecies = [a for a in range(x_unseen.shape[0]) if a not in incorrect_indecies]\n",
        "\n",
        "print(len(incorrect_indecies), \"+\", len(correct_indecies), \"=\", len(x_unseen))\n",
        "\n",
        "\n",
        "# correct_indecies = random.sample(correct_indecies, len(incorrect_indecies))\n",
        "\n",
        "incorrect_samples = []\n",
        "incorrect_x = []\n",
        "incorrect_y = []\n",
        "incorrect_y_true = []\n",
        "incorrect_y_pred = []\n",
        "for ind in incorrect_indecies:\n",
        "  incorrect_x.append(x_unseen[ind])\n",
        "  incorrect_y.append(0.0)\n",
        "  incorrect_y_true.append(y_unseen[ind])\n",
        "  incorrect_y_pred.append(predicted_y_un[ind])\n",
        "\n",
        "\n",
        "\n",
        "correct_samples = []\n",
        "correct_x = []\n",
        "correct_y = []\n",
        "correct_y_true = []\n",
        "correct_y_pred = []\n",
        "for ind in correct_indecies:\n",
        "  correct_x.append(x_unseen[ind])\n",
        "  correct_y.append(1.0)\n",
        "  correct_y_true.append(y_unseen[ind])\n",
        "  correct_y_pred.append(predicted_y_un[ind])\n",
        "\n",
        "x_train_list = correct_x + incorrect_x\n",
        "y_train_list = correct_y + incorrect_y\n",
        "y_true_list = correct_y_true + incorrect_y_true\n",
        "y_pred_list = correct_y_pred + incorrect_y_pred\n",
        "\n",
        "final_x_train = np.array(x_train_list)\n",
        "final_y_train = np.array(y_train_list)\n",
        "final_y_true = np.array(y_true_list)\n",
        "final_y_pred = np.array(y_pred_list)\n",
        "\n",
        "final_x_train, final_y_train, final_y_true, final_y_pred = shuffle_in_unison(final_x_train, final_y_train, final_y_true, final_y_pred)\n",
        "\n",
        "print(\"Final X and Y Shape:\", final_x_train.shape, final_y_train.shape, final_y_true.shape, final_y_pred.shape)"
      ],
      "execution_count": 39,
      "outputs": [
        {
          "output_type": "stream",
          "name": "stdout",
          "text": [
            "36 + 114 = 150\n",
            "Final X and Y Shape: (150, 751) (150,) (150, 2) (150, 2)\n"
          ]
        }
      ]
    },
    {
      "cell_type": "code",
      "metadata": {
        "id": "JTd1ob2sfC5_"
      },
      "source": [
        "XY_tuples_unseen = []\n",
        "for i in range(len(final_x_train)):\n",
        "  sample = final_x_train[i]\n",
        "  prediction = final_y_train[i]\n",
        "  y_truee = final_y_true[i]\n",
        "  y_pred = final_y_pred[i]\n",
        "\n",
        "  # print(\"y true:\", y_truee)\n",
        "  # print(\"ypred:\", y_pred)\n",
        "  # print(\"prediction:\", prediction)\n",
        "\n",
        "  pos_most_resp_1, wx = finding_resp_samples_wx_method(\n",
        "          sample, model,\n",
        "          array_of_IDs_of_positive_most_responsible_samples,\n",
        "          X_train)\n",
        "    # print(responsible_IDs)\n",
        "  XY_tuples_unseen.append((sample, pos_most_resp_1, prediction, y_truee, y_pred, wx))\n",
        "\n"
      ],
      "execution_count": 40,
      "outputs": []
    },
    {
      "cell_type": "code",
      "metadata": {
        "colab": {
          "base_uri": "https://localhost:8080/",
          "height": 35
        },
        "id": "p307mD3_fiu4",
        "outputId": "5f74dca1-057e-411d-da86-171fc28a7944"
      },
      "source": [
        "str(len(XY_tuples_unseen)) +\" <--Unseen   Train--> \"+ str(len(XY_tuples))"
      ],
      "execution_count": 41,
      "outputs": [
        {
          "output_type": "execute_result",
          "data": {
            "application/vnd.google.colaboratory.intrinsic+json": {
              "type": "string"
            },
            "text/plain": [
              "'150 <--Unseen   Train--> 58'"
            ]
          },
          "metadata": {},
          "execution_count": 41
        }
      ]
    },
    {
      "cell_type": "markdown",
      "metadata": {
        "id": "BdsTSYREfnch"
      },
      "source": [
        "## Loading data for critic Model"
      ]
    },
    {
      "cell_type": "code",
      "metadata": {
        "id": "-Kpd-rqRfvzm"
      },
      "source": [
        "def load_data(train_tuples, unseen_tuples):\n",
        "  \n",
        "  samples = []\n",
        "  resp_samples = []\n",
        "  y = []\n",
        "  y_trues = []\n",
        "  y_preds = []\n",
        "  for tpl in train_tuples:\n",
        "    samples.append(tpl[0])\n",
        "    resp_samples.append(tpl[1])\n",
        "    y_trues.append(tpl[3])\n",
        "    y_preds.append(tpl[4])\n",
        "\n",
        "    if tpl[2] == 0:\n",
        "      y.append([1.0,0.0])\n",
        "    elif tpl[2] == 1:\n",
        "      y.append([0.0,1.0])\n",
        "\n",
        "  unseen_samples = []\n",
        "  unseen_resp_samples = []\n",
        "  unseen_y = []\n",
        "  unseen_y_trues = []\n",
        "  unseen_y_preds = []\n",
        "  for unseen_tpl in unseen_tuples:\n",
        "    unseen_samples.append(unseen_tpl[0])\n",
        "    unseen_resp_samples.append(unseen_tpl[1])\n",
        "    unseen_y_trues.append(unseen_tpl[3])\n",
        "    unseen_y_preds.append(unseen_tpl[4])\n",
        "\n",
        "    if unseen_tpl[2] == 0:\n",
        "      unseen_y.append([1.0,0.0])\n",
        "    elif unseen_tpl[2] == 1:\n",
        "      unseen_y.append([0.0,1.0])\n",
        "\n",
        "  samples, unseen_samples = np.array(samples), np.array(unseen_samples)\n",
        "  resp_samples, unseen_resp_samples = np.array(resp_samples), np.array(unseen_resp_samples)\n",
        "\n",
        "\n",
        "  y = np.array(y)\n",
        "  unseen_y = np.array(unseen_y)\n",
        "\n",
        "  print('Training Data:')\n",
        "  print(\"Input Image Shapes:\", samples.shape, resp_samples.shape)\n",
        "  print(\"Output shape:\", y.shape)\n",
        "\n",
        "  print('Unseen Data:')\n",
        "  print(\"Input Image Shapes:\", unseen_samples.shape, unseen_resp_samples.shape)\n",
        "  print(\"Output shape:\", unseen_y.shape)\n",
        "  return samples, resp_samples, y, y_trues, y_preds, unseen_samples, unseen_resp_samples, unseen_y, unseen_y_trues, unseen_y_preds"
      ],
      "execution_count": 42,
      "outputs": []
    },
    {
      "cell_type": "code",
      "metadata": {
        "colab": {
          "base_uri": "https://localhost:8080/"
        },
        "id": "h7ZaPQaze2_Q",
        "outputId": "9de207cb-d291-4c30-8763-b1f802b01252"
      },
      "source": [
        "samples, resp_samples, y, y_trues, y_preds, samples_unseen, resp_samples_unseen, y_unseen, y_trues_unseen, y_preds_unseen = load_data(XY_tuples, XY_tuples_unseen)"
      ],
      "execution_count": 43,
      "outputs": [
        {
          "output_type": "stream",
          "name": "stdout",
          "text": [
            "Training Data:\n",
            "Input Image Shapes: (58, 751) (58, 751)\n",
            "Output shape: (58, 2)\n",
            "Unseen Data:\n",
            "Input Image Shapes: (150, 751) (150, 751)\n",
            "Output shape: (150, 2)\n"
          ]
        }
      ]
    },
    {
      "cell_type": "code",
      "metadata": {
        "colab": {
          "base_uri": "https://localhost:8080/"
        },
        "id": "0ZmcKFyDihvr",
        "outputId": "d769421c-cbe1-4800-9161-5709a174768e"
      },
      "source": [
        "train_index=range(len(samples))\n",
        "y_train=y\n",
        "\n",
        "train_samples = []\n",
        "train_resps = []\n",
        "train_trues = []\n",
        "train_preds = []\n",
        "\n",
        "# y_train = []\n",
        "for ind in train_index:\n",
        "  train_samples.append(samples[ind])\n",
        "  train_resps.append(resp_samples[ind])\n",
        "  train_trues.append(y_trues[ind])\n",
        "  train_preds.append(y_preds[ind])\n",
        "  # y_train.append(y[ind])\n",
        "\n",
        "train_samples = np.array(train_samples)\n",
        "train_resps = np.array(train_resps)\n",
        "train_trues = np.array(train_trues)\n",
        "train_preds = np.array(train_preds)\n",
        "# y_train = np.array(y_train)\n",
        "\n",
        "\n",
        "\n",
        "print(\"Training set:\", train_resps.shape, train_samples.shape, y_train.shape, train_preds.shape, train_trues.shape)\n"
      ],
      "execution_count": 44,
      "outputs": [
        {
          "output_type": "stream",
          "name": "stdout",
          "text": [
            "Training set: (58, 751) (58, 751) (58, 2) (58, 2) (58, 2)\n"
          ]
        }
      ]
    },
    {
      "cell_type": "markdown",
      "metadata": {
        "id": "WfdBzIcHfuxU"
      },
      "source": [
        "## Functions"
      ]
    },
    {
      "cell_type": "code",
      "metadata": {
        "id": "Htel7n7HfGkL"
      },
      "source": [
        "def train2(args): \n",
        "  batch_size = args[\"batch_size\"]\n",
        "  maxepoch = args[\"maxepoches\"]\n",
        "  min_lr = args[\"min_lr\"]\n",
        "  max_lr = args[\"max_lr\"]\n",
        "  cool_down_lr = args[\"cool_down_lr\"]\n",
        "  lr = args[\"lr\"]\n",
        "    \n",
        "  optimizer = args[\"optimizer\"]\n",
        "  train_samples = args[\"train_samples\"]\n",
        "\n",
        "  train_resps = args[\"train_resps\"]\n",
        "\n",
        "  y_train = args[\"y_train\"]\n",
        "\n",
        "  model = None\n",
        "\n",
        "  def lr_scheduler(epoch):\n",
        "      if epoch <= 0.6 * maxepoch:\n",
        "        learning_rate = max_lr\n",
        "      else:\n",
        "        learning_rate = max_lr + ((epoch + 1 - (0.6 * maxepoch)) * (min_lr - max_lr) / (0.4 * maxepoch) )\n",
        "      print(\"Epoch:\", epoch, \"Learning Rate:\", learning_rate)\n",
        "      return learning_rate\n",
        "\n",
        "  model = build_model(751*2)\n",
        "  reduce_lr = keras.callbacks.LearningRateScheduler(lr_scheduler)\n",
        "  if optimizer == \"sgd\":\n",
        "    opt = optimizers.SGD(learning_rate=min_lr, momentum=0.9, nesterov=True)\n",
        "  elif optimizer == \"adam\":\n",
        "    opt = Adam(learning_rate=min_lr)\n",
        "  model.compile(loss='binary_crossentropy', optimizer=opt, metrics=['accuracy'])\n",
        "  model.summary()\n",
        "  \n",
        "\n",
        "  x_train = np.concatenate((train_samples, train_resps), axis=1)\n",
        "  print(x_train.shape)\n",
        "  history = model.fit(x_train, y_train,\n",
        "                    batch_size=batch_size,\n",
        "                    shuffle=True, \n",
        "                    epochs=maxepoch,\n",
        "                    validation_split=0.2,\n",
        "                    callbacks=[reduce_lr],\n",
        "                    verbose=1)\n",
        "  \n",
        "  return model, history"
      ],
      "execution_count": 45,
      "outputs": []
    },
    {
      "cell_type": "code",
      "metadata": {
        "colab": {
          "base_uri": "https://localhost:8080/"
        },
        "id": "1Fhxtoq_hrxO",
        "outputId": "2e845016-d619-4481-8978-e8c0fedb734a"
      },
      "source": [
        "train_resps.shape"
      ],
      "execution_count": 46,
      "outputs": [
        {
          "output_type": "execute_result",
          "data": {
            "text/plain": [
              "(58, 751)"
            ]
          },
          "metadata": {},
          "execution_count": 46
        }
      ]
    },
    {
      "cell_type": "code",
      "metadata": {
        "colab": {
          "base_uri": "https://localhost:8080/"
        },
        "id": "1-8xFdUAlpu-",
        "outputId": "a840b341-e2c9-45ea-bf65-2133bbf4e8d6"
      },
      "source": [
        "my_args = {\"batch_size\": 15,\n",
        "\"maxepoches\": 50,\n",
        "\"min_lr\": 0.001,\n",
        "\"max_lr\": 0.01,\n",
        "\"cool_down_lr\": 0.00001,\n",
        "\"lr\": 0.001,\n",
        "\n",
        "\"optimizer\": \"adam\", # different optimizers: adam, sgd\n",
        "\"train_samples\": train_samples, \n",
        "\n",
        "\"train_resps\": train_resps,\n",
        "\n",
        "\"y_train\": y_train,\n",
        "}\n",
        "\n",
        "model, hist = train2(my_args)\n"
      ],
      "execution_count": 47,
      "outputs": [
        {
          "output_type": "stream",
          "name": "stdout",
          "text": [
            "Model: \"sequential_2\"\n",
            "_________________________________________________________________\n",
            "Layer (type)                 Output Shape              Param #   \n",
            "=================================================================\n",
            "embedding_2 (Embedding)      (None, 1502, 32)          160000    \n",
            "_________________________________________________________________\n",
            "conv1d_2 (Conv1D)            (None, 1502, 32)          3104      \n",
            "_________________________________________________________________\n",
            "max_pooling1d_2 (MaxPooling1 (None, 751, 32)           0         \n",
            "_________________________________________________________________\n",
            "lstm_2 (LSTM)                (None, 100)               53200     \n",
            "_________________________________________________________________\n",
            "dense_2 (Dense)              (None, 2)                 202       \n",
            "=================================================================\n",
            "Total params: 216,506\n",
            "Trainable params: 216,506\n",
            "Non-trainable params: 0\n",
            "_________________________________________________________________\n",
            "(58, 1502)\n",
            "Epoch 1/50\n",
            "Epoch: 0 Learning Rate: 0.01\n",
            "4/4 [==============================] - 3s 340ms/step - loss: 0.7058 - accuracy: 0.3478 - val_loss: 0.6952 - val_accuracy: 0.5833\n",
            "Epoch 2/50\n",
            "Epoch: 1 Learning Rate: 0.01\n",
            "4/4 [==============================] - 1s 134ms/step - loss: 0.6926 - accuracy: 0.4783 - val_loss: 0.6990 - val_accuracy: 0.5833\n",
            "Epoch 3/50\n",
            "Epoch: 2 Learning Rate: 0.01\n",
            "4/4 [==============================] - 1s 129ms/step - loss: 0.6970 - accuracy: 0.4783 - val_loss: 0.7092 - val_accuracy: 0.5833\n",
            "Epoch 4/50\n",
            "Epoch: 3 Learning Rate: 0.01\n",
            "4/4 [==============================] - 0s 124ms/step - loss: 0.6892 - accuracy: 0.4783 - val_loss: 0.7194 - val_accuracy: 0.5833\n",
            "Epoch 5/50\n",
            "Epoch: 4 Learning Rate: 0.01\n",
            "4/4 [==============================] - 0s 126ms/step - loss: 0.6880 - accuracy: 0.4783 - val_loss: 0.7477 - val_accuracy: 0.2500\n",
            "Epoch 6/50\n",
            "Epoch: 5 Learning Rate: 0.01\n",
            "4/4 [==============================] - 0s 125ms/step - loss: 0.6818 - accuracy: 0.6087 - val_loss: 0.7742 - val_accuracy: 0.2500\n",
            "Epoch 7/50\n",
            "Epoch: 6 Learning Rate: 0.01\n",
            "4/4 [==============================] - 0s 127ms/step - loss: 0.6782 - accuracy: 0.5870 - val_loss: 0.8094 - val_accuracy: 0.3333\n",
            "Epoch 8/50\n",
            "Epoch: 7 Learning Rate: 0.01\n",
            "4/4 [==============================] - 0s 125ms/step - loss: 0.6727 - accuracy: 0.6087 - val_loss: 0.8638 - val_accuracy: 0.3333\n",
            "Epoch 9/50\n",
            "Epoch: 8 Learning Rate: 0.01\n",
            "4/4 [==============================] - 0s 122ms/step - loss: 0.6714 - accuracy: 0.6087 - val_loss: 1.1053 - val_accuracy: 0.2500\n",
            "Epoch 10/50\n",
            "Epoch: 9 Learning Rate: 0.01\n",
            "4/4 [==============================] - 0s 120ms/step - loss: 0.6913 - accuracy: 0.5870 - val_loss: 1.2296 - val_accuracy: 0.2500\n",
            "Epoch 11/50\n",
            "Epoch: 10 Learning Rate: 0.01\n",
            "4/4 [==============================] - 0s 117ms/step - loss: 0.6919 - accuracy: 0.6087 - val_loss: 1.1788 - val_accuracy: 0.2500\n",
            "Epoch 12/50\n",
            "Epoch: 11 Learning Rate: 0.01\n",
            "4/4 [==============================] - 0s 110ms/step - loss: 0.6863 - accuracy: 0.5870 - val_loss: 1.0200 - val_accuracy: 0.2500\n",
            "Epoch 13/50\n",
            "Epoch: 12 Learning Rate: 0.01\n",
            "4/4 [==============================] - 0s 112ms/step - loss: 0.6582 - accuracy: 0.6087 - val_loss: 0.8866 - val_accuracy: 0.2500\n",
            "Epoch 14/50\n",
            "Epoch: 13 Learning Rate: 0.01\n",
            "4/4 [==============================] - 0s 114ms/step - loss: 0.6511 - accuracy: 0.6087 - val_loss: 0.8164 - val_accuracy: 0.2500\n",
            "Epoch 15/50\n",
            "Epoch: 14 Learning Rate: 0.01\n",
            "4/4 [==============================] - 0s 110ms/step - loss: 0.6448 - accuracy: 0.6087 - val_loss: 0.7921 - val_accuracy: 0.2500\n",
            "Epoch 16/50\n",
            "Epoch: 15 Learning Rate: 0.01\n",
            "4/4 [==============================] - 0s 110ms/step - loss: 0.6406 - accuracy: 0.6087 - val_loss: 0.7881 - val_accuracy: 0.2500\n",
            "Epoch 17/50\n",
            "Epoch: 16 Learning Rate: 0.01\n",
            "4/4 [==============================] - 0s 109ms/step - loss: 0.6386 - accuracy: 0.6087 - val_loss: 0.8012 - val_accuracy: 0.2500\n",
            "Epoch 18/50\n",
            "Epoch: 17 Learning Rate: 0.01\n",
            "4/4 [==============================] - 0s 113ms/step - loss: 0.6350 - accuracy: 0.6087 - val_loss: 0.8284 - val_accuracy: 0.2500\n",
            "Epoch 19/50\n",
            "Epoch: 18 Learning Rate: 0.01\n",
            "4/4 [==============================] - 0s 110ms/step - loss: 0.6347 - accuracy: 0.6087 - val_loss: 0.8382 - val_accuracy: 0.2500\n",
            "Epoch 20/50\n",
            "Epoch: 19 Learning Rate: 0.01\n",
            "4/4 [==============================] - 0s 111ms/step - loss: 0.6349 - accuracy: 0.5870 - val_loss: 0.8661 - val_accuracy: 0.2500\n",
            "Epoch 21/50\n",
            "Epoch: 20 Learning Rate: 0.01\n",
            "4/4 [==============================] - 0s 109ms/step - loss: 0.6349 - accuracy: 0.5870 - val_loss: 0.8578 - val_accuracy: 0.2500\n",
            "Epoch 22/50\n",
            "Epoch: 21 Learning Rate: 0.01\n",
            "4/4 [==============================] - 0s 113ms/step - loss: 0.6328 - accuracy: 0.6739 - val_loss: 0.8095 - val_accuracy: 0.5000\n",
            "Epoch 23/50\n",
            "Epoch: 22 Learning Rate: 0.01\n",
            "4/4 [==============================] - 0s 110ms/step - loss: 0.6521 - accuracy: 0.5217 - val_loss: 0.8123 - val_accuracy: 0.2500\n",
            "Epoch 24/50\n",
            "Epoch: 23 Learning Rate: 0.01\n",
            "4/4 [==============================] - 0s 110ms/step - loss: 0.6295 - accuracy: 0.6087 - val_loss: 0.8589 - val_accuracy: 0.2500\n",
            "Epoch 25/50\n",
            "Epoch: 24 Learning Rate: 0.01\n",
            "4/4 [==============================] - 0s 110ms/step - loss: 0.6354 - accuracy: 0.6087 - val_loss: 0.8878 - val_accuracy: 0.2500\n",
            "Epoch 26/50\n",
            "Epoch: 25 Learning Rate: 0.01\n",
            "4/4 [==============================] - 0s 112ms/step - loss: 0.6471 - accuracy: 0.5217 - val_loss: 0.8584 - val_accuracy: 0.5833\n",
            "Epoch 27/50\n",
            "Epoch: 26 Learning Rate: 0.01\n",
            "4/4 [==============================] - 0s 112ms/step - loss: 0.6556 - accuracy: 0.5435 - val_loss: 0.9253 - val_accuracy: 0.3333\n",
            "Epoch 28/50\n",
            "Epoch: 27 Learning Rate: 0.01\n",
            "4/4 [==============================] - 0s 111ms/step - loss: 0.6381 - accuracy: 0.6304 - val_loss: 0.9513 - val_accuracy: 0.3333\n",
            "Epoch 29/50\n",
            "Epoch: 28 Learning Rate: 0.01\n",
            "4/4 [==============================] - 0s 115ms/step - loss: 0.6506 - accuracy: 0.6087 - val_loss: 0.9414 - val_accuracy: 0.2500\n",
            "Epoch 30/50\n",
            "Epoch: 29 Learning Rate: 0.01\n",
            "4/4 [==============================] - 0s 110ms/step - loss: 0.6383 - accuracy: 0.6087 - val_loss: 0.8613 - val_accuracy: 0.2500\n",
            "Epoch 31/50\n",
            "Epoch: 30 Learning Rate: 0.01\n",
            "4/4 [==============================] - 0s 110ms/step - loss: 0.6368 - accuracy: 0.5652 - val_loss: 0.8211 - val_accuracy: 0.5833\n",
            "Epoch 32/50\n",
            "Epoch: 31 Learning Rate: 0.0091\n",
            "4/4 [==============================] - 0s 112ms/step - loss: 0.6479 - accuracy: 0.5435 - val_loss: 0.8258 - val_accuracy: 0.5833\n",
            "Epoch 33/50\n",
            "Epoch: 32 Learning Rate: 0.00865\n",
            "4/4 [==============================] - 0s 110ms/step - loss: 0.6397 - accuracy: 0.5435 - val_loss: 0.7648 - val_accuracy: 0.5000\n",
            "Epoch 34/50\n",
            "Epoch: 33 Learning Rate: 0.0082\n",
            "4/4 [==============================] - 0s 110ms/step - loss: 0.6374 - accuracy: 0.5217 - val_loss: 0.7564 - val_accuracy: 0.2500\n",
            "Epoch 35/50\n",
            "Epoch: 34 Learning Rate: 0.00775\n",
            "4/4 [==============================] - 0s 108ms/step - loss: 0.6417 - accuracy: 0.6087 - val_loss: 0.7622 - val_accuracy: 0.2500\n",
            "Epoch 36/50\n",
            "Epoch: 35 Learning Rate: 0.0073\n",
            "4/4 [==============================] - 0s 108ms/step - loss: 0.6391 - accuracy: 0.6087 - val_loss: 0.7802 - val_accuracy: 0.2500\n",
            "Epoch 37/50\n",
            "Epoch: 36 Learning Rate: 0.00685\n",
            "4/4 [==============================] - 0s 109ms/step - loss: 0.6415 - accuracy: 0.6087 - val_loss: 0.8134 - val_accuracy: 0.2500\n",
            "Epoch 38/50\n",
            "Epoch: 37 Learning Rate: 0.0063999999999999994\n",
            "4/4 [==============================] - 0s 111ms/step - loss: 0.6492 - accuracy: 0.6087 - val_loss: 0.8629 - val_accuracy: 0.2500\n",
            "Epoch 39/50\n",
            "Epoch: 38 Learning Rate: 0.0059499999999999996\n",
            "4/4 [==============================] - 0s 110ms/step - loss: 0.6545 - accuracy: 0.6087 - val_loss: 0.8652 - val_accuracy: 0.2500\n",
            "Epoch 40/50\n",
            "Epoch: 39 Learning Rate: 0.0055\n",
            "4/4 [==============================] - 0s 109ms/step - loss: 0.6444 - accuracy: 0.6087 - val_loss: 0.8341 - val_accuracy: 0.2500\n",
            "Epoch 41/50\n",
            "Epoch: 40 Learning Rate: 0.00505\n",
            "4/4 [==============================] - 0s 108ms/step - loss: 0.6400 - accuracy: 0.6087 - val_loss: 0.8379 - val_accuracy: 0.2500\n",
            "Epoch 42/50\n",
            "Epoch: 41 Learning Rate: 0.0046\n",
            "4/4 [==============================] - 0s 112ms/step - loss: 0.6352 - accuracy: 0.6087 - val_loss: 0.8641 - val_accuracy: 0.2500\n",
            "Epoch 43/50\n",
            "Epoch: 42 Learning Rate: 0.004149999999999999\n",
            "4/4 [==============================] - 0s 109ms/step - loss: 0.6321 - accuracy: 0.6087 - val_loss: 0.8992 - val_accuracy: 0.2500\n",
            "Epoch 44/50\n",
            "Epoch: 43 Learning Rate: 0.0037\n",
            "4/4 [==============================] - 0s 111ms/step - loss: 0.6323 - accuracy: 0.6087 - val_loss: 0.9176 - val_accuracy: 0.2500\n",
            "Epoch 45/50\n",
            "Epoch: 44 Learning Rate: 0.0032499999999999994\n",
            "4/4 [==============================] - 0s 114ms/step - loss: 0.6322 - accuracy: 0.6087 - val_loss: 0.9286 - val_accuracy: 0.2500\n",
            "Epoch 46/50\n",
            "Epoch: 45 Learning Rate: 0.0027999999999999995\n",
            "4/4 [==============================] - 0s 110ms/step - loss: 0.6314 - accuracy: 0.6087 - val_loss: 0.9348 - val_accuracy: 0.2500\n",
            "Epoch 47/50\n",
            "Epoch: 46 Learning Rate: 0.002349999999999999\n",
            "4/4 [==============================] - 0s 111ms/step - loss: 0.6318 - accuracy: 0.6087 - val_loss: 0.9384 - val_accuracy: 0.2500\n",
            "Epoch 48/50\n",
            "Epoch: 47 Learning Rate: 0.001899999999999999\n",
            "4/4 [==============================] - 0s 111ms/step - loss: 0.6319 - accuracy: 0.6087 - val_loss: 0.9389 - val_accuracy: 0.2500\n",
            "Epoch 49/50\n",
            "Epoch: 48 Learning Rate: 0.00145\n",
            "4/4 [==============================] - 0s 109ms/step - loss: 0.6314 - accuracy: 0.6087 - val_loss: 0.9372 - val_accuracy: 0.2500\n",
            "Epoch 50/50\n",
            "Epoch: 49 Learning Rate: 0.0009999999999999992\n",
            "4/4 [==============================] - 0s 112ms/step - loss: 0.6313 - accuracy: 0.6087 - val_loss: 0.9346 - val_accuracy: 0.2500\n"
          ]
        }
      ]
    },
    {
      "cell_type": "code",
      "metadata": {
        "colab": {
          "base_uri": "https://localhost:8080/",
          "height": 591
        },
        "id": "8GJVB63gqk0I",
        "outputId": "f90b2810-9cbb-4e9f-f296-fa7becbe5082"
      },
      "source": [
        "# list all data in history\n",
        "print(hist.history.keys())\n",
        "# summarize history for accuracy\n",
        "plt.plot(hist.history['accuracy'])\n",
        "plt.plot(hist.history['val_accuracy'])\n",
        "plt.title('model accuracy')\n",
        "plt.ylabel('accuracy')\n",
        "plt.xlabel('epoch')\n",
        "plt.legend(['train', 'validation'], loc='upper left')\n",
        "plt.show()\n",
        "# summarize history for loss\n",
        "plt.plot(hist.history['loss'])\n",
        "plt.plot(hist.history['val_loss'])\n",
        "plt.title('model loss')\n",
        "plt.ylabel('loss')\n",
        "plt.xlabel('epoch')\n",
        "plt.legend(['train', 'validation'], loc='upper left')\n",
        "plt.show()"
      ],
      "execution_count": 48,
      "outputs": [
        {
          "output_type": "stream",
          "name": "stdout",
          "text": [
            "dict_keys(['loss', 'accuracy', 'val_loss', 'val_accuracy', 'lr'])\n"
          ]
        },
        {
          "output_type": "display_data",
          "data": {
            "image/png": "[encoded data removed]",
            "text/plain": [
              "<Figure size 432x288 with 1 Axes>"
            ]
          },
          "metadata": {
            "needs_background": "light"
          }
        },
        {
          "output_type": "display_data",
          "data": {
            "image/png": "[encoded data removed]",
            "text/plain": [
              "<Figure size 432x288 with 1 Axes>"
            ]
          },
          "metadata": {
            "needs_background": "light"
          }
        }
      ]
    },
    {
      "cell_type": "markdown",
      "metadata": {
        "id": "iIE-GF0vgDpd"
      },
      "source": [
        "## Evaluation on Unseen Dataset"
      ]
    },
    {
      "cell_type": "code",
      "metadata": {
        "colab": {
          "base_uri": "https://localhost:8080/"
        },
        "id": "ETUtjC0gq8ct",
        "outputId": "24919352-70ea-4f64-ff8e-dac0985e3b06"
      },
      "source": [
        "print(\"Evaluation on Unseen Dataset:\")\n",
        "\n",
        "x_test = np.concatenate((samples_unseen, resp_samples_unseen), axis=1)\n",
        "print(x_test[1].shape)\n",
        "\n",
        "model.evaluate(x_test, y_unseen)\n",
        "y_hat = model.predict(x_test)\n",
        "\n",
        "y_pred = np.argmax(y_hat, axis=1)\n",
        "y_true = np.argmax(y_unseen, axis=1)\n",
        "# print(y_pred[0],\"ddddd\",y_unseen[0])\n",
        "\n",
        "my_precision = precision_score(y_true, y_pred)\n",
        "my_recal = recall_score(y_true, y_pred)\n",
        "my_f1 = f1_score(y_true, y_pred)\n",
        "print(accuracy_score(y_true,y_pred))\n",
        "print(\"Precision:\", my_precision, \"Recall:\", my_recal, \"f1 score:\", my_f1)"
      ],
      "execution_count": 49,
      "outputs": [
        {
          "output_type": "stream",
          "name": "stdout",
          "text": [
            "Evaluation on Unseen Dataset:\n",
            "(1502,)\n",
            "5/5 [==============================] - 0s 56ms/step - loss: 0.6829 - accuracy: 0.7267\n",
            "0.7266666666666667\n",
            "Precision: 0.7874015748031497 Recall: 0.8771929824561403 f1 score: 0.8298755186721992\n"
          ]
        }
      ]
    },
    {
      "cell_type": "code",
      "metadata": {
        "colab": {
          "base_uri": "https://localhost:8080/"
        },
        "id": "H2PgAsf8rU6k",
        "outputId": "8d32060d-5588-447f-c186-b349ea252d7d"
      },
      "source": [
        "x_test.shape"
      ],
      "execution_count": 50,
      "outputs": [
        {
          "output_type": "execute_result",
          "data": {
            "text/plain": [
              "(150, 1502)"
            ]
          },
          "metadata": {},
          "execution_count": 50
        }
      ]
    },
    {
      "cell_type": "code",
      "metadata": {
        "id": "-bemjjqPHWbV"
      },
      "source": [
        ""
      ],
      "execution_count": null,
      "outputs": []
    }
  ]
}