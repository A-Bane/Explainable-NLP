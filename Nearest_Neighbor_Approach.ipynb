{
  "nbformat": 4,
  "nbformat_minor": 0,
  "metadata": {
    "accelerator": "GPU",
    "colab": {
      "name": "Nearest-Neighbor Approach.ipynb",
      "provenance": [],
      "collapsed_sections": [],
      "authorship_tag": "ABX9TyNv4LOsjAbjeSJHH0ZkLZPz",
      "include_colab_link": true
    },
    "kernelspec": {
      "display_name": "Python 3",
      "name": "python3"
    },
    "language_info": {
      "name": "python"
    }
  },
  "cells": [
    {
      "cell_type": "markdown",
      "metadata": {
        "id": "view-in-github",
        "colab_type": "text"
      },
      "source": [
        "<a href=\"https://colab.research.google.com/github/A-Bane/Explainable-NLP/blob/main/Nearest_Neighbor_Approach.ipynb\" target=\"_parent\"><img src=\"https://colab.research.google.com/assets/colab-badge.svg\" alt=\"Open In Colab\"/></a>"
      ]
    },
    {
      "cell_type": "markdown",
      "metadata": {
        "id": "r7mLsYTuCDWJ"
      },
      "source": [
        "## Import"
      ]
    },
    {
      "cell_type": "code",
      "metadata": {
        "id": "qvvXNYmEAr9U"
      },
      "source": [
        "# Import\n",
        "import numpy as np\n",
        "import pandas as pd\n",
        "from keras.models import Sequential\n",
        "from keras.layers import Dense, Embedding, LSTM, SpatialDropout1D, Flatten, Dropout\n",
        "from sklearn.model_selection import train_test_split\n",
        "from sklearn.feature_extraction.text import CountVectorizer\n",
        "from keras.preprocessing.text import Tokenizer\n",
        "from keras.preprocessing.sequence import pad_sequences\n",
        "from keras.utils.np_utils import to_categorical\n",
        "import re\n",
        "from sklearn.datasets import load_files\n",
        "from keras.layers import Dense,Conv1D,MaxPooling1D\n",
        "from tensorflow.keras import optimizers\n",
        "import random\n",
        "from keras import backend as K\n",
        "import cv2\n",
        "import keras\n",
        "import matplotlib.pyplot as plt\n",
        "from sklearn.metrics import precision_score, recall_score, f1_score,accuracy_score\n",
        "import gensim\n",
        "from nltk.stem import WordNetLemmatizer, SnowballStemmer\n",
        "from nltk.stem.porter import *\n",
        "import nltk\n",
        "from math import sqrt"
      ],
      "execution_count": null,
      "outputs": []
    },
    {
      "cell_type": "markdown",
      "metadata": {
        "id": "hfDjf8rbCLWt"
      },
      "source": [
        "## Load files from Drive"
      ]
    },
    {
      "cell_type": "code",
      "metadata": {
        "colab": {
          "base_uri": "https://localhost:8080/"
        },
        "id": "D2RUWjG8AxYu",
        "outputId": "105cde8b-ab8b-4f9e-b829-03b1a7df94e3"
      },
      "source": [
        "# Load files from Drive\n",
        "from google.colab import drive\n",
        "drive.mount('/gdrive/')\n",
        "dataset = load_files('/gdrive/My Drive/txt_sentoken')\n",
        "features, labels = dataset.data, dataset.target"
      ],
      "execution_count": null,
      "outputs": [
        {
          "name": "stdout",
          "output_type": "stream",
          "text": [
            "Drive already mounted at /gdrive/; to attempt to forcibly remount, call drive.mount(\"/gdrive/\", force_remount=True).\n"
          ]
        }
      ]
    },
    {
      "cell_type": "markdown",
      "metadata": {
        "id": "yQFSb8tuCuzq"
      },
      "source": [
        "### Cleaning corpus"
      ]
    },
    {
      "cell_type": "code",
      "metadata": {
        "id": "CIlzkmm5IBIn"
      },
      "source": [
        "# Cleaning corpus\n",
        "\n",
        "corpus = []\n",
        "corpus1 = []\n",
        "for i in range(len(features)):\n",
        "    review = re.sub(r'\\\\n', ' ', str(features[i]))\n",
        "    corpus1.append(review)\n",
        "\n",
        "for i in range(len(corpus1)):\n",
        "    # Removing all punctuation marks and non characters\n",
        "    review = re.sub(r'\\W', ' ', str(corpus1[i]))\n",
        "\n",
        "    # Converting into lowercase\n",
        "    review = review.lower()\n",
        "\n",
        "    # Removing b from starting of string\n",
        "    review = re.sub(r'^b\\s+', '', review)\n",
        "\n",
        "    # Removing all single characters\n",
        "    review = re.sub(r'\\s+[a-z]\\s+', ' ', review)\n",
        "\n",
        "    # Removing all words which is of length one\n",
        "    review = re.sub(r'[^a-z]\\s+', ' ', review)\n",
        "\n",
        "    # Removing all extra spaces\n",
        "    review = re.sub(r'\\s+', ' ', review)\n",
        "\n",
        "    # Adding cleaned reviews in corpus\n",
        "    corpus.append(review)"
      ],
      "execution_count": null,
      "outputs": []
    },
    {
      "cell_type": "code",
      "metadata": {
        "colab": {
          "base_uri": "https://localhost:8080/"
        },
        "id": "VC6JUda_IFEh",
        "outputId": "31e68c6a-4d67-4596-a8f5-f9af0b8b7db0"
      },
      "source": [
        "nltk.download('wordnet')\n",
        "stemmer = SnowballStemmer('english')"
      ],
      "execution_count": null,
      "outputs": [
        {
          "name": "stdout",
          "output_type": "stream",
          "text": [
            "[nltk_data] Downloading package wordnet to /root/nltk_data...\n",
            "[nltk_data]   Package wordnet is already up-to-date!\n"
          ]
        }
      ]
    },
    {
      "cell_type": "code",
      "metadata": {
        "id": "i7q69C5aIGvq"
      },
      "source": [
        "def lemmatize_stemming(text): #Lemmatization and Stemming\n",
        "    return stemmer.stem(WordNetLemmatizer().lemmatize(text, pos='v'))\n",
        "\n",
        "\n",
        "def preprocess(text):  # Preprocess text\n",
        "    result = []\n",
        "    for token in gensim.utils.simple_preprocess(text):\n",
        "        if token not in gensim.parsing.preprocessing.STOPWORDS and len(token) > 3:\n",
        "            result.append(lemmatize_stemming(token))\n",
        "    return result\n",
        "\n",
        "\n",
        "processed_docs = []\n",
        "for i in corpus:\n",
        "    processed_docs.append(preprocess(i)) # All documents after preprocessing"
      ],
      "execution_count": null,
      "outputs": []
    },
    {
      "cell_type": "code",
      "metadata": {
        "id": "tMTdRqryII9M"
      },
      "source": [
        "tokenizer = Tokenizer(num_words=1500, split=' ') # Tokenization\n",
        "\n",
        "tokenizer.fit_on_texts(processed_docs)\n",
        "\n",
        "X = tokenizer.texts_to_sequences(processed_docs)\n",
        "\n",
        "X = pad_sequences(X)"
      ],
      "execution_count": null,
      "outputs": []
    },
    {
      "cell_type": "code",
      "metadata": {
        "colab": {
          "base_uri": "https://localhost:8080/"
        },
        "id": "9qnU4EsdOFJg",
        "outputId": "e269efb9-3393-4ea6-8739-a97ebce15ccc"
      },
      "source": [
        "labels = labels.reshape(-1, 1)\n",
        "Y = np.ravel(labels)\n",
        "# One hot encoding\n",
        "Y = pd.get_dummies(Y)\n",
        "Y = np.array(Y)\n",
        "print(Y)"
      ],
      "execution_count": null,
      "outputs": [
        {
          "name": "stdout",
          "output_type": "stream",
          "text": [
            "[[1 0]\n",
            " [0 1]\n",
            " [0 1]\n",
            " ...\n",
            " [0 1]\n",
            " [1 0]\n",
            " [1 0]]\n"
          ]
        }
      ]
    },
    {
      "cell_type": "code",
      "metadata": {
        "colab": {
          "base_uri": "https://localhost:8080/"
        },
        "id": "EKu0L6z2OHTm",
        "outputId": "6ee3d821-9e7d-45a5-f55e-56c510c7cff9"
      },
      "source": [
        "X.shape\n",
        "#2000 samples are present"
      ],
      "execution_count": null,
      "outputs": [
        {
          "data": {
            "text/plain": [
              "(2000, 751)"
            ]
          },
          "execution_count": 26,
          "metadata": {},
          "output_type": "execute_result"
        }
      ]
    },
    {
      "cell_type": "markdown",
      "metadata": {
        "id": "TI4rM3QpDpN7"
      },
      "source": [
        "## Building the model"
      ]
    },
    {
      "cell_type": "code",
      "metadata": {
        "id": "89MtqwoMIoDj"
      },
      "source": [
        "# Building the model\n",
        "def build_model(inp_length):\n",
        "  embedding_vector_length = 32\n",
        "  model = Sequential()\n",
        "  model.add(Embedding(5000, embedding_vector_length, input_length=inp_length))\n",
        "  model.add(Conv1D(filters=32, kernel_size=3, padding='same', activation='relu'))\n",
        "  model.add(MaxPooling1D(pool_size=2))\n",
        "  model.add(LSTM(100))\n",
        "  model.add(Dense(2, activation='sigmoid'))\n",
        "  #model.compile(loss='binary_crossentropy', optimizer='adam', metrics=['accuracy'])\n",
        "  #print(model.summary())\n",
        "  return model"
      ],
      "execution_count": null,
      "outputs": []
    },
    {
      "cell_type": "markdown",
      "metadata": {
        "id": "3D24Az9XDzSp"
      },
      "source": [
        "### Functions"
      ]
    },
    {
      "cell_type": "code",
      "metadata": {
        "id": "xNAhsPmWigCd"
      },
      "source": [
        "def shuffle_in_unison(a, b, c, d):\n",
        "    rng_state = np.random.get_state()\n",
        "    np.random.shuffle(a)\n",
        "    np.random.set_state(rng_state)\n",
        "    np.random.shuffle(b)\n",
        "    np.random.set_state(rng_state)\n",
        "    np.random.shuffle(c)\n",
        "    np.random.set_state(rng_state)\n",
        "    np.random.shuffle(d)\n",
        "\n",
        "    return a, b, c, d"
      ],
      "execution_count": null,
      "outputs": []
    },
    {
      "cell_type": "code",
      "metadata": {
        "id": "Mdi09jdKLB2d"
      },
      "source": [
        "def mini_batches(X, Y, mini_batch_size=64):\n",
        "    # Generate batches\n",
        "\n",
        "    m = X.shape[0]  # number of training examples=1700\n",
        "    mini_batches = []\n",
        "    \n",
        "\n",
        "    # Step 2: Partition (shuffled_X, shuffled_Y). Minus the end case.\n",
        "    num_complete_minibatches = int(np.floor(m / mini_batch_size))  # number of mini batches of size mini_batch_size in your partitionning=27\n",
        "    # print(num_complete_minibatches,\"-------------------\")\n",
        "    for k in range(0, num_complete_minibatches):\n",
        "        mini_batch_X = X[k * mini_batch_size: k * mini_batch_size + mini_batch_size, :]\n",
        "        # print(len(mini_batch_X))\n",
        "        mini_batch_Y = Y[k * mini_batch_size: k * mini_batch_size + mini_batch_size]\n",
        "        mini_batch = (mini_batch_X, mini_batch_Y)\n",
        "        mini_batches.append(mini_batch)\n",
        "        \n",
        "\n",
        "    # Handling the end case (last mini-batch < mini_batch_size)\n",
        "    if m % mini_batch_size != 0:\n",
        "        mini_batch_X = X[num_complete_minibatches * mini_batch_size: m, :]\n",
        "        mini_batch_Y = Y[num_complete_minibatches * mini_batch_size: m]\n",
        "        mini_batch = (mini_batch_X, mini_batch_Y)\n",
        "        mini_batches.append(mini_batch)\n",
        "\n",
        "    return mini_batches\n",
        "\n",
        "\n",
        "def lr_scheduler(epoch, maxepoch, max_lr=0.01, min_lr=0.005, cool_down_lr=0.0005):\n",
        "\n",
        "      learning_rate = max_lr + (epoch * (min_lr - max_lr) / maxepoch)\n",
        "\n",
        "      return learning_rate\n"
      ],
      "execution_count": null,
      "outputs": []
    },
    {
      "cell_type": "code",
      "metadata": {
        "id": "LGT4akEmIupF"
      },
      "source": [
        "def train(args): \n",
        "\n",
        " \n",
        "  batch_size = args[\"batch_size\"]\n",
        "  maxepoch = args[\"maxepoches\"]\n",
        "  min_lr = args[\"min_lr\"]\n",
        "  max_lr = args[\"max_lr\"]\n",
        "  cool_down_lr = args[\"cool_down_lr\"]\n",
        "  lr = args[\"lr\"]\n",
        "  optimizer = args[\"optimizer\"]\n",
        "  \n",
        "  num_classes = args[\"num_classes\"]\n",
        "\n",
        "  x_train = args[\"x_train\"] \n",
        "  y_train = args[\"y_train\"] \n",
        "  x_test = args[\"x_test\"] \n",
        "  y_test = args[\"y_test\"] \n",
        "\n",
        "  num_samples = (x_train.shape)[0]\n",
        "  num_minibatches = int(np.ceil(num_samples / batch_size))\n",
        "\n",
        "  total_delta_weights_dense2 = [0] * num_samples\n",
        "  print(\"Number of MiniBatches:\", num_minibatches)\n",
        "\n",
        "  model = build_model(X.shape[0])\n",
        "  \n",
        "  if optimizer == \"sgd\":\n",
        "    opt = optimizers.SGD(lr=lr, momentum=0.9, nesterov=True)\n",
        "  elif optimizer == \"adam\":\n",
        "    opt = optimizers.Adam(learning_rate=min_lr)\n",
        "  model.compile(loss='binary_crossentropy', optimizer='adam', metrics=['accuracy'])\n",
        "  model.summary()\n",
        "  \n",
        "  \n",
        "  for epoch in range(maxepoch):\n",
        "    num_minibatches = int(num_samples / batch_size)\n",
        "    minibatches = mini_batches(x_train, y_train, batch_size)\n",
        "\n",
        " \n",
        "    learning_rate = lr_scheduler(epoch=epoch, maxepoch=maxepoch, max_lr=max_lr, min_lr=min_lr, cool_down_lr=cool_down_lr)\n",
        "    \n",
        "    if optimizer == \"sgd\":\n",
        "      opt = optimizers.SGD(learning_rate=learning_rate, momentum=0.9, nesterov=True)\n",
        "    elif optimizer == \"adam\":\n",
        "      opt = optimizers.Adam(learning_rate=learning_rate)\n",
        "    model.compile(loss='binary_crossentropy', optimizer='adam', metrics=['accuracy'])\n",
        "\n",
        "    print(\"---------------------------------------------------\", \"Epoch:\", epoch+1, \"Learning Rate:\", learning_rate, \"-----------------------------------------------------------------------\")\n",
        "  \n",
        "    counter = 0\n",
        "    count = 0\n",
        "\n",
        "    for minibatch in minibatches:\n",
        "        \n",
        "        (train_sample_x, train_sample_y) = minibatch\n",
        "        # print(len(train_sample_x)) Each minibatch has 64 elements\n",
        "\n",
        "        # print(\"SHAPE\",len(model.layers[-1].get_weights())) SHAPE: 2\n",
        "        \n",
        "        \n",
        "\n",
        "        pre_weights_dense2 = np.array(model.layers[-1].get_weights()[0]) # before training 64 samples (100 weights)\n",
        "        \n",
        "\n",
        "        counter += 1\n",
        "        \n",
        "\n",
        "        model.fit(train_sample_x, train_sample_y,\n",
        "                  batch_size=batch_size,\n",
        "                  shuffle=False, \n",
        "                  epochs=1,\n",
        "                  verbose=0)\n",
        "\n",
        "      \n",
        "        post_weights_dense2 = np.array(model.layers[-1].get_weights()[0])# after training 64 samples (100 weights)\n",
        "        \n",
        "        \n",
        "        delta_weights_dense2 = np.subtract(post_weights_dense2, pre_weights_dense2) # len=100 \n",
        "        #print(len(delta_weights_dense2),\"OVER\")\n",
        "\n",
        "        for i in range(len(train_sample_x)): # for each of 64 training samples\n",
        "          total_delta_weights_dense2[i + count] = np.add(total_delta_weights_dense2[i + count], delta_weights_dense2)\n",
        "          # delta_weights_dense2 is repeated for each sample. \n",
        "\n",
        "        count += len(train_sample_x)\n",
        "    \n",
        "    print(\"Train Scores:\")\n",
        "    tr_loss, tr_acc = model.evaluate(x=x_train, y=y_train, verbose=1)\n",
        "    print(\"Test Scores:\")\n",
        "    val_loss, val_acc = model.evaluate(x=x_test, y=y_test, verbose=1) \n",
        "    \n",
        "    \n",
        "  return model, total_delta_weights_dense2"
      ],
      "execution_count": null,
      "outputs": []
    },
    {
      "cell_type": "markdown",
      "metadata": {
        "id": "HR6MUXR5EOJp"
      },
      "source": [
        "### Splitting X and Y into X train, X val, X unseen, Y train, Y val, Y unseen"
      ]
    },
    {
      "cell_type": "code",
      "metadata": {
        "id": "WE2vZ1J8OsOH"
      },
      "source": [
        "X_train, X_test, y_train, y_test = train_test_split(X, Y, test_size=0.15, random_state=42)"
      ],
      "execution_count": null,
      "outputs": []
    },
    {
      "cell_type": "code",
      "metadata": {
        "id": "Xc14PRECarhh"
      },
      "source": [
        "x_val, x_unseen, y_val, y_unseen = train_test_split(X_test, y_test, test_size=0.5, random_state=42, stratify=y_test)"
      ],
      "execution_count": null,
      "outputs": []
    },
    {
      "cell_type": "markdown",
      "metadata": {
        "id": "593Url_5EhZZ"
      },
      "source": [
        "### Training Actor model"
      ]
    },
    {
      "cell_type": "code",
      "metadata": {
        "colab": {
          "base_uri": "https://localhost:8080/"
        },
        "id": "krocVc2IOmIs",
        "outputId": "9db80acc-1835-4f75-9fab-17eff40b434e"
      },
      "source": [
        "my_args = {\"batch_size\": 1,\n",
        "\"maxepoches\": 8,\n",
        "\"min_lr\": 0.0001,\n",
        "\"max_lr\": 0.001,\n",
        "\"cool_down_lr\": 0.0005,\n",
        "\"lr\": 0.001,\n",
        "\n",
        "\"optimizer\": \"adam\", # different optimizers: adam, sgd\n",
        "\"num_classes\": 2,\n",
        "\"x_train\": X_train, \n",
        "\"y_train\": y_train,\n",
        "\"x_test\": X_test,\n",
        "\"y_test\": y_test\n",
        "}\n",
        "\n",
        "\n",
        "model, total_delta_weights_dense2 = train(my_args)"
      ],
      "execution_count": null,
      "outputs": [
        {
          "name": "stdout",
          "output_type": "stream",
          "text": [
            "Number of MiniBatches: 1700\n",
            "Model: \"sequential\"\n",
            "_________________________________________________________________\n",
            "Layer (type)                 Output Shape              Param #   \n",
            "=================================================================\n",
            "embedding (Embedding)        (None, 2000, 32)          160000    \n",
            "_________________________________________________________________\n",
            "conv1d (Conv1D)              (None, 2000, 32)          3104      \n",
            "_________________________________________________________________\n",
            "max_pooling1d (MaxPooling1D) (None, 1000, 32)          0         \n",
            "_________________________________________________________________\n",
            "lstm (LSTM)                  (None, 100)               53200     \n",
            "_________________________________________________________________\n",
            "dense (Dense)                (None, 2)                 202       \n",
            "=================================================================\n",
            "Total params: 216,506\n",
            "Trainable params: 216,506\n",
            "Non-trainable params: 0\n",
            "_________________________________________________________________\n",
            "--------------------------------------------------- Epoch: 1 Learning Rate: 0.001 -----------------------------------------------------------------------\n",
            "WARNING:tensorflow:Model was constructed with shape (None, 2000) for input KerasTensor(type_spec=TensorSpec(shape=(None, 2000), dtype=tf.float32, name='embedding_input'), name='embedding_input', description=\"created by layer 'embedding_input'\"), but it was called on an input with incompatible shape (1, 751).\n",
            "WARNING:tensorflow:Model was constructed with shape (None, 2000) for input KerasTensor(type_spec=TensorSpec(shape=(None, 2000), dtype=tf.float32, name='embedding_input'), name='embedding_input', description=\"created by layer 'embedding_input'\"), but it was called on an input with incompatible shape (1, 751).\n",
            "Train Scores:\n",
            "WARNING:tensorflow:Model was constructed with shape (None, 2000) for input KerasTensor(type_spec=TensorSpec(shape=(None, 2000), dtype=tf.float32, name='embedding_input'), name='embedding_input', description=\"created by layer 'embedding_input'\"), but it was called on an input with incompatible shape (None, 751).\n",
            "54/54 [==============================] - 2s 28ms/step - loss: 0.4294 - accuracy: 0.8365\n",
            "Test Scores:\n",
            "10/10 [==============================] - 0s 29ms/step - loss: 0.5718 - accuracy: 0.6867\n",
            "--------------------------------------------------- Epoch: 2 Learning Rate: 0.0008875 -----------------------------------------------------------------------\n",
            "WARNING:tensorflow:Model was constructed with shape (None, 2000) for input KerasTensor(type_spec=TensorSpec(shape=(None, 2000), dtype=tf.float32, name='embedding_input'), name='embedding_input', description=\"created by layer 'embedding_input'\"), but it was called on an input with incompatible shape (1, 751).\n",
            "WARNING:tensorflow:Model was constructed with shape (None, 2000) for input KerasTensor(type_spec=TensorSpec(shape=(None, 2000), dtype=tf.float32, name='embedding_input'), name='embedding_input', description=\"created by layer 'embedding_input'\"), but it was called on an input with incompatible shape (1, 751).\n",
            "Train Scores:\n",
            "WARNING:tensorflow:Model was constructed with shape (None, 2000) for input KerasTensor(type_spec=TensorSpec(shape=(None, 2000), dtype=tf.float32, name='embedding_input'), name='embedding_input', description=\"created by layer 'embedding_input'\"), but it was called on an input with incompatible shape (None, 751).\n",
            "54/54 [==============================] - 2s 28ms/step - loss: 0.2395 - accuracy: 0.9112\n",
            "Test Scores:\n",
            "10/10 [==============================] - 0s 27ms/step - loss: 0.5414 - accuracy: 0.7500\n",
            "--------------------------------------------------- Epoch: 3 Learning Rate: 0.0007750000000000001 -----------------------------------------------------------------------\n",
            "WARNING:tensorflow:Model was constructed with shape (None, 2000) for input KerasTensor(type_spec=TensorSpec(shape=(None, 2000), dtype=tf.float32, name='embedding_input'), name='embedding_input', description=\"created by layer 'embedding_input'\"), but it was called on an input with incompatible shape (1, 751).\n",
            "WARNING:tensorflow:Model was constructed with shape (None, 2000) for input KerasTensor(type_spec=TensorSpec(shape=(None, 2000), dtype=tf.float32, name='embedding_input'), name='embedding_input', description=\"created by layer 'embedding_input'\"), but it was called on an input with incompatible shape (1, 751).\n",
            "Train Scores:\n",
            "WARNING:tensorflow:Model was constructed with shape (None, 2000) for input KerasTensor(type_spec=TensorSpec(shape=(None, 2000), dtype=tf.float32, name='embedding_input'), name='embedding_input', description=\"created by layer 'embedding_input'\"), but it was called on an input with incompatible shape (None, 751).\n",
            "54/54 [==============================] - 2s 28ms/step - loss: 0.1166 - accuracy: 0.9688\n",
            "Test Scores:\n",
            "10/10 [==============================] - 0s 29ms/step - loss: 0.5434 - accuracy: 0.8000\n",
            "--------------------------------------------------- Epoch: 4 Learning Rate: 0.0006625 -----------------------------------------------------------------------\n",
            "WARNING:tensorflow:Model was constructed with shape (None, 2000) for input KerasTensor(type_spec=TensorSpec(shape=(None, 2000), dtype=tf.float32, name='embedding_input'), name='embedding_input', description=\"created by layer 'embedding_input'\"), but it was called on an input with incompatible shape (1, 751).\n",
            "WARNING:tensorflow:Model was constructed with shape (None, 2000) for input KerasTensor(type_spec=TensorSpec(shape=(None, 2000), dtype=tf.float32, name='embedding_input'), name='embedding_input', description=\"created by layer 'embedding_input'\"), but it was called on an input with incompatible shape (1, 751).\n",
            "Train Scores:\n",
            "WARNING:tensorflow:Model was constructed with shape (None, 2000) for input KerasTensor(type_spec=TensorSpec(shape=(None, 2000), dtype=tf.float32, name='embedding_input'), name='embedding_input', description=\"created by layer 'embedding_input'\"), but it was called on an input with incompatible shape (None, 751).\n",
            "54/54 [==============================] - 2s 28ms/step - loss: 0.0719 - accuracy: 0.9794\n",
            "Test Scores:\n",
            "10/10 [==============================] - 0s 29ms/step - loss: 0.6496 - accuracy: 0.7967\n",
            "--------------------------------------------------- Epoch: 5 Learning Rate: 0.00055 -----------------------------------------------------------------------\n",
            "WARNING:tensorflow:Model was constructed with shape (None, 2000) for input KerasTensor(type_spec=TensorSpec(shape=(None, 2000), dtype=tf.float32, name='embedding_input'), name='embedding_input', description=\"created by layer 'embedding_input'\"), but it was called on an input with incompatible shape (1, 751).\n",
            "WARNING:tensorflow:Model was constructed with shape (None, 2000) for input KerasTensor(type_spec=TensorSpec(shape=(None, 2000), dtype=tf.float32, name='embedding_input'), name='embedding_input', description=\"created by layer 'embedding_input'\"), but it was called on an input with incompatible shape (1, 751).\n",
            "Train Scores:\n",
            "WARNING:tensorflow:Model was constructed with shape (None, 2000) for input KerasTensor(type_spec=TensorSpec(shape=(None, 2000), dtype=tf.float32, name='embedding_input'), name='embedding_input', description=\"created by layer 'embedding_input'\"), but it was called on an input with incompatible shape (None, 751).\n",
            "54/54 [==============================] - 2s 28ms/step - loss: 0.0572 - accuracy: 0.9806\n",
            "Test Scores:\n",
            "10/10 [==============================] - 0s 28ms/step - loss: 0.7643 - accuracy: 0.8233\n",
            "--------------------------------------------------- Epoch: 6 Learning Rate: 0.00043750000000000006 -----------------------------------------------------------------------\n",
            "WARNING:tensorflow:Model was constructed with shape (None, 2000) for input KerasTensor(type_spec=TensorSpec(shape=(None, 2000), dtype=tf.float32, name='embedding_input'), name='embedding_input', description=\"created by layer 'embedding_input'\"), but it was called on an input with incompatible shape (1, 751).\n",
            "WARNING:tensorflow:Model was constructed with shape (None, 2000) for input KerasTensor(type_spec=TensorSpec(shape=(None, 2000), dtype=tf.float32, name='embedding_input'), name='embedding_input', description=\"created by layer 'embedding_input'\"), but it was called on an input with incompatible shape (1, 751).\n",
            "Train Scores:\n",
            "WARNING:tensorflow:Model was constructed with shape (None, 2000) for input KerasTensor(type_spec=TensorSpec(shape=(None, 2000), dtype=tf.float32, name='embedding_input'), name='embedding_input', description=\"created by layer 'embedding_input'\"), but it was called on an input with incompatible shape (None, 751).\n",
            "54/54 [==============================] - 2s 29ms/step - loss: 0.0493 - accuracy: 0.9829\n",
            "Test Scores:\n",
            "10/10 [==============================] - 0s 29ms/step - loss: 0.8573 - accuracy: 0.7833\n",
            "--------------------------------------------------- Epoch: 7 Learning Rate: 0.000325 -----------------------------------------------------------------------\n",
            "WARNING:tensorflow:Model was constructed with shape (None, 2000) for input KerasTensor(type_spec=TensorSpec(shape=(None, 2000), dtype=tf.float32, name='embedding_input'), name='embedding_input', description=\"created by layer 'embedding_input'\"), but it was called on an input with incompatible shape (1, 751).\n",
            "WARNING:tensorflow:Model was constructed with shape (None, 2000) for input KerasTensor(type_spec=TensorSpec(shape=(None, 2000), dtype=tf.float32, name='embedding_input'), name='embedding_input', description=\"created by layer 'embedding_input'\"), but it was called on an input with incompatible shape (1, 751).\n",
            "Train Scores:\n",
            "WARNING:tensorflow:Model was constructed with shape (None, 2000) for input KerasTensor(type_spec=TensorSpec(shape=(None, 2000), dtype=tf.float32, name='embedding_input'), name='embedding_input', description=\"created by layer 'embedding_input'\"), but it was called on an input with incompatible shape (None, 751).\n",
            "54/54 [==============================] - 2s 28ms/step - loss: 0.0108 - accuracy: 0.9976\n",
            "Test Scores:\n",
            "10/10 [==============================] - 0s 29ms/step - loss: 1.0529 - accuracy: 0.7767\n",
            "--------------------------------------------------- Epoch: 8 Learning Rate: 0.00021250000000000002 -----------------------------------------------------------------------\n",
            "WARNING:tensorflow:Model was constructed with shape (None, 2000) for input KerasTensor(type_spec=TensorSpec(shape=(None, 2000), dtype=tf.float32, name='embedding_input'), name='embedding_input', description=\"created by layer 'embedding_input'\"), but it was called on an input with incompatible shape (1, 751).\n",
            "WARNING:tensorflow:Model was constructed with shape (None, 2000) for input KerasTensor(type_spec=TensorSpec(shape=(None, 2000), dtype=tf.float32, name='embedding_input'), name='embedding_input', description=\"created by layer 'embedding_input'\"), but it was called on an input with incompatible shape (1, 751).\n",
            "Train Scores:\n",
            "WARNING:tensorflow:Model was constructed with shape (None, 2000) for input KerasTensor(type_spec=TensorSpec(shape=(None, 2000), dtype=tf.float32, name='embedding_input'), name='embedding_input', description=\"created by layer 'embedding_input'\"), but it was called on an input with incompatible shape (None, 751).\n",
            "54/54 [==============================] - 2s 28ms/step - loss: 0.0188 - accuracy: 0.9929\n",
            "Test Scores:\n",
            "10/10 [==============================] - 0s 29ms/step - loss: 1.0118 - accuracy: 0.7533\n"
          ]
        }
      ]
    },
    {
      "cell_type": "markdown",
      "metadata": {
        "id": "Qk8UxRVLiDGa"
      },
      "source": [
        "## Baseline Model Evaluation"
      ]
    },
    {
      "cell_type": "code",
      "metadata": {
        "colab": {
          "base_uri": "https://localhost:8080/"
        },
        "id": "ptFzIxn82eMj",
        "outputId": "7b5ad545-142e-4469-ff72-8d556c12197f"
      },
      "source": [
        "model.evaluate(x_unseen, y_unseen)\n",
        "y_hat = model.predict(x_unseen)\n",
        "\n",
        "y_pred = np.argmax(y_hat, axis=1)\n",
        "y_true = np.argmax(y_unseen, axis=1)\n",
        "# print(y_pred[0],\"ddddd\",y_unseen[0])\n",
        "\n",
        "my_precision = precision_score(y_true, y_pred)\n",
        "my_recal = recall_score(y_true, y_pred)\n",
        "my_f1 = f1_score(y_true, y_pred)\n",
        "print(accuracy_score(y_true,y_pred))\n",
        "print(\"Precision:\", my_precision, \"Recall:\", my_recal, \"f1 score:\", my_f1)"
      ],
      "execution_count": null,
      "outputs": [
        {
          "name": "stdout",
          "output_type": "stream",
          "text": [
            "5/5 [==============================] - 0s 31ms/step - loss: 1.2068 - accuracy: 0.7067\n",
            "WARNING:tensorflow:Model was constructed with shape (None, 2000) for input KerasTensor(type_spec=TensorSpec(shape=(None, 2000), dtype=tf.float32, name='embedding_input'), name='embedding_input', description=\"created by layer 'embedding_input'\"), but it was called on an input with incompatible shape (None, 751).\n",
            "0.7066666666666667\n",
            "Precision: 0.7108433734939759 Recall: 0.7468354430379747 f1 score: 0.728395061728395\n"
          ]
        }
      ]
    },
    {
      "cell_type": "code",
      "metadata": {
        "id": "wQY3BuH6Qu2z"
      },
      "source": [
        "model.save_weights('/gdrive/MyDrive/Model_Weights.h5')"
      ],
      "execution_count": null,
      "outputs": []
    },
    {
      "cell_type": "markdown",
      "metadata": {
        "id": "fCo3DBfniLz9"
      },
      "source": [
        "## Building Balanced Data for Critic Model "
      ]
    },
    {
      "cell_type": "code",
      "metadata": {
        "colab": {
          "base_uri": "https://localhost:8080/"
        },
        "id": "Qh3-dGtgn4e7",
        "outputId": "e57fdc6f-61ec-4c91-de77-3a0ff22183ce"
      },
      "source": [
        "predicted_y = model.predict(x_val)\n",
        "# predicted_y = pd.get_dummies(predicted_y)\n",
        "predicted_y = np.array(predicted_y)\n",
        "residuals = np.argmax(predicted_y,1)!=np.argmax(y_val,1) \n",
        "# print(residuals)\n",
        "\n",
        "loss = sum(residuals)/len(residuals)\n",
        "print(\"The Test 0/1 loss is: \", loss)\n",
        "\n",
        "print(\"Number of Incorrect samples:\", sum(residuals))"
      ],
      "execution_count": null,
      "outputs": [
        {
          "name": "stdout",
          "output_type": "stream",
          "text": [
            "The Test 0/1 loss is:  0.2\n",
            "Number of Incorrect samples: 30\n"
          ]
        }
      ]
    },
    {
      "cell_type": "code",
      "metadata": {
        "colab": {
          "base_uri": "https://localhost:8080/"
        },
        "id": "P-N79MsioEVm",
        "outputId": "ad5f8045-c4cc-4186-ac1a-bf90c629ba2d"
      },
      "source": [
        "predicted_y_tr = model.predict(X_train, batch_size=1)\n",
        "# predicted_y_tr = pd.get_dummies(predicted_y_tr)\n",
        "predicted_y_tr = np.array(predicted_y_tr)\n",
        "residuals_tr = np.argmax(predicted_y_tr,1)!=np.argmax(y_train,1) \n",
        "print(residuals_tr)\n",
        "\n",
        "loss_tr = sum(residuals_tr)/len(residuals_tr)\n",
        "print(\"The Train 0/1 loss is: \", loss_tr)\n",
        "\n",
        "print(\"Number of Incorrect samples:\", sum(residuals_tr))"
      ],
      "execution_count": null,
      "outputs": [
        {
          "name": "stdout",
          "output_type": "stream",
          "text": [
            "WARNING:tensorflow:Model was constructed with shape (None, 2000) for input KerasTensor(type_spec=TensorSpec(shape=(None, 2000), dtype=tf.float32, name='embedding_input'), name='embedding_input', description=\"created by layer 'embedding_input'\"), but it was called on an input with incompatible shape (1, 751).\n",
            "[False False False ... False False False]\n",
            "The Train 0/1 loss is:  0.007058823529411765\n",
            "Number of Incorrect samples: 12\n"
          ]
        }
      ]
    },
    {
      "cell_type": "code",
      "metadata": {
        "colab": {
          "base_uri": "https://localhost:8080/"
        },
        "id": "zL7yDTydoejD",
        "outputId": "8bc83465-3ff1-483a-d544-8c87c2389233"
      },
      "source": [
        "# Final Data for the Second Model \n",
        "\n",
        "incorrect_indecies = list([i for i, x in enumerate(residuals) if x])\n",
        "correct_indecies = [a for a in range(x_val.shape[0]) if a not in incorrect_indecies]\n",
        "\n",
        "print(len(incorrect_indecies), \"+\", len(correct_indecies), \"=\", len(x_val))\n",
        "\n",
        "\n",
        "incorrect_samples = []\n",
        "incorrect_x = []\n",
        "incorrect_y = []\n",
        "incorrect_y_true = []\n",
        "incorrect_y_pred = []\n",
        "# All (X_train+x_val) values which were wrongly predicted.\n",
        "\n",
        "for ind in incorrect_indecies:\n",
        "  incorrect_x.append(x_val[ind])\n",
        "  incorrect_y.append(0.0)\n",
        "  incorrect_y_true.append(y_val[ind])\n",
        "  incorrect_y_pred.append(predicted_y[ind])\n",
        "len_incorrect_x=len(incorrect_x)\n",
        "print(\"Only incorrectly predicts of x test: \",len(incorrect_x))\n",
        "\n",
        "\n",
        "incorrect_indecies_tr = list([i for i, x in enumerate(residuals_tr) if x]) # incorrect X_train \n",
        "\n",
        "for ind_tr in incorrect_indecies_tr:\n",
        "  incorrect_x.append(X_train[ind_tr])\n",
        "  incorrect_y.append(0.0)\n",
        "  incorrect_y_true.append(y_train[ind_tr])\n",
        "  incorrect_y_pred.append(predicted_y_tr[ind_tr])\n",
        "\n",
        "print(\"Incorrects Done! \\nLength =\", len(incorrect_x))\n",
        "print(\"Length of Wrong x train predicts = \",len(incorrect_x)-len_incorrect_x )\n",
        "\n"
      ],
      "execution_count": null,
      "outputs": [
        {
          "name": "stdout",
          "output_type": "stream",
          "text": [
            "30 + 120 = 150\n",
            "Only incorrectly predicts of x test:  30\n",
            "Incorrects Done! \n",
            "Length = 42\n",
            "Length of Wrong x train predicts =  12\n"
          ]
        }
      ]
    },
    {
      "cell_type": "markdown",
      "metadata": {
        "id": "7H-lmj656ua1"
      },
      "source": [
        "*Wrongly predicts are << Correctly predicted* \n",
        "\n",
        "\n",
        "\n"
      ]
    },
    {
      "cell_type": "code",
      "metadata": {
        "colab": {
          "base_uri": "https://localhost:8080/"
        },
        "id": "ONVlj2jO5MWR",
        "outputId": "f98b78a8-c98e-4273-bbce-1fb59af21649"
      },
      "source": [
        "correct_indecies = random.sample(correct_indecies, len(incorrect_x)) # sampled only from correctly predicts X_test\n",
        "\n",
        "correct_samples = []\n",
        "correct_x = []\n",
        "correct_y = []\n",
        "correct_y_true = []\n",
        "correct_y_pred = []\n",
        "for ind in correct_indecies:\n",
        "  correct_x.append(x_val[ind]) # prev comment makes sense\n",
        "  correct_y.append(1.0) # 1 means correctly predicted\n",
        "  correct_y_true.append(y_val[ind])\n",
        "  correct_y_pred.append(predicted_y[ind])\n",
        "\n",
        "print(\"Corrects Done! \\nLength =\", len(correct_x))"
      ],
      "execution_count": null,
      "outputs": [
        {
          "name": "stdout",
          "output_type": "stream",
          "text": [
            "Corrects Done! \n",
            "Length = 42\n"
          ]
        }
      ]
    },
    {
      "cell_type": "code",
      "metadata": {
        "colab": {
          "base_uri": "https://localhost:8080/"
        },
        "id": "3nFZmjwdgYlO",
        "outputId": "cdf74d76-156c-4665-f7cb-d2da6c6ae5ec"
      },
      "source": [
        "x_train_list = correct_x + incorrect_x\n",
        "y_train_list = correct_y + incorrect_y\n",
        "y_true_list = correct_y_true + incorrect_y_true\n",
        "y_pred_list = correct_y_pred + incorrect_y_pred\n",
        "\n",
        "final_x_train = np.array(x_train_list)\n",
        "final_y_train = np.array(y_train_list)\n",
        "final_y_true = np.array(y_true_list)\n",
        "final_y_pred = np.array(y_pred_list)\n",
        "\n",
        "final_x_train, final_y_train, final_y_true, final_y_pred = shuffle_in_unison(final_x_train, final_y_train, final_y_true, final_y_pred)\n",
        "\n",
        "print(\"Final X and Y Shape:\", final_x_train.shape, final_y_train.shape, final_y_true.shape, final_y_pred.shape)"
      ],
      "execution_count": null,
      "outputs": [
        {
          "name": "stdout",
          "output_type": "stream",
          "text": [
            "Final X and Y Shape: (84, 751) (84,) (84, 2) (84, 2)\n"
          ]
        }
      ]
    },
    {
      "cell_type": "code",
      "metadata": {
        "colab": {
          "base_uri": "https://localhost:8080/"
        },
        "id": "uZjCCI3CLp4w",
        "outputId": "ac10520a-ec80-414c-d935-59daa9dcb2d8"
      },
      "source": [
        "X_train.shape"
      ],
      "execution_count": null,
      "outputs": [
        {
          "data": {
            "text/plain": [
              "(1700, 751)"
            ]
          },
          "execution_count": 39,
          "metadata": {},
          "output_type": "execute_result"
        }
      ]
    },
    {
      "cell_type": "code",
      "metadata": {
        "id": "VLc6tOUoPbxC"
      },
      "source": [
        "model = build_model(751)\n",
        "model.load_weights('/gdrive/MyDrive/Model_Weights.h5')"
      ],
      "execution_count": null,
      "outputs": []
    },
    {
      "cell_type": "markdown",
      "metadata": {
        "id": "pKRCh7QLiocT"
      },
      "source": [
        "## Nearest Neighbor Approach"
      ]
    },
    {
      "cell_type": "code",
      "metadata": {
        "id": "oqv-ia4CI8Pk"
      },
      "source": [
        "# calculate the Euclidean distance between two vectors\n",
        "def euclidean_distance(row1, row2):\n",
        "\tdistance = 0.0\n",
        "\tfor i in range(len(row1)-1):\n",
        "\t\tdistance += (row1[i] - row2[i])**2\n",
        "\treturn sqrt(distance)\n"
      ],
      "execution_count": null,
      "outputs": []
    },
    {
      "cell_type": "code",
      "metadata": {
        "id": "IRm9UPtvIQUS"
      },
      "source": [
        "# Locate the most similar neighbors\n",
        "def get_neighbors(train,y_train,y_truee,test_row, num_neighbors):\n",
        "  distances = list()\n",
        "  x_count=-1\n",
        "  for train_row in train:\n",
        "    x_count+=1\n",
        "    dist = euclidean_distance(test_row, train_row)\n",
        "    # print(y_train[x_count],\"------true\",y_truee)\n",
        "    if y_train[x_count]==y_truee:\n",
        "      distances.append((train_row, dist))\n",
        "      \n",
        "    distances.sort(key=lambda tup: tup[1])\n",
        "  neighbors = list()\n",
        "  for i in range(num_neighbors):\n",
        "    neighbors.append(distances[i][0])\n",
        " \n",
        "  return neighbors[0]"
      ],
      "execution_count": null,
      "outputs": []
    },
    {
      "cell_type": "code",
      "metadata": {
        "colab": {
          "base_uri": "https://localhost:8080/"
        },
        "id": "RqtESG7ZU8Er",
        "outputId": "e7052ee3-b784-4a36-c740-b149be02dcf0"
      },
      "source": [
        "y_FULL_for_function=np.argmax(y_train, axis=1)\n",
        "y_FULL_for_function"
      ],
      "execution_count": null,
      "outputs": [
        {
          "data": {
            "text/plain": [
              "array([0, 0, 1, ..., 1, 0, 1])"
            ]
          },
          "execution_count": 43,
          "metadata": {},
          "output_type": "execute_result"
        }
      ]
    },
    {
      "cell_type": "code",
      "metadata": {
        "colab": {
          "base_uri": "https://localhost:8080/"
        },
        "id": "aMASG7pvYf_z",
        "outputId": "2be13ab2-dbc8-4027-af16-9cbe8b778150"
      },
      "source": [
        "len(final_x_train)"
      ],
      "execution_count": null,
      "outputs": [
        {
          "data": {
            "text/plain": [
              "84"
            ]
          },
          "execution_count": 44,
          "metadata": {},
          "output_type": "execute_result"
        }
      ]
    },
    {
      "cell_type": "code",
      "metadata": {
        "id": "XpxVyBmK9sFs"
      },
      "source": [
        "XY_tuples = []\n",
        "for i in range(len(final_x_train)):\n",
        "    sample = final_x_train[i]\n",
        "    # print(sample.reshape(751,))\n",
        "    \n",
        "    prediction = final_y_train[i]\n",
        "    y_truee = final_y_true[i]\n",
        "    y_pred = final_y_pred[i]\n",
        "\n",
        "    # print(\"y true:\", y_truee)\n",
        "    # print(\"ypred:\", y_pred)\n",
        "    # print(\"prediction:\", prediction)\n",
        "\n",
        "    y_F=np.argmax(y_pred, axis=0)\n",
        "    # print(y_F)\n",
        "\n",
        "    nearest_neighbor=get_neighbors(X_train,y_FULL_for_function,y_F,sample,1)\n",
        "    # print(nearest_neighbor)\n",
        "    XY_tuples.append((sample, nearest_neighbor, prediction, y_truee, y_pred))\n"
      ],
      "execution_count": null,
      "outputs": []
    },
    {
      "cell_type": "code",
      "metadata": {
        "colab": {
          "base_uri": "https://localhost:8080/"
        },
        "id": "84us4er0xUC0",
        "outputId": "4759a798-227f-4e3a-dbde-425c86aba041"
      },
      "source": [
        "len(XY_tuples)"
      ],
      "execution_count": null,
      "outputs": [
        {
          "data": {
            "text/plain": [
              "84"
            ]
          },
          "execution_count": 47,
          "metadata": {},
          "output_type": "execute_result"
        }
      ]
    },
    {
      "cell_type": "code",
      "metadata": {
        "colab": {
          "base_uri": "https://localhost:8080/"
        },
        "id": "5xtpoPtNYnlR",
        "outputId": "1ba78126-d073-4702-c725-dccc83fa8237"
      },
      "source": [
        "XY_tuples[55][4]"
      ],
      "execution_count": null,
      "outputs": [
        {
          "data": {
            "text/plain": [
              "array([0.00304536, 0.9967325 ], dtype=float32)"
            ]
          },
          "execution_count": 48,
          "metadata": {},
          "output_type": "execute_result"
        }
      ]
    },
    {
      "cell_type": "markdown",
      "metadata": {
        "id": "1aix7mOydS42"
      },
      "source": [
        "### Unseen Data"
      ]
    },
    {
      "cell_type": "code",
      "metadata": {
        "colab": {
          "base_uri": "https://localhost:8080/"
        },
        "id": "9Zs5A3GzhRX4",
        "outputId": "c3c9dadd-48d0-4d50-8a08-81a9c1550fe7"
      },
      "source": [
        "# Generating Data for Model 2\n",
        "\n",
        "predicted_y_un = model.predict(x_unseen, batch_size=1)\n",
        "# print(predicted_y_un)\n",
        "# predicted_y_un = pd.get_dummies(predicted_y_un)\n",
        "# predicted_y_un = np.array(predicted_y_un)\n",
        "\n",
        "residuals_un = np.argmax(predicted_y_un,1)!=np.argmax(y_unseen,1)\n",
        "print(residuals_un)\n",
        "loss_un = sum(residuals_un)/len(residuals_un)\n",
        "print(\"The Test 0/1 loss is: \", loss_un)\n",
        "\n",
        "print(\"Number of Incorrect samples:\", sum(residuals_un))"
      ],
      "execution_count": null,
      "outputs": [
        {
          "name": "stdout",
          "output_type": "stream",
          "text": [
            "[False False  True False False False False  True  True False False False\n",
            "  True False  True False False False False False False False False False\n",
            "  True False False False False False False  True False False  True False\n",
            "  True False False  True False False False  True False  True False False\n",
            " False  True  True False False False False False  True False False False\n",
            " False False  True False  True False  True False False False False  True\n",
            " False False False False  True  True False  True  True  True False False\n",
            "  True  True False False False False False False False False False False\n",
            " False False False False  True False False False  True False  True False\n",
            " False False  True False False  True  True False False False False  True\n",
            "  True False  True  True  True False False False False False False  True\n",
            "  True  True False False False False False False  True False False  True\n",
            " False False  True  True False False]\n",
            "The Test 0/1 loss is:  0.29333333333333333\n",
            "Number of Incorrect samples: 44\n"
          ]
        }
      ]
    },
    {
      "cell_type": "code",
      "metadata": {
        "colab": {
          "base_uri": "https://localhost:8080/"
        },
        "id": "XEV3mpbThT7B",
        "outputId": "0def3b5e-d40e-4dd7-b7de-454153d1080a"
      },
      "source": [
        "# Generating Data for Model 2\n",
        "\n",
        "incorrect_indecies = list([i for i, x in enumerate(residuals_un) if x])\n",
        "correct_indecies = [a for a in range(x_unseen.shape[0]) if a not in incorrect_indecies]\n",
        "\n",
        "print(len(incorrect_indecies), \"+\", len(correct_indecies), \"=\", len(x_unseen))\n",
        "\n",
        "\n",
        "# correct_indecies = random.sample(correct_indecies, len(incorrect_indecies))\n",
        "\n",
        "incorrect_samples = []\n",
        "incorrect_x = []\n",
        "incorrect_y = []\n",
        "incorrect_y_true = []\n",
        "incorrect_y_pred = []\n",
        "for ind in incorrect_indecies:\n",
        "  incorrect_x.append(x_unseen[ind])\n",
        "  incorrect_y.append(0.0)\n",
        "  incorrect_y_true.append(y_unseen[ind])\n",
        "  incorrect_y_pred.append(predicted_y_un[ind])\n",
        "\n",
        "\n",
        "\n",
        "correct_samples = []\n",
        "correct_x = []\n",
        "correct_y = []\n",
        "correct_y_true = []\n",
        "correct_y_pred = []\n",
        "for ind in correct_indecies:\n",
        "  correct_x.append(x_unseen[ind])\n",
        "  correct_y.append(1.0)\n",
        "  correct_y_true.append(y_unseen[ind])\n",
        "  correct_y_pred.append(predicted_y_un[ind])\n",
        "\n",
        "x_train_list = correct_x + incorrect_x\n",
        "y_train_list = correct_y + incorrect_y\n",
        "y_true_list = correct_y_true + incorrect_y_true\n",
        "y_pred_list = correct_y_pred + incorrect_y_pred\n",
        "\n",
        "final_x_train = np.array(x_train_list)\n",
        "final_y_train = np.array(y_train_list)\n",
        "final_y_true = np.array(y_true_list)\n",
        "final_y_pred = np.array(y_pred_list)\n",
        "\n",
        "final_x_train, final_y_train, final_y_true, final_y_pred = shuffle_in_unison(final_x_train, final_y_train, final_y_true, final_y_pred)\n",
        "\n",
        "print(\"Final X and Y Shape:\", final_x_train.shape, final_y_train.shape, final_y_true.shape, final_y_pred.shape)"
      ],
      "execution_count": null,
      "outputs": [
        {
          "name": "stdout",
          "output_type": "stream",
          "text": [
            "44 + 106 = 150\n",
            "Final X and Y Shape: (150, 751) (150,) (150, 2) (150, 2)\n"
          ]
        }
      ]
    },
    {
      "cell_type": "code",
      "metadata": {
        "colab": {
          "background_save": true
        },
        "id": "JTd1ob2sfC5_"
      },
      "source": [
        "XY_tuples_unseen = []\n",
        "for i in range(len(final_x_train)):\n",
        "  sample = final_x_train[i]\n",
        "  prediction = final_y_train[i]\n",
        "  y_truee = final_y_true[i]\n",
        "  y_pred = final_y_pred[i]\n",
        "\n",
        "  # print(\"y true:\", y_truee)\n",
        "  # print(\"ypred:\", y_pred)\n",
        "  # print(\"prediction:\", prediction)\n",
        "\n",
        "  y_F=np.argmax(y_truee, axis=0)\n",
        "  # print(y_F)\n",
        "\n",
        "  nearest_neighbor=get_neighbors(X_train,y_FULL_for_function,y_F,sample,1)\n",
        "  # print(nearest_neighbor)\n",
        "  XY_tuples_unseen.append((sample, nearest_neighbor, prediction, y_truee, y_pred))\n",
        "  \n",
        "\n"
      ],
      "execution_count": null,
      "outputs": []
    },
    {
      "cell_type": "code",
      "metadata": {
        "colab": {
          "background_save": true
        },
        "id": "p307mD3_fiu4",
        "outputId": "f848bd50-b38e-4d01-806f-c021c897e57d"
      },
      "source": [
        "str(len(XY_tuples_unseen)) +\" <--Unseen   Train--> \"+ str(len(XY_tuples))"
      ],
      "execution_count": null,
      "outputs": [
        {
          "data": {
            "application/vnd.google.colaboratory.intrinsic+json": {
              "type": "string"
            },
            "text/plain": [
              "'150 <--Unseen   Train--> 84'"
            ]
          },
          "execution_count": null,
          "metadata": {},
          "output_type": "execute_result"
        }
      ]
    },
    {
      "cell_type": "markdown",
      "metadata": {
        "id": "ZDUU-Cuc9lUJ"
      },
      "source": [
        "### Load data for second model"
      ]
    },
    {
      "cell_type": "code",
      "metadata": {
        "colab": {
          "background_save": true
        },
        "id": "-Kpd-rqRfvzm"
      },
      "source": [
        "def load_data(train_tuples, unseen_tuples):\n",
        "  \n",
        "  samples = []\n",
        "  resp_samples = []\n",
        "  y = []\n",
        "  y_trues = []\n",
        "  y_preds = []\n",
        "  for tpl in train_tuples:\n",
        "    samples.append(tpl[0])\n",
        "    resp_samples.append(tpl[1])\n",
        "    y_trues.append(tpl[3])\n",
        "    y_preds.append(tpl[4])\n",
        "\n",
        "    if tpl[2] == 0:\n",
        "      y.append([1.0,0.0])\n",
        "    elif tpl[2] == 1:\n",
        "      y.append([0.0,1.0])\n",
        "\n",
        "  unseen_samples = []\n",
        "  unseen_resp_samples = []\n",
        "  unseen_y = []\n",
        "  unseen_y_trues = []\n",
        "  unseen_y_preds = []\n",
        "  for unseen_tpl in unseen_tuples:\n",
        "    unseen_samples.append(unseen_tpl[0])\n",
        "    unseen_resp_samples.append(unseen_tpl[1])\n",
        "    unseen_y_trues.append(unseen_tpl[3])\n",
        "    unseen_y_preds.append(unseen_tpl[4])\n",
        "\n",
        "    if unseen_tpl[2] == 0:\n",
        "      unseen_y.append([1.0,0.0])\n",
        "    elif unseen_tpl[2] == 1:\n",
        "      unseen_y.append([0.0,1.0])\n",
        "\n",
        "  samples, unseen_samples = np.array(samples), np.array(unseen_samples)\n",
        "  resp_samples, unseen_resp_samples = np.array(resp_samples), np.array(unseen_resp_samples)\n",
        "\n",
        "\n",
        "  y = np.array(y)\n",
        "  unseen_y = np.array(unseen_y)\n",
        "\n",
        "  print('Training Data:')\n",
        "  print(\"Input Image Shapes:\", samples.shape, resp_samples.shape)\n",
        "  print(\"Output shape:\", y.shape)\n",
        "\n",
        "  print('Unseen Data:')\n",
        "  print(\"Input Image Shapes:\", unseen_samples.shape, unseen_resp_samples.shape)\n",
        "  print(\"Output shape:\", unseen_y.shape)\n",
        "  return samples, resp_samples, y, y_trues, y_preds, unseen_samples, unseen_resp_samples, unseen_y, unseen_y_trues, unseen_y_preds"
      ],
      "execution_count": null,
      "outputs": []
    },
    {
      "cell_type": "code",
      "metadata": {
        "colab": {
          "background_save": true
        },
        "id": "h7ZaPQaze2_Q",
        "outputId": "ea187c69-667c-401e-b90b-9265c16237e0"
      },
      "source": [
        "samples, resp_samples, y, y_trues, y_preds, samples_unseen, resp_samples_unseen, y_unseen, y_trues_unseen, y_preds_unseen = load_data(XY_tuples, XY_tuples_unseen)"
      ],
      "execution_count": null,
      "outputs": [
        {
          "name": "stdout",
          "output_type": "stream",
          "text": [
            "Training Data:\n",
            "Input Image Shapes: (84, 751) (84, 751)\n",
            "Output shape: (84, 2)\n",
            "Unseen Data:\n",
            "Input Image Shapes: (150, 751) (150, 751)\n",
            "Output shape: (150, 2)\n"
          ]
        }
      ]
    },
    {
      "cell_type": "code",
      "metadata": {
        "colab": {
          "background_save": true
        },
        "id": "0ZmcKFyDihvr",
        "outputId": "babb2fe7-b4fa-4d11-faa6-8157c933cd08"
      },
      "source": [
        "train_index=range(len(samples))\n",
        "y_train=y\n",
        "\n",
        "train_samples = []\n",
        "train_resps = []\n",
        "train_trues = []\n",
        "train_preds = []\n",
        "\n",
        "# y_train = []\n",
        "for ind in train_index:\n",
        "  train_samples.append(samples[ind])\n",
        "  train_resps.append(resp_samples[ind])\n",
        "  train_trues.append(y_trues[ind])\n",
        "  train_preds.append(y_preds[ind])\n",
        "  # y_train.append(y[ind])\n",
        "\n",
        "train_samples = np.array(train_samples)\n",
        "train_resps = np.array(train_resps)\n",
        "train_trues = np.array(train_trues)\n",
        "train_preds = np.array(train_preds)\n",
        "# y_train = np.array(y_train)\n",
        "\n",
        "\n",
        "\n",
        "print(\"Training set:\", train_resps.shape, train_samples.shape, y_train.shape, train_preds.shape, train_trues.shape)\n"
      ],
      "execution_count": null,
      "outputs": [
        {
          "name": "stdout",
          "output_type": "stream",
          "text": [
            "Training set: (84, 751) (84, 751) (84, 2) (84, 2) (84, 2)\n"
          ]
        }
      ]
    },
    {
      "cell_type": "markdown",
      "metadata": {
        "id": "yO8Y_Vzz9tQM"
      },
      "source": [
        "### Functions"
      ]
    },
    {
      "cell_type": "code",
      "metadata": {
        "colab": {
          "background_save": true
        },
        "id": "Htel7n7HfGkL"
      },
      "source": [
        "def train(args): \n",
        "  batch_size = args[\"batch_size\"]\n",
        "  maxepoch = args[\"maxepoches\"]\n",
        "  min_lr = args[\"min_lr\"]\n",
        "  max_lr = args[\"max_lr\"]\n",
        "  cool_down_lr = args[\"cool_down_lr\"]\n",
        "  lr = args[\"lr\"]\n",
        "  \n",
        "  optimizer = args[\"optimizer\"]\n",
        "  train_samples = args[\"train_samples\"]\n",
        "\n",
        "  train_resps = args[\"train_resps\"]\n",
        "\n",
        "  y_train = args[\"y_train\"]\n",
        "\n",
        "\n",
        "  model = None\n",
        "\n",
        "  def lr_scheduler(epoch):\n",
        "      if epoch <= 0.6 * maxepoch:\n",
        "        learning_rate = max_lr\n",
        "      else:\n",
        "        learning_rate = max_lr + ((epoch + 1 - (0.6 * maxepoch)) * (min_lr - max_lr) / (0.4 * maxepoch) )\n",
        "      print(\"Epoch:\", epoch, \"Learning Rate:\", learning_rate)\n",
        "      return learning_rate\n",
        "\n",
        "\n",
        "\n",
        "  model = build_model(751*2)\n",
        "  reduce_lr = keras.callbacks.LearningRateScheduler(lr_scheduler)\n",
        "  if optimizer == \"sgd\":\n",
        "    opt = optimizers.SGD(learning_rate=min_lr, momentum=0.9, nesterov=True)\n",
        "  elif optimizer == \"adam\":\n",
        "    opt = optimizers.Adam(learning_rate=min_lr)\n",
        "  model.compile(loss='binary_crossentropy', optimizer=opt, metrics=['accuracy'])\n",
        "  model.summary()\n",
        "  # plot_model(model, to_file=\"/content/drive/MyDrive/Responsibility_Comparison/New_Dataset/\" + model_type + \".png\", show_shapes=True, show_layer_names=True)\n",
        "\n",
        "  x_train = np.concatenate((train_samples, train_resps), axis=1)\n",
        "  print(x_train.shape)\n",
        "  history = model.fit(x_train, y_train,\n",
        "                    batch_size=batch_size,\n",
        "                    # steps_per_epoch=samples.shape[0] // batch_size,\n",
        "                    shuffle=True, \n",
        "                    epochs=maxepoch,\n",
        "                    validation_split=0.2,\n",
        "                    callbacks=[reduce_lr],\n",
        "                    verbose=1)\n",
        "  \n",
        "  return model, history"
      ],
      "execution_count": null,
      "outputs": []
    },
    {
      "cell_type": "code",
      "metadata": {
        "colab": {
          "background_save": true
        },
        "id": "mq_OTwI6mFn2",
        "outputId": "dda1b2d2-f6a6-4c2b-a86d-1a1b5384bed7"
      },
      "source": [
        "train_resps.shape"
      ],
      "execution_count": null,
      "outputs": [
        {
          "data": {
            "text/plain": [
              "(84, 751)"
            ]
          },
          "execution_count": null,
          "metadata": {},
          "output_type": "execute_result"
        }
      ]
    },
    {
      "cell_type": "markdown",
      "metadata": {
        "id": "EAsHIs239zOT"
      },
      "source": [
        "### Training second model"
      ]
    },
    {
      "cell_type": "code",
      "metadata": {
        "colab": {
          "background_save": true
        },
        "id": "1-8xFdUAlpu-",
        "outputId": "0e144b1b-0add-4b43-afaf-6a6cfcfc1ca1"
      },
      "source": [
        "my_args = {\"batch_size\": 15,\n",
        "\"maxepoches\": 50,\n",
        "\"min_lr\": 0.001,\n",
        "\"max_lr\": 0.01,\n",
        "\"cool_down_lr\": 0.00001,\n",
        "\"lr\": 0.001,\n",
        "\n",
        "\"optimizer\": \"adam\", # different optimizers: adam, sgd\n",
        "\"train_samples\": train_samples, \n",
        "\n",
        "\"train_resps\": train_resps,\n",
        "\n",
        "\"y_train\": y_train,\n",
        "}\n",
        "\n",
        "model, hist = train(my_args)\n"
      ],
      "execution_count": null,
      "outputs": [
        {
          "name": "stdout",
          "output_type": "stream",
          "text": [
            "Model: \"sequential_2\"\n",
            "_________________________________________________________________\n",
            "Layer (type)                 Output Shape              Param #   \n",
            "=================================================================\n",
            "embedding_2 (Embedding)      (None, 1502, 32)          160000    \n",
            "_________________________________________________________________\n",
            "conv1d_2 (Conv1D)            (None, 1502, 32)          3104      \n",
            "_________________________________________________________________\n",
            "max_pooling1d_2 (MaxPooling1 (None, 751, 32)           0         \n",
            "_________________________________________________________________\n",
            "lstm_2 (LSTM)                (None, 100)               53200     \n",
            "_________________________________________________________________\n",
            "dense_2 (Dense)              (None, 2)                 202       \n",
            "=================================================================\n",
            "Total params: 216,506\n",
            "Trainable params: 216,506\n",
            "Non-trainable params: 0\n",
            "_________________________________________________________________\n",
            "(84, 1502)\n",
            "Epoch 1/50\n",
            "Epoch: 0 Learning Rate: 0.01\n",
            "5/5 [==============================] - 3s 275ms/step - loss: 0.7056 - accuracy: 0.4328 - val_loss: 0.7894 - val_accuracy: 0.2353\n",
            "Epoch 2/50\n",
            "Epoch: 1 Learning Rate: 0.01\n",
            "5/5 [==============================] - 1s 131ms/step - loss: 0.7850 - accuracy: 0.5672 - val_loss: 0.6450 - val_accuracy: 0.7647\n",
            "Epoch 3/50\n",
            "Epoch: 2 Learning Rate: 0.01\n",
            "5/5 [==============================] - 1s 122ms/step - loss: 0.6898 - accuracy: 0.4776 - val_loss: 0.6801 - val_accuracy: 0.4118\n",
            "Epoch 4/50\n",
            "Epoch: 3 Learning Rate: 0.01\n",
            "5/5 [==============================] - 1s 119ms/step - loss: 0.5813 - accuracy: 0.8806 - val_loss: 0.7718 - val_accuracy: 0.3529\n",
            "Epoch 5/50\n",
            "Epoch: 4 Learning Rate: 0.01\n",
            "5/5 [==============================] - 1s 119ms/step - loss: 0.3014 - accuracy: 0.9254 - val_loss: 0.8621 - val_accuracy: 0.5294\n",
            "Epoch 6/50\n",
            "Epoch: 5 Learning Rate: 0.01\n",
            "5/5 [==============================] - 1s 120ms/step - loss: 0.2012 - accuracy: 0.9552 - val_loss: 1.4247 - val_accuracy: 0.4706\n",
            "Epoch 7/50\n",
            "Epoch: 6 Learning Rate: 0.01\n",
            "5/5 [==============================] - 1s 120ms/step - loss: 0.1064 - accuracy: 0.9701 - val_loss: 1.5626 - val_accuracy: 0.3529\n",
            "Epoch 8/50\n",
            "Epoch: 7 Learning Rate: 0.01\n",
            "5/5 [==============================] - 1s 121ms/step - loss: 0.1357 - accuracy: 0.9552 - val_loss: 1.5849 - val_accuracy: 0.4706\n",
            "Epoch 9/50\n",
            "Epoch: 8 Learning Rate: 0.01\n",
            "5/5 [==============================] - 1s 120ms/step - loss: 0.1087 - accuracy: 0.9552 - val_loss: 1.7501 - val_accuracy: 0.4118\n",
            "Epoch 10/50\n",
            "Epoch: 9 Learning Rate: 0.01\n",
            "5/5 [==============================] - 1s 120ms/step - loss: 0.1026 - accuracy: 0.9552 - val_loss: 1.9953 - val_accuracy: 0.4118\n",
            "Epoch 11/50\n",
            "Epoch: 10 Learning Rate: 0.01\n",
            "5/5 [==============================] - 1s 119ms/step - loss: 0.0882 - accuracy: 0.9552 - val_loss: 2.3651 - val_accuracy: 0.3529\n",
            "Epoch 12/50\n",
            "Epoch: 11 Learning Rate: 0.01\n",
            "5/5 [==============================] - 1s 119ms/step - loss: 0.0897 - accuracy: 0.9552 - val_loss: 2.4168 - val_accuracy: 0.4118\n",
            "Epoch 13/50\n",
            "Epoch: 12 Learning Rate: 0.01\n",
            "5/5 [==============================] - 1s 119ms/step - loss: 0.0968 - accuracy: 0.9104 - val_loss: 2.3391 - val_accuracy: 0.4118\n",
            "Epoch 14/50\n",
            "Epoch: 13 Learning Rate: 0.01\n",
            "5/5 [==============================] - 1s 121ms/step - loss: 0.0788 - accuracy: 0.9552 - val_loss: 2.2518 - val_accuracy: 0.4118\n",
            "Epoch 15/50\n",
            "Epoch: 14 Learning Rate: 0.01\n",
            "5/5 [==============================] - 1s 120ms/step - loss: 0.0771 - accuracy: 0.9552 - val_loss: 2.1474 - val_accuracy: 0.4118\n",
            "Epoch 16/50\n",
            "Epoch: 15 Learning Rate: 0.01\n",
            "5/5 [==============================] - 1s 120ms/step - loss: 0.0766 - accuracy: 0.9552 - val_loss: 2.0863 - val_accuracy: 0.4118\n",
            "Epoch 17/50\n",
            "Epoch: 16 Learning Rate: 0.01\n",
            "5/5 [==============================] - 1s 120ms/step - loss: 0.0793 - accuracy: 0.9254 - val_loss: 1.9451 - val_accuracy: 0.4706\n",
            "Epoch 18/50\n",
            "Epoch: 17 Learning Rate: 0.01\n",
            "5/5 [==============================] - 1s 118ms/step - loss: 0.0830 - accuracy: 0.9104 - val_loss: 2.0212 - val_accuracy: 0.4706\n",
            "Epoch 19/50\n",
            "Epoch: 18 Learning Rate: 0.01\n",
            "5/5 [==============================] - 1s 120ms/step - loss: 0.0753 - accuracy: 0.9552 - val_loss: 2.0469 - val_accuracy: 0.4706\n",
            "Epoch 20/50\n",
            "Epoch: 19 Learning Rate: 0.01\n",
            "5/5 [==============================] - 1s 119ms/step - loss: 0.0757 - accuracy: 0.9403 - val_loss: 2.1224 - val_accuracy: 0.4118\n",
            "Epoch 21/50\n",
            "Epoch: 20 Learning Rate: 0.01\n",
            "5/5 [==============================] - 1s 123ms/step - loss: 0.0740 - accuracy: 0.9552 - val_loss: 2.0596 - val_accuracy: 0.4706\n",
            "Epoch 22/50\n",
            "Epoch: 21 Learning Rate: 0.01\n",
            "5/5 [==============================] - 1s 122ms/step - loss: 0.0751 - accuracy: 0.9552 - val_loss: 2.0383 - val_accuracy: 0.4118\n",
            "Epoch 23/50\n",
            "Epoch: 22 Learning Rate: 0.01\n",
            "5/5 [==============================] - 1s 120ms/step - loss: 0.0722 - accuracy: 0.9552 - val_loss: 2.0736 - val_accuracy: 0.4118\n",
            "Epoch 24/50\n",
            "Epoch: 23 Learning Rate: 0.01\n",
            "5/5 [==============================] - 1s 119ms/step - loss: 0.0721 - accuracy: 0.9552 - val_loss: 2.1116 - val_accuracy: 0.4118\n",
            "Epoch 25/50\n",
            "Epoch: 24 Learning Rate: 0.01\n",
            "5/5 [==============================] - 1s 121ms/step - loss: 0.0747 - accuracy: 0.9552 - val_loss: 2.1463 - val_accuracy: 0.4118\n",
            "Epoch 26/50\n",
            "Epoch: 25 Learning Rate: 0.01\n",
            "5/5 [==============================] - 1s 122ms/step - loss: 0.0690 - accuracy: 0.9552 - val_loss: 2.1293 - val_accuracy: 0.4706\n",
            "Epoch 27/50\n",
            "Epoch: 26 Learning Rate: 0.01\n",
            "5/5 [==============================] - 1s 120ms/step - loss: 0.0713 - accuracy: 0.9552 - val_loss: 2.1193 - val_accuracy: 0.4706\n",
            "Epoch 28/50\n",
            "Epoch: 27 Learning Rate: 0.01\n",
            "5/5 [==============================] - 1s 120ms/step - loss: 0.0790 - accuracy: 0.9403 - val_loss: 2.1618 - val_accuracy: 0.4706\n",
            "Epoch 29/50\n",
            "Epoch: 28 Learning Rate: 0.01\n",
            "5/5 [==============================] - 1s 119ms/step - loss: 0.0786 - accuracy: 0.9403 - val_loss: 2.2295 - val_accuracy: 0.4706\n",
            "Epoch 30/50\n",
            "Epoch: 29 Learning Rate: 0.01\n",
            "5/5 [==============================] - 1s 119ms/step - loss: 0.0723 - accuracy: 0.9552 - val_loss: 2.2010 - val_accuracy: 0.4118\n",
            "Epoch 31/50\n",
            "Epoch: 30 Learning Rate: 0.01\n",
            "5/5 [==============================] - 1s 120ms/step - loss: 0.0727 - accuracy: 0.9552 - val_loss: 2.2117 - val_accuracy: 0.4118\n",
            "Epoch 32/50\n",
            "Epoch: 31 Learning Rate: 0.0091\n",
            "5/5 [==============================] - 1s 123ms/step - loss: 0.0715 - accuracy: 0.9552 - val_loss: 2.2152 - val_accuracy: 0.4118\n",
            "Epoch 33/50\n",
            "Epoch: 32 Learning Rate: 0.00865\n",
            "5/5 [==============================] - 1s 121ms/step - loss: 0.0730 - accuracy: 0.9403 - val_loss: 2.2593 - val_accuracy: 0.4118\n",
            "Epoch 34/50\n",
            "Epoch: 33 Learning Rate: 0.0082\n",
            "5/5 [==============================] - 1s 121ms/step - loss: 0.0719 - accuracy: 0.9552 - val_loss: 2.2945 - val_accuracy: 0.4118\n",
            "Epoch 35/50\n",
            "Epoch: 34 Learning Rate: 0.00775\n",
            "5/5 [==============================] - 1s 121ms/step - loss: 0.0714 - accuracy: 0.9552 - val_loss: 2.3036 - val_accuracy: 0.4118\n",
            "Epoch 36/50\n",
            "Epoch: 35 Learning Rate: 0.0073\n",
            "5/5 [==============================] - 1s 119ms/step - loss: 0.0726 - accuracy: 0.9403 - val_loss: 2.3345 - val_accuracy: 0.4118\n",
            "Epoch 37/50\n",
            "Epoch: 36 Learning Rate: 0.00685\n",
            "5/5 [==============================] - 1s 118ms/step - loss: 0.0725 - accuracy: 0.9403 - val_loss: 2.3568 - val_accuracy: 0.4118\n",
            "Epoch 38/50\n",
            "Epoch: 37 Learning Rate: 0.0063999999999999994\n",
            "5/5 [==============================] - 1s 119ms/step - loss: 0.0733 - accuracy: 0.9552 - val_loss: 2.3119 - val_accuracy: 0.4118\n",
            "Epoch 39/50\n",
            "Epoch: 38 Learning Rate: 0.0059499999999999996\n",
            "5/5 [==============================] - 1s 121ms/step - loss: 0.0720 - accuracy: 0.9552 - val_loss: 2.2964 - val_accuracy: 0.4118\n",
            "Epoch 40/50\n",
            "Epoch: 39 Learning Rate: 0.0055\n",
            "5/5 [==============================] - 1s 120ms/step - loss: 0.0707 - accuracy: 0.9552 - val_loss: 2.3237 - val_accuracy: 0.4118\n",
            "Epoch 41/50\n",
            "Epoch: 40 Learning Rate: 0.00505\n",
            "5/5 [==============================] - 1s 119ms/step - loss: 0.0697 - accuracy: 0.9701 - val_loss: 2.3308 - val_accuracy: 0.4118\n",
            "Epoch 42/50\n",
            "Epoch: 41 Learning Rate: 0.0046\n",
            "5/5 [==============================] - 1s 121ms/step - loss: 0.0707 - accuracy: 0.9552 - val_loss: 2.3432 - val_accuracy: 0.4118\n",
            "Epoch 43/50\n",
            "Epoch: 42 Learning Rate: 0.004149999999999999\n",
            "5/5 [==============================] - 1s 120ms/step - loss: 0.0709 - accuracy: 0.9552 - val_loss: 2.3492 - val_accuracy: 0.4118\n",
            "Epoch 44/50\n",
            "Epoch: 43 Learning Rate: 0.0037\n",
            "5/5 [==============================] - 1s 120ms/step - loss: 0.0719 - accuracy: 0.9552 - val_loss: 2.3585 - val_accuracy: 0.4118\n",
            "Epoch 45/50\n",
            "Epoch: 44 Learning Rate: 0.0032499999999999994\n",
            "5/5 [==============================] - 1s 119ms/step - loss: 0.0721 - accuracy: 0.9552 - val_loss: 2.3675 - val_accuracy: 0.4118\n",
            "Epoch 46/50\n",
            "Epoch: 45 Learning Rate: 0.0027999999999999995\n",
            "5/5 [==============================] - 1s 119ms/step - loss: 0.0720 - accuracy: 0.9552 - val_loss: 2.3684 - val_accuracy: 0.4118\n",
            "Epoch 47/50\n",
            "Epoch: 46 Learning Rate: 0.002349999999999999\n",
            "5/5 [==============================] - 1s 120ms/step - loss: 0.0712 - accuracy: 0.9552 - val_loss: 2.3700 - val_accuracy: 0.4118\n",
            "Epoch 48/50\n",
            "Epoch: 47 Learning Rate: 0.001899999999999999\n",
            "5/5 [==============================] - 1s 119ms/step - loss: 0.0711 - accuracy: 0.9552 - val_loss: 2.3720 - val_accuracy: 0.4118\n",
            "Epoch 49/50\n",
            "Epoch: 48 Learning Rate: 0.00145\n",
            "5/5 [==============================] - 1s 118ms/step - loss: 0.0710 - accuracy: 0.9552 - val_loss: 2.3721 - val_accuracy: 0.4118\n",
            "Epoch 50/50\n",
            "Epoch: 49 Learning Rate: 0.0009999999999999992\n",
            "5/5 [==============================] - 1s 122ms/step - loss: 0.0711 - accuracy: 0.9552 - val_loss: 2.3717 - val_accuracy: 0.4118\n"
          ]
        }
      ]
    },
    {
      "cell_type": "markdown",
      "metadata": {
        "id": "KGzWMm4694k8"
      },
      "source": [
        "### Plot"
      ]
    },
    {
      "cell_type": "code",
      "metadata": {
        "colab": {
          "background_save": true
        },
        "id": "8GJVB63gqk0I",
        "outputId": "6f1b8258-d8e3-4867-8242-dc1aba479fa7"
      },
      "source": [
        "# list all data in history\n",
        "print(hist.history.keys())\n",
        "# summarize history for accuracy\n",
        "plt.plot(hist.history['accuracy'])\n",
        "plt.plot(hist.history['val_accuracy'])\n",
        "plt.title('model accuracy')\n",
        "plt.ylabel('accuracy')\n",
        "plt.xlabel('epoch')\n",
        "plt.legend(['train', 'validation'], loc='upper left')\n",
        "plt.show()\n",
        "# summarize history for loss\n",
        "plt.plot(hist.history['loss'])\n",
        "plt.plot(hist.history['val_loss'])\n",
        "plt.title('model loss')\n",
        "plt.ylabel('loss')\n",
        "plt.xlabel('epoch')\n",
        "plt.legend(['train', 'validation'], loc='upper left')\n",
        "plt.show()"
      ],
      "execution_count": null,
      "outputs": [
        {
          "name": "stdout",
          "output_type": "stream",
          "text": [
            "dict_keys(['loss', 'accuracy', 'val_loss', 'val_accuracy', 'lr'])\n"
          ]
        },
        {
          "data": {
            "image/png": "[encoded data removed]",
            "text/plain": [
              "<Figure size 432x288 with 1 Axes>"
            ]
          },
          "metadata": {},
          "output_type": "display_data"
        },
        {
          "data": {
            "image/png": "[encoded data removed]",
            "text/plain": [
              "<Figure size 432x288 with 1 Axes>"
            ]
          },
          "metadata": {},
          "output_type": "display_data"
        }
      ]
    },
    {
      "cell_type": "markdown",
      "metadata": {
        "id": "d_yU0h5N98NV"
      },
      "source": [
        "### Final Evaluation"
      ]
    },
    {
      "cell_type": "code",
      "metadata": {
        "colab": {
          "base_uri": "https://localhost:8080/"
        },
        "id": "ETUtjC0gq8ct",
        "outputId": "06c04650-6aca-4310-ad14-00a16a17b368"
      },
      "source": [
        "print(\"Evaluation on Unseen Dataset:\")\n",
        "\n",
        "x_test = np.concatenate((samples_unseen, resp_samples_unseen), axis=1)\n",
        "# print(x_test[1])\n",
        "\n",
        "model.evaluate(x_test, y_unseen)\n",
        "y_hat = model.predict(x_test)\n",
        "\n",
        "y_pred = np.argmax(y_hat, axis=1)\n",
        "y_true = np.argmax(y_unseen, axis=1)\n",
        "# print(y_pred[0],\"ddddd\",y_unseen[0])\n",
        "\n",
        "my_precision = precision_score(y_true, y_pred)\n",
        "my_recal = recall_score(y_true, y_pred)\n",
        "my_f1 = f1_score(y_true, y_pred)\n",
        "print(accuracy_score(y_true,y_pred))\n",
        "print(\"Precision:\", my_precision, \"Recall:\", my_recal, \"f1 score:\", my_f1)"
      ],
      "execution_count": 62,
      "outputs": [
        {
          "output_type": "stream",
          "name": "stdout",
          "text": [
            "Evaluation on Unseen Dataset:\n",
            "5/5 [==============================] - 0s 53ms/step - loss: 1.9855 - accuracy: 0.4933\n",
            "0.49333333333333335\n",
            "Precision: 0.734375 Recall: 0.44339622641509435 f1 score: 0.5529411764705883\n"
          ]
        }
      ]
    },
    {
      "cell_type": "code",
      "metadata": {
        "id": "H2PgAsf8rU6k"
      },
      "source": [
        ""
      ],
      "execution_count": null,
      "outputs": []
    }
  ]
}